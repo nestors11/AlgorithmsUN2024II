{
  "cells": [
    {
      "cell_type": "code",
      "execution_count": 1,
      "metadata": {
        "id": "im-VVd1__7VU",
        "colab": {
          "base_uri": "https://localhost:8080/"
        },
        "outputId": "7e28edf4-5154-47b3-85d3-8e774e56ea4f"
      },
      "outputs": [
        {
          "output_type": "stream",
          "name": "stdout",
          "text": [
            "processor\t: 0\n",
            "vendor_id\t: GenuineIntel\n",
            "cpu family\t: 6\n",
            "model\t\t: 79\n",
            "model name\t: Intel(R) Xeon(R) CPU @ 2.20GHz\n",
            "stepping\t: 0\n",
            "microcode\t: 0xffffffff\n",
            "cpu MHz\t\t: 2199.998\n",
            "cache size\t: 56320 KB\n",
            "physical id\t: 0\n",
            "siblings\t: 2\n",
            "core id\t\t: 0\n",
            "cpu cores\t: 1\n",
            "apicid\t\t: 0\n",
            "initial apicid\t: 0\n",
            "fpu\t\t: yes\n",
            "fpu_exception\t: yes\n",
            "cpuid level\t: 13\n",
            "wp\t\t: yes\n",
            "flags\t\t: fpu vme de pse tsc msr pae mce cx8 apic sep mtrr pge mca cmov pat pse36 clflush mmx fxsr sse sse2 ss ht syscall nx pdpe1gb rdtscp lm constant_tsc rep_good nopl xtopology nonstop_tsc cpuid tsc_known_freq pni pclmulqdq ssse3 fma cx16 pcid sse4_1 sse4_2 x2apic movbe popcnt aes xsave avx f16c rdrand hypervisor lahf_lm abm 3dnowprefetch invpcid_single ssbd ibrs ibpb stibp fsgsbase tsc_adjust bmi1 hle avx2 smep bmi2 erms invpcid rtm rdseed adx smap xsaveopt arat md_clear arch_capabilities\n",
            "bugs\t\t: cpu_meltdown spectre_v1 spectre_v2 spec_store_bypass l1tf mds swapgs taa mmio_stale_data retbleed bhi\n",
            "bogomips\t: 4399.99\n",
            "clflush size\t: 64\n",
            "cache_alignment\t: 64\n",
            "address sizes\t: 46 bits physical, 48 bits virtual\n",
            "power management:\n",
            "\n",
            "processor\t: 1\n",
            "vendor_id\t: GenuineIntel\n",
            "cpu family\t: 6\n",
            "model\t\t: 79\n",
            "model name\t: Intel(R) Xeon(R) CPU @ 2.20GHz\n",
            "stepping\t: 0\n",
            "microcode\t: 0xffffffff\n",
            "cpu MHz\t\t: 2199.998\n",
            "cache size\t: 56320 KB\n",
            "physical id\t: 0\n",
            "siblings\t: 2\n",
            "core id\t\t: 0\n",
            "cpu cores\t: 1\n",
            "apicid\t\t: 1\n",
            "initial apicid\t: 1\n",
            "fpu\t\t: yes\n",
            "fpu_exception\t: yes\n",
            "cpuid level\t: 13\n",
            "wp\t\t: yes\n",
            "flags\t\t: fpu vme de pse tsc msr pae mce cx8 apic sep mtrr pge mca cmov pat pse36 clflush mmx fxsr sse sse2 ss ht syscall nx pdpe1gb rdtscp lm constant_tsc rep_good nopl xtopology nonstop_tsc cpuid tsc_known_freq pni pclmulqdq ssse3 fma cx16 pcid sse4_1 sse4_2 x2apic movbe popcnt aes xsave avx f16c rdrand hypervisor lahf_lm abm 3dnowprefetch invpcid_single ssbd ibrs ibpb stibp fsgsbase tsc_adjust bmi1 hle avx2 smep bmi2 erms invpcid rtm rdseed adx smap xsaveopt arat md_clear arch_capabilities\n",
            "bugs\t\t: cpu_meltdown spectre_v1 spectre_v2 spec_store_bypass l1tf mds swapgs taa mmio_stale_data retbleed bhi\n",
            "bogomips\t: 4399.99\n",
            "clflush size\t: 64\n",
            "cache_alignment\t: 64\n",
            "address sizes\t: 46 bits physical, 48 bits virtual\n",
            "power management:\n",
            "\n"
          ]
        }
      ],
      "source": [
        "!cat /proc/cpuinfo"
      ]
    },
    {
      "cell_type": "markdown",
      "metadata": {
        "id": "N1ok_-56OjB1"
      },
      "source": [
        "# I Solving the Sum of Two Digits Programming Challenge"
      ]
    },
    {
      "cell_type": "markdown",
      "metadata": {
        "id": "MMY7kmDSO0KM"
      },
      "source": [
        "## C++"
      ]
    },
    {
      "cell_type": "code",
      "execution_count": 2,
      "metadata": {
        "colab": {
          "base_uri": "https://localhost:8080/"
        },
        "id": "2pGGf9BkPNIk",
        "outputId": "d97e9cee-3c1c-4515-8dbe-2e219b1fd549"
      },
      "outputs": [
        {
          "output_type": "stream",
          "name": "stdout",
          "text": [
            "Overwriting APlusB.cpp\n"
          ]
        }
      ],
      "source": [
        "%%writefile APlusB.cpp\n",
        "#include <iostream>\n",
        "\n",
        "int sum_of_two_digits(int first_digit, int second_digit) {\n",
        "    return first_digit + second_digit;\n",
        "}\n",
        "\n",
        "int main() {\n",
        "    int a = 0;\n",
        "    int b = 0;\n",
        "    std::cin >> a;\n",
        "    std::cin >> b;\n",
        "    std::cout << sum_of_two_digits(a, b);\n",
        "    return 0;\n",
        "}"
      ]
    },
    {
      "cell_type": "code",
      "execution_count": 7,
      "metadata": {
        "colab": {
          "base_uri": "https://localhost:8080/"
        },
        "id": "0G3ZKOYAPXSU",
        "outputId": "2bc79dcd-0390-4850-ec90-b72d166cb0d0"
      },
      "outputs": [
        {
          "output_type": "stream",
          "name": "stdout",
          "text": [
            "^C\n"
          ]
        }
      ],
      "source": [
        "!g++ APlusB.cpp -o APlusB -std=c++11\n",
        "!./APlusB"
      ]
    },
    {
      "cell_type": "markdown",
      "metadata": {
        "id": "iNkG2HqfTl9c"
      },
      "source": [
        "### Test input output files"
      ]
    },
    {
      "cell_type": "code",
      "execution_count": 5,
      "metadata": {
        "colab": {
          "base_uri": "https://localhost:8080/"
        },
        "id": "aTzU2efzMxly",
        "outputId": "314df8a8-80b0-479a-87a0-c5fb28bb0767"
      },
      "outputs": [
        {
          "output_type": "stream",
          "name": "stdout",
          "text": [
            "Overwriting input1.txt\n"
          ]
        }
      ],
      "source": [
        "%%writefile input1.txt\n",
        "4 8"
      ]
    },
    {
      "cell_type": "code",
      "execution_count": 6,
      "metadata": {
        "colab": {
          "base_uri": "https://localhost:8080/"
        },
        "id": "zBJ0Gc0NQRet",
        "outputId": "9d4cfcd5-424d-412a-93bb-baff4a26659e"
      },
      "outputs": [
        {
          "output_type": "stream",
          "name": "stdout",
          "text": [
            "Writing output1.txt\n"
          ]
        }
      ],
      "source": [
        "%%writefile output1.txt\n",
        "12"
      ]
    },
    {
      "cell_type": "code",
      "execution_count": 8,
      "metadata": {
        "colab": {
          "base_uri": "https://localhost:8080/"
        },
        "id": "IjEcIx63PJAN",
        "outputId": "fc9ba0ed-b47b-48ad-eead-780476b36dd7"
      },
      "outputs": [
        {
          "output_type": "stream",
          "name": "stdout",
          "text": [
            "Writing input2.txt\n"
          ]
        }
      ],
      "source": [
        "%%writefile input2.txt\n",
        "0 9"
      ]
    },
    {
      "cell_type": "code",
      "execution_count": 9,
      "metadata": {
        "colab": {
          "base_uri": "https://localhost:8080/"
        },
        "id": "Up9gOrxURTmd",
        "outputId": "7044ff32-bd15-499b-e1c7-7fe71f6ed457"
      },
      "outputs": [
        {
          "output_type": "stream",
          "name": "stdout",
          "text": [
            "Writing output2.txt\n"
          ]
        }
      ],
      "source": [
        "%%writefile output2.txt\n",
        "9"
      ]
    },
    {
      "cell_type": "code",
      "execution_count": 10,
      "metadata": {
        "colab": {
          "base_uri": "https://localhost:8080/"
        },
        "id": "PST6G-s-Pwgc",
        "outputId": "f3f8edb2-7550-4170-c51c-41cc665c0690"
      },
      "outputs": [
        {
          "output_type": "stream",
          "name": "stdout",
          "text": [
            "12"
          ]
        }
      ],
      "source": [
        "!./APlusB < input1.txt"
      ]
    },
    {
      "cell_type": "code",
      "execution_count": 11,
      "metadata": {
        "colab": {
          "base_uri": "https://localhost:8080/"
        },
        "id": "cKxZOjSlRfIN",
        "outputId": "24b96b14-dbd5-4796-8187-0d7352eede45"
      },
      "outputs": [
        {
          "output_type": "stream",
          "name": "stdout",
          "text": [
            "9"
          ]
        }
      ],
      "source": [
        "!./APlusB < input2.txt"
      ]
    },
    {
      "cell_type": "markdown",
      "metadata": {
        "id": "Qw2TQWCCUwqk"
      },
      "source": [
        "### Comparing files with grep\n",
        "\n",
        "https://askubuntu.com/questions/546796/comparing-two-text-files"
      ]
    },
    {
      "cell_type": "code",
      "source": [
        "!grep -xvFf output2.txt output1.txt"
      ],
      "metadata": {
        "colab": {
          "base_uri": "https://localhost:8080/"
        },
        "id": "w6UEBTaCA0LQ",
        "outputId": "d5455cfd-52e4-4a7b-9f99-d322b1d93e0a"
      },
      "execution_count": 15,
      "outputs": [
        {
          "output_type": "stream",
          "name": "stdout",
          "text": [
            "12\n"
          ]
        }
      ]
    },
    {
      "cell_type": "code",
      "source": [
        "!grep -xvFf output1.txt output2.txt"
      ],
      "metadata": {
        "colab": {
          "base_uri": "https://localhost:8080/"
        },
        "id": "p2EA5v-6AxJO",
        "outputId": "a4d15151-d2a7-485c-8bd3-87fd06d455f9"
      },
      "execution_count": 14,
      "outputs": [
        {
          "output_type": "stream",
          "name": "stdout",
          "text": [
            "9\n"
          ]
        }
      ]
    },
    {
      "cell_type": "code",
      "execution_count": 12,
      "metadata": {
        "id": "Jlja0Xm4TX9M"
      },
      "outputs": [],
      "source": [
        "!./APlusB < input1.txt> ctest1.txt\n",
        "!grep -xvFf output1.txt ctest1.txt"
      ]
    },
    {
      "cell_type": "code",
      "execution_count": 13,
      "metadata": {
        "id": "g9OIUZA_QLCQ"
      },
      "outputs": [],
      "source": [
        "!./APlusB < input2.txt > ctest2.txt\n",
        "!grep -xvFf output2.txt ctest2.txt"
      ]
    },
    {
      "cell_type": "markdown",
      "metadata": {
        "id": "3BgOaDjUVJk6"
      },
      "source": [
        "## Python"
      ]
    },
    {
      "cell_type": "code",
      "execution_count": 16,
      "metadata": {
        "colab": {
          "base_uri": "https://localhost:8080/"
        },
        "id": "DBvl-T0CTN_8",
        "outputId": "946bec0a-447a-4a03-a2d4-6f1c7c403c8b"
      },
      "outputs": [
        {
          "output_type": "stream",
          "name": "stdout",
          "text": [
            "Writing sum.py\n"
          ]
        }
      ],
      "source": [
        "%%writefile sum.py\n",
        "# python3\n",
        "\n",
        "def sum_of_two_digits(first_digit, second_digit):\n",
        "    return first_digit + second_digit\n",
        "\n",
        "if __name__ == '__main__':\n",
        "    a, b = map(int, input().split())\n",
        "    print(sum_of_two_digits(a, b))"
      ]
    },
    {
      "cell_type": "code",
      "execution_count": 18,
      "metadata": {
        "colab": {
          "base_uri": "https://localhost:8080/"
        },
        "id": "QKoKM11_WGyF",
        "outputId": "bfa0d3e3-fee4-4994-da94-66819103a348"
      },
      "outputs": [
        {
          "output_type": "stream",
          "name": "stdout",
          "text": [
            "4 8\n",
            "12\n"
          ]
        }
      ],
      "source": [
        "%run sum.py"
      ]
    },
    {
      "cell_type": "code",
      "execution_count": 19,
      "metadata": {
        "id": "cocFbPRTWrqt"
      },
      "outputs": [],
      "source": [
        "!python sum.py  < input1.txt> ptest1.txt\n",
        "!grep -xvFf output1.txt ptest1.txt"
      ]
    },
    {
      "cell_type": "code",
      "execution_count": 20,
      "metadata": {
        "id": "MorKTa-XXASN"
      },
      "outputs": [],
      "source": [
        "!python sum.py  < input2.txt> ptest2.txt\n",
        "!grep -xvFf output2.txt ptest2.txt"
      ]
    },
    {
      "cell_type": "markdown",
      "metadata": {
        "id": "uvP-mOubW_5F"
      },
      "source": [
        "# II Solving The Maximum Pairwise Product Programming Challenge in C++"
      ]
    },
    {
      "cell_type": "markdown",
      "metadata": {
        "id": "C12yoFR6Xonl"
      },
      "source": [
        "## C++\n",
        "\n",
        "$$ T(n) < 6 n^2 = O(n^2)$$"
      ]
    },
    {
      "cell_type": "code",
      "source": [
        "%%writefile max_pairwise_product_full.cpp\n",
        "#include <iostream>\n",
        "#include <vector>\n",
        "#include <algorithm>\n",
        "\n",
        "int MaxPairwiseProduct(const std::vector<int>& numbers) {\n",
        "    int max_product = 0;\n",
        "    int aux_product = 0;\n",
        "    int n = numbers.size();\n",
        "\n",
        "    for (int first = 0; first < n; ++first) {\n",
        "        for (int second = 0; second < n; ++second) {\n",
        "          if ( first != second ){\n",
        "                aux_product = numbers[first] * numbers[second];\n",
        "                if (aux_product > max_product)  max_product = aux_product;\n",
        "          }\n",
        "        }\n",
        "    }\n",
        "\n",
        "    return max_product;\n",
        "}\n",
        "\n",
        "int main() {\n",
        "    int n;\n",
        "    std::cin >> n;\n",
        "    std::vector<int> numbers(n);\n",
        "    for (int i = 0; i < n; ++i) {\n",
        "        std::cin >> numbers[i];\n",
        "    }\n",
        "\n",
        "    std::cout << MaxPairwiseProduct(numbers) << \"\\n\";\n",
        "    return 0;\n",
        "}"
      ],
      "metadata": {
        "colab": {
          "base_uri": "https://localhost:8080/"
        },
        "id": "3LpfoGv2Ae81",
        "outputId": "ce4bff24-3e47-49a6-8708-43160eb34315"
      },
      "execution_count": 21,
      "outputs": [
        {
          "output_type": "stream",
          "name": "stdout",
          "text": [
            "Writing max_pairwise_product_full.cpp\n"
          ]
        }
      ]
    },
    {
      "cell_type": "markdown",
      "metadata": {
        "id": "m75IQQPbEHBS"
      },
      "source": [
        "#### Time Complexity\n",
        "$$\\left. \\begin{array}{llc}\n",
        " \\text{INSTRUCTION} & \\text{TYPE}& \\text{# EXECUTIONS}\\\\\n",
        "\\text{first != second} &  \\text{comparisons} &n^2 \\\\\n",
        "\\text{numbers[first] * numbers[second]}& \\ \\text{ products}  &n^2 - n \\\\\n",
        "\\text{max_product = aux_product} &  \\text{assigments} & [1, \\frac{n^2 - n}{2})  \n",
        "\\end{array}\\right\\}  =  O(n^2)$$"
      ]
    },
    {
      "cell_type": "code",
      "source": [
        "!g++ max_pairwise_product_full.cpp -o max_pairwise_product_full\n",
        "!./max_pairwise_product_full"
      ],
      "metadata": {
        "id": "PCVo1h6nCF9k",
        "colab": {
          "base_uri": "https://localhost:8080/"
        },
        "outputId": "7265ae81-cae7-4696-b5b2-b1a7885c16ac"
      },
      "execution_count": 23,
      "outputs": [
        {
          "output_type": "stream",
          "name": "stdout",
          "text": [
            "^C\n"
          ]
        }
      ]
    },
    {
      "cell_type": "markdown",
      "metadata": {
        "id": "e7KhxHGNS3i0"
      },
      "source": [
        "### Test 1: Small numbers"
      ]
    },
    {
      "cell_type": "code",
      "source": [
        "%%writefile input0.txt\n",
        "10\n",
        "0 0 0 0 0 0 0 0 0 0"
      ],
      "metadata": {
        "colab": {
          "base_uri": "https://localhost:8080/"
        },
        "id": "17npyXt7lYzA",
        "outputId": "4bbc21d2-27ed-4b24-a532-eb044bf49bd8"
      },
      "execution_count": 24,
      "outputs": [
        {
          "output_type": "stream",
          "name": "stdout",
          "text": [
            "Writing input0.txt\n"
          ]
        }
      ]
    },
    {
      "cell_type": "code",
      "source": [
        "%%writefile output0.txt\n",
        "0"
      ],
      "metadata": {
        "colab": {
          "base_uri": "https://localhost:8080/"
        },
        "id": "NooGEkJylezm",
        "outputId": "eb301258-5290-4f0b-8829-187315062c8d"
      },
      "execution_count": 25,
      "outputs": [
        {
          "output_type": "stream",
          "name": "stdout",
          "text": [
            "Writing output0.txt\n"
          ]
        }
      ]
    },
    {
      "cell_type": "code",
      "source": [
        "!./max_pairwise_product_full< input0.txt > ctest0.txt\n",
        "!grep -xvFf output0.txt ctest0.txt"
      ],
      "metadata": {
        "id": "R0yFaAOrlqrE"
      },
      "execution_count": 26,
      "outputs": []
    },
    {
      "cell_type": "code",
      "execution_count": 27,
      "metadata": {
        "colab": {
          "base_uri": "https://localhost:8080/"
        },
        "id": "e1mmTzBgShT-",
        "outputId": "6420657d-3a13-4922-ae26-8ace0e2905a5"
      },
      "outputs": [
        {
          "output_type": "stream",
          "name": "stdout",
          "text": [
            "Overwriting input1.txt\n"
          ]
        }
      ],
      "source": [
        "%%writefile input1.txt\n",
        "10\n",
        "1 2 3 4 5 6 7 8 9 10"
      ]
    },
    {
      "cell_type": "code",
      "execution_count": 28,
      "metadata": {
        "colab": {
          "base_uri": "https://localhost:8080/"
        },
        "id": "vy_uI0x7TCId",
        "outputId": "789ce86f-7c4d-47ec-82f5-81ba5838af0c"
      },
      "outputs": [
        {
          "output_type": "stream",
          "name": "stdout",
          "text": [
            "/bin/bash: line 1: ./max_pairwise_product: No such file or directory\n"
          ]
        }
      ],
      "source": [
        "!./max_pairwise_product < input1.txt"
      ]
    },
    {
      "cell_type": "code",
      "execution_count": 29,
      "metadata": {
        "colab": {
          "base_uri": "https://localhost:8080/"
        },
        "id": "xaj6f9bxC6D6",
        "outputId": "c530c5f3-a08a-4008-fde4-0885fa138154"
      },
      "outputs": [
        {
          "output_type": "stream",
          "name": "stdout",
          "text": [
            "Overwriting output1.txt\n"
          ]
        }
      ],
      "source": [
        "%%writefile output1.txt\n",
        "90"
      ]
    },
    {
      "cell_type": "code",
      "execution_count": 30,
      "metadata": {
        "id": "fYCjAdA_C-wy"
      },
      "outputs": [],
      "source": [
        "!./max_pairwise_product_full< input1.txt > ctest1.txt\n",
        "!grep -xvFf output1.txt ctest1.txt"
      ]
    },
    {
      "cell_type": "code",
      "source": [
        "%%writefile input2.txt\n",
        "10\n",
        "10 9 8 7 6 5 4 3 2 1"
      ],
      "metadata": {
        "colab": {
          "base_uri": "https://localhost:8080/"
        },
        "id": "ZPe40LY14_6f",
        "outputId": "90e273c0-e111-408e-ad8b-e57300e907c8"
      },
      "execution_count": 31,
      "outputs": [
        {
          "output_type": "stream",
          "name": "stdout",
          "text": [
            "Overwriting input2.txt\n"
          ]
        }
      ]
    },
    {
      "cell_type": "code",
      "source": [
        "%%writefile output2.txt\n",
        "90"
      ],
      "metadata": {
        "colab": {
          "base_uri": "https://localhost:8080/"
        },
        "id": "xiHmF7HA5Faa",
        "outputId": "526dfcdc-0ffb-4684-c31b-c8b93e72dd84"
      },
      "execution_count": 32,
      "outputs": [
        {
          "output_type": "stream",
          "name": "stdout",
          "text": [
            "Overwriting output2.txt\n"
          ]
        }
      ]
    },
    {
      "cell_type": "code",
      "source": [
        "!./max_pairwise_product_full< input2.txt > ctest2.txt\n",
        "!grep -xvFf output2.txt ctest2.txt"
      ],
      "metadata": {
        "id": "jjwc9kwb5t_k"
      },
      "execution_count": 33,
      "outputs": []
    },
    {
      "cell_type": "markdown",
      "metadata": {
        "id": "IeZ3kTjpYmR9"
      },
      "source": [
        "### Test 2: largest input numbers 200000 200000 to check possible intger overflow"
      ]
    },
    {
      "cell_type": "code",
      "execution_count": 34,
      "metadata": {
        "colab": {
          "base_uri": "https://localhost:8080/"
        },
        "id": "LQNlZqaqYt7U",
        "outputId": "c58100ae-d585-4c50-a47e-5f5e05ec2a7e"
      },
      "outputs": [
        {
          "output_type": "stream",
          "name": "stdout",
          "text": [
            "Writing input3.txt\n"
          ]
        }
      ],
      "source": [
        "%%writefile input3.txt\n",
        "6\n",
        "1 3 200000 9 200000 23"
      ]
    },
    {
      "cell_type": "code",
      "execution_count": 35,
      "metadata": {
        "colab": {
          "base_uri": "https://localhost:8080/"
        },
        "id": "GjQq7QOUCw-9",
        "outputId": "d1e089d7-7536-4d66-e042-4afb3f124884"
      },
      "outputs": [
        {
          "output_type": "execute_result",
          "data": {
            "text/plain": [
              "40000000000"
            ]
          },
          "metadata": {},
          "execution_count": 35
        }
      ],
      "source": [
        "200000*200000"
      ]
    },
    {
      "cell_type": "code",
      "execution_count": 36,
      "metadata": {
        "colab": {
          "base_uri": "https://localhost:8080/"
        },
        "id": "EuS6n3jtDK5C",
        "outputId": "b9c0721a-7c15-4cd4-f037-2214879f70a6"
      },
      "outputs": [
        {
          "output_type": "stream",
          "name": "stdout",
          "text": [
            "Writing output3.txt\n"
          ]
        }
      ],
      "source": [
        "%%writefile output3.txt\n",
        "40000000000"
      ]
    },
    {
      "cell_type": "code",
      "execution_count": 37,
      "metadata": {
        "colab": {
          "base_uri": "https://localhost:8080/"
        },
        "id": "2Wad2VZUZDxR",
        "outputId": "b9895275-5fa8-4f9c-fb5f-f25616e3ecfc"
      },
      "outputs": [
        {
          "output_type": "stream",
          "name": "stdout",
          "text": [
            "1345294336\n"
          ]
        }
      ],
      "source": [
        "!./max_pairwise_product_full < input3.txt"
      ]
    },
    {
      "cell_type": "code",
      "execution_count": 38,
      "metadata": {
        "colab": {
          "base_uri": "https://localhost:8080/"
        },
        "id": "pEvp1ieyDJGq",
        "outputId": "3ed11da7-3f8c-400d-9bb0-98857dddba09"
      },
      "outputs": [
        {
          "output_type": "stream",
          "name": "stdout",
          "text": [
            "1345294336\n"
          ]
        }
      ],
      "source": [
        "!./max_pairwise_product_full < input3.txt > ctest3.txt\n",
        "!grep -xvFf output3.txt ctest3.txt"
      ]
    },
    {
      "cell_type": "code",
      "source": [
        " %%writefile run_all_test.sh\n",
        "#!/bin/bash\n",
        "g++ max_pairwise_product_full.cpp -o max_pairwise_product_full\n",
        "for i in {0..3}\n",
        "do\n",
        "    ./max_pairwise_product_full < input$i.txt > ctest$i.txt\n",
        "    grep -xvFf output$i.txt ctest$i.txt\n",
        "done"
      ],
      "metadata": {
        "colab": {
          "base_uri": "https://localhost:8080/"
        },
        "id": "SrtJrKqM-God",
        "outputId": "894fe148-326c-4b13-e233-29bee70b20e8"
      },
      "execution_count": 39,
      "outputs": [
        {
          "output_type": "stream",
          "name": "stdout",
          "text": [
            "Writing run_all_test.sh\n"
          ]
        }
      ]
    },
    {
      "cell_type": "code",
      "source": [
        "!chmod u+x run_all_test.sh\n",
        "!./run_all_test.sh"
      ],
      "metadata": {
        "colab": {
          "base_uri": "https://localhost:8080/"
        },
        "id": "wGWMHtzS-QnA",
        "outputId": "4cc83ba4-f361-4db0-f556-296a4b59c3dc"
      },
      "execution_count": 40,
      "outputs": [
        {
          "output_type": "stream",
          "name": "stdout",
          "text": [
            "1345294336\n"
          ]
        }
      ]
    },
    {
      "cell_type": "markdown",
      "metadata": {
        "id": "H2SC0Qt5HCzz"
      },
      "source": [
        "### Changing the variables to long long"
      ]
    },
    {
      "cell_type": "code",
      "execution_count": 41,
      "metadata": {
        "colab": {
          "base_uri": "https://localhost:8080/"
        },
        "id": "MPcmsxiQZSfE",
        "outputId": "93973d4e-d69f-42bd-b883-1a70b642431f"
      },
      "outputs": [
        {
          "output_type": "stream",
          "name": "stdout",
          "text": [
            "Writing max_pairwise_product_long_full.cpp\n"
          ]
        }
      ],
      "source": [
        "%%writefile max_pairwise_product_long_full.cpp\n",
        "#include <iostream>\n",
        "#include <vector>\n",
        "#include <algorithm>\n",
        "\n",
        "long long MaxPairwiseProduct(const std::vector<int>& numbers) {\n",
        "    long long max_product = 0LL;\n",
        "\t  long long aux_product = 0LL;\n",
        "    int n = numbers.size();\n",
        "\n",
        "    for (int first = 0; first < n; ++first) {\n",
        "        for (int second = 0; second < n; ++second) {\n",
        "          if ( first != second){\n",
        "                aux_product = (long long) numbers[first] * numbers[second];\n",
        "                if (aux_product > max_product)  max_product = aux_product;\n",
        "          }\n",
        "        }\n",
        "    }\n",
        "\n",
        "\n",
        "    return max_product;\n",
        "}\n",
        "\n",
        "int main() {\n",
        "    int n;\n",
        "    std::cin >> n;\n",
        "    std::vector<int> numbers(n);\n",
        "    for (int i = 0; i < n; ++i) {\n",
        "        std::cin >> numbers[i];\n",
        "    }\n",
        "\n",
        "    std::cout << MaxPairwiseProduct(numbers) << \"\\n\";\n",
        "    return 0;\n",
        "}\n"
      ]
    },
    {
      "cell_type": "code",
      "source": [
        "!g++ max_pairwise_product_long_full.cpp -o max_pairwise_product_long_full"
      ],
      "metadata": {
        "id": "W3xQpFXL6wjO"
      },
      "execution_count": 42,
      "outputs": []
    },
    {
      "cell_type": "code",
      "source": [
        "!./max_pairwise_product_long_full < input3.txt"
      ],
      "metadata": {
        "colab": {
          "base_uri": "https://localhost:8080/"
        },
        "id": "H5dvN9M3R9sV",
        "outputId": "a21448b3-f127-4c5c-ebd7-c0174695eeaa"
      },
      "execution_count": 43,
      "outputs": [
        {
          "output_type": "stream",
          "name": "stdout",
          "text": [
            "40000000000\n"
          ]
        }
      ]
    },
    {
      "cell_type": "markdown",
      "source": [
        "### Runing multuple test with a bash shell"
      ],
      "metadata": {
        "id": "gx-sEYdfQ8f8"
      }
    },
    {
      "cell_type": "code",
      "source": [
        " %%writefile run_all_test.sh\n",
        "#!/bin/bash\n",
        "g++ max_pairwise_product_long_full.cpp -o max_pairwise_product_long_full\n",
        "for i in {1..3}\n",
        "do\n",
        "    ./max_pairwise_product_long_full < input$i.txt > ctest$i.txt\n",
        "    grep -xvFf output$i.txt ctest$i.txt\n",
        "done"
      ],
      "metadata": {
        "colab": {
          "base_uri": "https://localhost:8080/"
        },
        "id": "O9qsq2nn7elw",
        "outputId": "7473da39-f59b-4aeb-cb73-a5c0028fcfa2"
      },
      "execution_count": 44,
      "outputs": [
        {
          "output_type": "stream",
          "name": "stdout",
          "text": [
            "Overwriting run_all_test.sh\n"
          ]
        }
      ]
    },
    {
      "cell_type": "code",
      "source": [
        "!chmod u+x run_all_test.sh\n",
        "!./run_all_test.sh"
      ],
      "metadata": {
        "id": "0g5kKVph7xIA"
      },
      "execution_count": 45,
      "outputs": []
    },
    {
      "cell_type": "markdown",
      "metadata": {
        "id": "XPVHkHxH6_7s"
      },
      "source": [
        "### Test 3  stress tests, 6 testing cases files input4.txt/output4.txt .. input10.txt/output10.txt\n",
        "\n",
        "---\n",
        "\n"
      ]
    },
    {
      "cell_type": "code",
      "execution_count": 53,
      "metadata": {
        "id": "PwqpBmYr69fu",
        "colab": {
          "base_uri": "https://localhost:8080/"
        },
        "outputId": "bad08e41-a1c5-4090-8401-308058e0a344"
      },
      "outputs": [
        {
          "output_type": "stream",
          "name": "stdout",
          "text": [
            "Overwriting stress_test_generator.cpp\n"
          ]
        }
      ],
      "source": [
        "%%writefile stress_test_generator.cpp\n",
        "#include <iostream>\n",
        "#include <vector>\n",
        "#include <fstream>\n",
        "#include <cstdlib> // Para rand() y srand()\n",
        "#include <ctime>   // Para seeding srand() con la hora actual\n",
        "\n",
        "using namespace std;\n",
        "\n",
        "// Función para generar un número entero aleatorio en un rango dado\n",
        "int random_int(int min, int max) {\n",
        "    return min + rand() % (max - min + 1);\n",
        "}\n",
        "\n",
        "// Función para calcular el producto máximo de dos elementos distintos de un vector\n",
        "long long MaxPairwiseProduct(const vector<int>& numbers) {\n",
        "    long long max_product = 0; // Inicializamos el máximo producto\n",
        "    int n = numbers.size();    // Obtenemos el tamaño del vector\n",
        "\n",
        "    // Comparar cada par de elementos del vector\n",
        "    for (int first = 0; first < n; ++first) {\n",
        "        for (int second = 0; second < n; ++second) {\n",
        "            if (first != second) { // Evitar multiplicar un número consigo mismo\n",
        "                long long product = static_cast<long long>(numbers[first]) * numbers[second];\n",
        "                if (product > max_product) {\n",
        "                    max_product = product; // Actualizar si encontramos un producto mayor\n",
        "                }\n",
        "            }\n",
        "        }\n",
        "    }\n",
        "\n",
        "    return max_product;\n",
        "}\n",
        "\n",
        "// Función para generar archivos de pruebas de estrés\n",
        "void generate_stress_test(int start_index, int num_tests, int min_size, int max_size, int min_value, int max_value) {\n",
        "    srand(time(nullptr)); // Inicializamos la semilla de números aleatorios\n",
        "\n",
        "    // Generar 'num_tests' archivos de entrada y salida\n",
        "    for (int i = start_index; i < start_index + num_tests; ++i) {\n",
        "        int n = random_int(min_size, max_size); // Tamaño aleatorio para el vector\n",
        "\n",
        "        // Crear el archivo de entrada\n",
        "        ofstream input_file(\"input\" + to_string(i) + \".txt\");\n",
        "        input_file << n << \"\\n\"; // Escribimos el tamaño del vector\n",
        "\n",
        "        vector<int> a(n);\n",
        "        for (int j = 0; j < n; ++j) {\n",
        "            a[j] = random_int(min_value, max_value); // Generamos valores aleatorios para el vector\n",
        "            input_file << a[j] << \" \";              // Escribimos cada valor en el archivo\n",
        "        }\n",
        "        input_file << \"\\n\"; // Nueva línea al final del archivo\n",
        "        input_file.close(); // Cerramos el archivo de entrada\n",
        "\n",
        "        // Crear el archivo de salida con el resultado\n",
        "        ofstream output_file(\"output\" + to_string(i) + \".txt\");\n",
        "        output_file << MaxPairwiseProduct(a) << \"\\n\"; // Escribimos el producto máximo en el archivo\n",
        "        output_file.close(); // Cerramos el archivo de salida\n",
        "    }\n",
        "}\n",
        "\n",
        "int main() {\n",
        "    int start_index, num_tests;\n",
        "\n",
        "    // Pedimos al usuario el índice inicial y la cantidad de pruebas a generar\n",
        "    cout << \"Ingrese el índice inicial para los archivos de entrada: \";\n",
        "    cin >> start_index;\n",
        "    cout << \"Ingrese la cantidad de pruebas de estrés a crear: \";\n",
        "    cin >> num_tests;\n",
        "\n",
        "    // Llamamos a la función para generar las pruebas de estrés\n",
        "    generate_stress_test(start_index, num_tests, 2, 1000, 0, 10000);\n",
        "\n",
        "    return 0;\n",
        "}\n",
        "\n"
      ]
    },
    {
      "cell_type": "code",
      "execution_count": 54,
      "metadata": {
        "id": "jBCkMeR6Fw4y",
        "colab": {
          "base_uri": "https://localhost:8080/"
        },
        "outputId": "7ec54301-c24f-41b2-8951-88b0f7b31a55"
      },
      "outputs": [
        {
          "output_type": "stream",
          "name": "stdout",
          "text": [
            "Ingrese el índice inicial para los archivos de entrada: 4\n",
            "Ingrese la cantidad de pruebas de estrés a crear: 8\n"
          ]
        }
      ],
      "source": [
        "# Compila el código de C++ con g++\n",
        "!g++ stress_test_generator.cpp -o stress_test_generator\n",
        "\n",
        "# Ejecuta el programa generado\n",
        "!./stress_test_generator\n",
        "\n",
        "# Ejemplo de entrada:\n",
        "# Start index: 4 for file4\n",
        "# numbers of tests: 8 (from 4 to 10)"
      ]
    },
    {
      "cell_type": "code",
      "source": [
        "##input4.txt with expected output4.txt\n",
        "!cat input4.txt\n",
        "!cat output4.txt"
      ],
      "metadata": {
        "id": "zED8V8wu-eoM",
        "colab": {
          "base_uri": "https://localhost:8080/"
        },
        "outputId": "d1e60d04-3ba2-40f7-a86d-8b412448ecd1"
      },
      "execution_count": 55,
      "outputs": [
        {
          "output_type": "stream",
          "name": "stdout",
          "text": [
            "549\n",
            "7481 7653 1874 2713 6531 1524 3960 9971 5119 8087 8584 6262 3020 6349 6106 5357 5343 5143 7337 6274 9331 529 7786 2084 8577 5849 6499 8734 9344 9517 316 6824 8249 3269 615 4779 4793 5654 4749 991 4819 4411 7253 7839 1838 4437 3195 8260 9581 531 4534 9990 2139 2319 2074 716 9248 9652 9450 8591 247 844 6493 8496 4113 8188 4353 9986 3841 9102 976 8661 4591 9308 7578 6429 3745 1852 5768 4404 3462 301 4393 5602 3699 7546 6318 2946 8277 6846 2615 8524 8769 187 7019 2881 8375 2450 3945 2215 1551 4921 1954 7221 4229 9533 4728 9053 1384 495 4535 4846 796 6 447 4496 7553 7844 8521 6908 5768 1136 5431 4536 1323 3528 8497 9698 5978 2441 2991 8608 7363 4946 5828 2670 4478 555 1722 6941 1051 6257 1786 2926 6263 3313 7422 4894 1156 7022 1801 6925 8158 8311 1460 559 2917 1035 1335 9974 3477 4326 8581 1918 9272 5487 4588 4828 7122 7389 1768 9252 4724 4634 2177 2065 7947 678 8039 181 7700 9840 7106 6936 9230 9646 7495 2146 1759 8830 2120 5236 4234 1779 8233 3506 7267 2820 9413 5467 1287 2260 4718 7090 6894 7974 9156 5919 9731 7194 7179 7430 8112 5364 5444 8420 5009 2938 566 7847 2846 3765 3083 7081 5544 1315 1665 3889 5215 2156 434 7581 4416 6231 4671 2388 4205 3826 9386 3935 2098 6565 2444 1288 1928 8967 9709 8016 2984 1353 5862 5830 6197 8945 3989 2819 1339 5654 7788 7633 8890 8222 5213 3305 4453 9884 5694 9737 4788 6158 4750 6886 2722 8273 9254 4650 7240 40 2665 223 1393 9607 7132 7590 9630 1121 1487 968 7854 9275 8601 6743 7497 3814 1127 3028 4776 7900 2764 9565 4057 7514 7529 6780 5787 6782 2508 3026 6822 5174 4328 9294 5859 1459 7962 5488 2580 9450 6457 1513 9803 6136 8256 8378 1028 9383 1405 5805 7282 4169 6448 2418 2762 3976 9198 9628 1837 1705 3732 9738 7958 8060 9032 3816 9519 8072 383 3178 7521 6840 4691 8403 4054 4025 6780 6162 4487 8186 1966 2847 3433 9493 5265 7274 4547 5541 6901 6384 8326 632 6122 6283 8692 6232 1178 9290 4303 1561 2467 2903 9480 8237 1305 4612 3340 8085 773 8906 7349 3818 2832 1861 3310 9176 9135 7858 4717 6036 5320 3042 7747 2520 403 7518 8752 2660 6807 4134 5300 352 8116 5858 9668 9421 470 3007 8584 1243 2992 7012 5062 5824 8873 9451 4999 9086 8387 794 6200 3707 3836 3947 6227 5319 1464 6058 9058 9350 1270 4358 9702 9386 215 447 9885 685 4533 9547 3008 7525 6558 9149 3348 6509 8599 9427 5595 8065 220 1794 1771 5136 6820 9077 454 9363 5134 590 8712 6404 4948 9492 6868 6243 1017 6752 8007 5551 6299 2093 3075 3935 1241 7503 444 919 6929 7118 8984 7149 9991 754 3363 6811 9831 3817 7252 6044 5487 7043 3526 434 6534 394 7756 8631 7146 5763 4181 4523 7856 8335 8459 176 5837 8903 1095 2765 7099 78 993 7089 1911 4356 3899 2820 9253 1151 9943 4739 8194 3469 6252 5806 4942 5087 5515 2087 849 9696 7690 9784 8031 6148 9960 3867 6129 2133 7712 \n",
            "99810090\n"
          ]
        }
      ]
    },
    {
      "cell_type": "code",
      "source": [
        "##input7.txt with expected output7.txt\n",
        "!cat input7.txt\n",
        "!cat output7.txt"
      ],
      "metadata": {
        "colab": {
          "base_uri": "https://localhost:8080/"
        },
        "id": "N2rW-qbxDzrv",
        "outputId": "66c29870-e296-4296-812d-291f288cb077"
      },
      "execution_count": 56,
      "outputs": [
        {
          "output_type": "stream",
          "name": "stdout",
          "text": [
            "559\n",
            "9535 1310 2526 1340 77 630 4126 1561 3866 4383 4194 5658 3728 3233 8872 5868 9246 9557 2485 993 3300 6757 1693 5211 2171 5720 3713 4594 3048 3353 7194 3661 4663 798 5002 5819 1428 206 7380 6373 5668 1574 2031 9396 5886 1981 6342 5131 1538 9906 7203 4838 7741 8896 1127 9913 5694 4840 5585 8743 8193 2778 3482 3935 3577 9563 9754 6084 9769 8213 2457 6515 865 5567 6990 6751 7548 3331 2960 9086 3237 162 5002 977 136 6130 1968 5830 969 7553 5651 241 1410 9134 4176 6066 9775 5008 2149 9544 3220 5685 7137 5164 1251 4126 2993 9879 7458 5953 42 1773 7194 5045 3829 7330 2253 5798 4239 3222 3350 968 4542 4760 1180 8718 1904 955 4805 4054 1577 9104 817 8714 4268 3148 2840 7261 3026 1376 3214 3068 3149 1486 9192 6978 9896 1444 3854 4134 5746 7205 6181 287 3043 7362 84 4948 9396 4889 80 972 3992 1976 764 8260 5124 3604 6600 9229 6059 892 3376 286 2378 2567 8344 2273 5091 2197 7486 1915 480 3667 3281 4603 2107 3365 9551 1502 9333 709 3553 4404 2685 4317 2663 8889 9001 341 9196 6138 1233 2571 6425 3612 6218 4768 6964 2387 6965 5529 4302 7446 9196 7583 2048 2381 2027 2677 4962 1359 4465 9594 5763 7150 3910 9506 7117 3989 9847 6313 127 2159 8884 7631 6850 6180 2398 3813 8567 9363 420 3947 7887 9616 1530 1013 3075 4636 4769 9116 7074 9234 8709 2837 7463 3698 3421 4579 7687 4346 1970 8893 6505 1933 6523 3354 8113 10000 8247 7759 441 8667 1705 9407 9362 4314 420 3515 8950 6268 2631 6024 6581 1339 9940 4043 5037 4439 9701 3803 8785 1671 3774 6369 4683 1376 801 2795 1375 126 1632 1816 8794 3338 1223 9234 8731 2722 2748 8760 8990 6458 5862 5570 7798 6880 691 3913 1318 392 7716 1181 3142 2569 8629 7825 3945 9431 1698 5320 9557 3331 7137 9429 7748 9439 9741 7557 2160 3568 6316 2228 25 2177 8878 8902 9057 9569 2815 1453 1039 1609 2635 4181 4178 1263 3084 8123 1772 4783 4522 2408 9193 2737 1836 8019 2175 2656 5575 5414 6224 1891 7642 6249 5147 6519 5151 4204 7167 9045 6736 8206 653 9371 3466 4832 1713 6550 4033 4564 2411 8555 6972 2682 1291 9888 700 4545 2543 6276 1037 8767 9246 8680 6094 4392 6277 1244 9675 4522 1367 6411 2728 2021 6860 7273 7932 8573 3822 3043 3137 7313 1598 1187 9995 3968 1074 1774 9593 3617 9129 629 2383 8374 387 9557 3844 7744 1879 4598 2265 3247 1008 6072 5268 8947 3344 4278 8599 8246 7321 1735 5558 9998 4001 6631 5045 5076 8405 4637 8693 8612 6345 2155 6985 6733 1711 1908 4476 3590 6506 7820 7916 8593 3892 4262 7539 8315 8540 6137 6560 6940 8951 3196 6937 2952 9828 1981 9107 9311 7697 7799 7923 5121 1032 5986 1853 3822 7894 7408 8492 5478 6306 6407 5149 197 669 3767 8513 287 9904 6151 7227 9934 9348 5243 3964 9175 8303 3070 9564 6000 1947 7486 2199 4059 3472 4052 7881 2444 2538 7451 7923 8844 3858 4150 120 5606 7917 9712 5893 8900 5862 4199 8833 5209 9442 3875 5462 7744 8024 5026 4822 9971 2511 7021 5108 \n",
            "99980000\n"
          ]
        }
      ]
    },
    {
      "cell_type": "markdown",
      "metadata": {
        "id": "9z9yr5QkeyJF"
      },
      "source": [
        "### Test 4  time test  measure the execution time running with the the largest worst cases input11.txt  (200000 increasing numbers) and input12.txt (199998 increasing numbers and  200000, 200000 at the end)"
      ]
    },
    {
      "cell_type": "code",
      "source": [
        "# input11.txt 200000 increasing numbers:  1 2 .. 200000\n",
        "\n",
        "%%writefile WriteTest.cpp\n",
        "\n",
        "#include <iostream>\n",
        "#include <fstream>\n",
        "#include <cstdlib>\n",
        "\n",
        "using namespace std;\n",
        "\n",
        "int main() {\n",
        "  // Create and open a text file\n",
        "  ofstream MyFile(\"input11.txt\");\n",
        "\n",
        " MyFile << 200000 <<\"\\n\";  // n\n",
        " for (int i=1; i <200001; i++){\n",
        "     MyFile << i <<\" \";\n",
        " }\n",
        "\n",
        "  // Close the file\n",
        "  MyFile.close();\n",
        "}"
      ],
      "metadata": {
        "colab": {
          "base_uri": "https://localhost:8080/"
        },
        "id": "UmB1ipWM_nSk",
        "outputId": "6bcb0a00-2b74-4a99-e176-6e79a3707955"
      },
      "execution_count": 57,
      "outputs": [
        {
          "output_type": "stream",
          "name": "stdout",
          "text": [
            "Writing WriteTest.cpp\n"
          ]
        }
      ]
    },
    {
      "cell_type": "code",
      "execution_count": 58,
      "metadata": {
        "id": "EH25TkOkZfD9"
      },
      "outputs": [],
      "source": [
        "!g++ WriteTest.cpp -o WriteTest\n",
        "!./WriteTest"
      ]
    },
    {
      "cell_type": "code",
      "source": [
        "199999 * 200000"
      ],
      "metadata": {
        "colab": {
          "base_uri": "https://localhost:8080/"
        },
        "id": "j0mokSOnCCtZ",
        "outputId": "a2fbddf4-fa23-4bb3-bac9-03ad57d532d9"
      },
      "execution_count": 59,
      "outputs": [
        {
          "output_type": "execute_result",
          "data": {
            "text/plain": [
              "39999800000"
            ]
          },
          "metadata": {},
          "execution_count": 59
        }
      ]
    },
    {
      "cell_type": "code",
      "source": [
        "%%writefile output11.txt\n",
        "39999800000"
      ],
      "metadata": {
        "id": "VoDhDV73B5Mo",
        "colab": {
          "base_uri": "https://localhost:8080/"
        },
        "outputId": "6be8ac5f-3dc4-4884-e8ff-ed8e31d3bb12"
      },
      "execution_count": 60,
      "outputs": [
        {
          "output_type": "stream",
          "name": "stdout",
          "text": [
            "Overwriting output11.txt\n"
          ]
        }
      ]
    },
    {
      "cell_type": "code",
      "execution_count": 61,
      "metadata": {
        "colab": {
          "base_uri": "https://localhost:8080/"
        },
        "id": "oLiMjbAIfPlX",
        "outputId": "623b0417-59d2-47a4-bf96-52ec30f6b3a7"
      },
      "outputs": [
        {
          "output_type": "stream",
          "name": "stdout",
          "text": [
            "Overwriting WriteTest.cpp\n"
          ]
        }
      ],
      "source": [
        "# input12.txt 200000 decreasing numbers and 200000, 199999 ...  2 1\n",
        "\n",
        "%%writefile WriteTest.cpp\n",
        "\n",
        "#include <iostream>\n",
        "#include <fstream>\n",
        "#include <cstdlib>\n",
        "\n",
        "using namespace std;\n",
        "\n",
        "int main() {\n",
        "  // Create and open a text file\n",
        "  ofstream MyFile(\"input12.txt\");\n",
        "\n",
        " MyFile << 200000 <<\"\\n\";  // n\n",
        " for (int i=1; i <200001; i++){\n",
        "     MyFile << 200001-i <<\" \";\n",
        " }\n",
        "\n",
        "  // Close the file\n",
        "  MyFile.close();\n",
        "}"
      ]
    },
    {
      "cell_type": "code",
      "source": [
        "!g++ WriteTest.cpp -o WriteTest\n",
        "!./WriteTest"
      ],
      "metadata": {
        "id": "oULNBr_zAd9c"
      },
      "execution_count": 62,
      "outputs": []
    },
    {
      "cell_type": "code",
      "source": [
        "%%writefile output12.txt\n",
        "39999800000"
      ],
      "metadata": {
        "colab": {
          "base_uri": "https://localhost:8080/"
        },
        "id": "PQLyocaFB-y4",
        "outputId": "afd43a4c-ef5a-4eff-8430-07aed383fe82"
      },
      "execution_count": 63,
      "outputs": [
        {
          "output_type": "stream",
          "name": "stdout",
          "text": [
            "Writing output12.txt\n"
          ]
        }
      ]
    },
    {
      "cell_type": "markdown",
      "metadata": {
        "id": "JB6f03qO-lj9"
      },
      "source": [
        "### Measure time\n",
        "\n",
        "https://askubuntu.com/questions/53444/how-can-i-measure-the-execution-time-of-a-terminal-process"
      ]
    },
    {
      "cell_type": "code",
      "execution_count": 64,
      "metadata": {
        "colab": {
          "base_uri": "https://localhost:8080/"
        },
        "id": "6p2QLEr576zk",
        "outputId": "ee2642f3-9271-4284-dbd2-9093eeaf33bf"
      },
      "outputs": [
        {
          "output_type": "stream",
          "name": "stdout",
          "text": [
            "39999800000\n",
            "\n",
            "real\t4m58.257s\n",
            "user\t4m56.107s\n",
            "sys\t0m0.075s\n"
          ]
        }
      ],
      "source": [
        "!g++ max_pairwise_product_long_full.cpp -o max_pairwise_product_long_full\n",
        "!time ./max_pairwise_product_long_full< input11.txt"
      ]
    },
    {
      "cell_type": "code",
      "source": [
        "!g++ max_pairwise_product_long_full.cpp -o max_pairwise_product_long_full\n",
        "!time ./max_pairwise_product_long_full< input12.txt"
      ],
      "metadata": {
        "colab": {
          "base_uri": "https://localhost:8080/"
        },
        "id": "cnjCyeUdAnZj",
        "outputId": "a0268237-d73e-4d5c-a402-aad5faa58fe1"
      },
      "execution_count": 65,
      "outputs": [
        {
          "output_type": "stream",
          "name": "stdout",
          "text": [
            "39999800000\n",
            "\n",
            "real\t4m58.080s\n",
            "user\t4m55.767s\n",
            "sys\t0m0.083s\n"
          ]
        }
      ]
    },
    {
      "cell_type": "markdown",
      "metadata": {
        "id": "FXClpBsUJuXC"
      },
      "source": [
        "### Calculate the number or and upper bound to the number of instructions executed by the algorithm as a function of n, add in each line a comment with the number of instructions that are executed in that line."
      ]
    },
    {
      "cell_type": "code",
      "execution_count": 66,
      "metadata": {
        "colab": {
          "base_uri": "https://localhost:8080/"
        },
        "id": "uG6Mv-Pwlkii",
        "outputId": "9fb73512-dddb-4df8-b3b2-a59010d94111"
      },
      "outputs": [
        {
          "output_type": "stream",
          "name": "stdout",
          "text": [
            "Overwriting max_pairwise_product_long_full.cpp\n"
          ]
        }
      ],
      "source": [
        "%%writefile max_pairwise_product_long_full.cpp\n",
        "#include <iostream>\n",
        "#include <vector>\n",
        "#include <algorithm>\n",
        "\n",
        "long long MaxPairwiseProduct(const std::vector<int>& numbers) {              //INSTRUCTIONS executed by line\n",
        "    long long max_product = 0LL;                                             //1\n",
        "\t  long long aux_product = 0LL;                                             //1\n",
        "    int n = numbers.size();                                                  //1\n",
        "\n",
        "    for (int first = 0; first < n; ++first) {                                //2+2n\n",
        "        for (int second = 0; second < n; ++second) {                         //2n + 2n**2\n",
        "          if ( first != second ){                                            //n**2\n",
        "                aux_product = numbers[first] * numbers[second];              //n**2 -n\n",
        "                if (aux_product > max_product)                               //n**2 -n\n",
        "                    max_product = aux_product;                               //[0, n**2/2 - n/2] upper bound\n",
        "          }\n",
        "        }\n",
        "    }\n",
        "\n",
        "                                                                             // --------------\n",
        "    return max_product;                                                      // 5 + 2*n + [5*n**2, 11*n**2/2  - n/2]  upper bound\n",
        "}\n",
        "\n",
        "int main() {                                              //INSTRUCTIONS executed by line\n",
        "    int n;                                                //1\n",
        "    std::cin >> n;                                        //1\n",
        "    std::vector<int> numbers(n);                          //n\n",
        "    for (int i = 0; i < n; ++i) {                         //2 + 2n\n",
        "        std::cin >> numbers[i];                           //n\n",
        "    }\n",
        "\n",
        "    std::cout << MaxPairwiseProduct(numbers) << \"\\n\";     //1 + 1  + 5 + 2*n + [5*n**2, 11*n**2/2  - n/2]\n",
        "\n",
        "    return 0;                                             // --------------\n",
        "}                                                         //  11 + 6*n + [5*n**2, 11*n**2/2  - n/2]  upper bound\n"
      ]
    },
    {
      "cell_type": "markdown",
      "metadata": {
        "id": "0vTsUg8OwcHs"
      },
      "source": [
        "### Count executed intructions in code"
      ]
    },
    {
      "cell_type": "code",
      "execution_count": 67,
      "metadata": {
        "colab": {
          "base_uri": "https://localhost:8080/"
        },
        "id": "CuRKkqQc137V",
        "outputId": "336667d6-2efa-4486-f923-6bfe019e673f"
      },
      "outputs": [
        {
          "output_type": "stream",
          "name": "stdout",
          "text": [
            "Writing max_pairwise_product_long_full_execints.cpp\n"
          ]
        }
      ],
      "source": [
        "%%writefile max_pairwise_product_long_full_execints.cpp\n",
        "#include <iostream>\n",
        "#include <vector>\n",
        "#include <algorithm>\n",
        "\n",
        "long long MaxPairwiseProduct(const std::vector<int>& numbers, long long &execints) {      //INSTRUCTIONS executed by line\n",
        "\n",
        "    long long max_product = 0LL;                                                          //1\n",
        "    execints++;\n",
        "\n",
        "\t  long long aux_product = 0LL;                                                          //1\n",
        "    execints++;\n",
        "\n",
        "    int n = numbers.size();                                                               //1\n",
        "    execints++;\n",
        "\n",
        "    execints++;\n",
        "    for (int first = 0; first < n; ++first) {                                             //2+2n\n",
        "        execints += 2;\n",
        "\n",
        "        execints++;\n",
        "        for (int second = 0; second < n; ++second) {                                       //2n + 2n**2\n",
        "          execints += 2;\n",
        "\n",
        "          execints++;\n",
        "          if ( first != second ){                                                         //n**2\n",
        "                aux_product = numbers[first] * numbers[second];                           //n**2 -n\n",
        "                execints++;\n",
        "\n",
        "                execints++;\n",
        "                if (aux_product > max_product){                                           //n**2 -n\n",
        "                    max_product = aux_product;                                            //[0,n**2/2 - n/2)  upper bound\n",
        "                    execints++;\n",
        "\n",
        "                }\n",
        "        }\n",
        "\n",
        "      }\n",
        "      execints++;\n",
        "    }\n",
        "    execints++;\n",
        "                                                                                        // --------------\n",
        "    return max_product;                                                                 // 5 + 2*n + [5*n**2, 11*n**2/2  - n/2] upper bound\n",
        "}\n",
        "\n",
        "int main() {                                                 //INSTRUCTIONS executed by line\n",
        "\n",
        "    long long execints =0LL;\n",
        "\n",
        "    int n;                                                   //1\n",
        "    execints++;\n",
        "\n",
        "    std::cin >> n;                                           //1\n",
        "    execints++;\n",
        "\n",
        "    std::vector<int> numbers(n);                             //n\n",
        "    execints += n;\n",
        "\n",
        "    execints++;\n",
        "    for (int i = 0; i < n; ++i) {                            //2 + 2n\n",
        "        execints += 2;\n",
        "\n",
        "        std::cin >> numbers[i];\n",
        "        execints++;                                          //n\n",
        "\n",
        "    }\n",
        "\n",
        "\n",
        "    //std::cout << MaxPairwiseProduct(numbers) << \"\\n\";      //1 + 1  + 5 + 2*n + [5*n**2, 11*n**2/2  - n/2] upper bound\n",
        "\n",
        "    execints++;\n",
        "    int M = MaxPairwiseProduct(numbers,execints);\n",
        "\n",
        "    execints++;\n",
        "    std::cout <<  execints << \"\\n\";\n",
        "    return 0;                                                // --------------\n",
        "}                                                            // 11 + 6*n + [5*n**2, 11*n**2/2  - n/2]"
      ]
    },
    {
      "cell_type": "markdown",
      "source": [
        "The number of instructions executed by the algooirithm with a list of size $n$ is  \n",
        "\n",
        "$$T (n) = 11 + 6n + \\left[5n^2, 11\\frac{n^2}{2}  - \\frac{n}{2}\\right)  >  6n^2 = O(n^2)$$\n",
        "\n",
        "It depends on the size of the lists and  the order of the list.\n",
        "\n",
        "For the input0.txt\n",
        "```\n",
        "10\n",
        "0 0 0 0 0 0 0 0 0 0\n",
        "```\n",
        "$$T = 11 + 6(10) + 5(10)^2   = 561 $$\n",
        "\n",
        "$$T(10) \\in [571, 621)  $$\n"
      ],
      "metadata": {
        "id": "cUjHtvtdDsmr"
      }
    },
    {
      "cell_type": "code",
      "source": [
        "!g++ max_pairwise_product_long_full_execints.cpp -o max_pairwise_product_long_full_execints\n",
        "!./max_pairwise_product_long_full_execints < input0.txt"
      ],
      "metadata": {
        "colab": {
          "base_uri": "https://localhost:8080/"
        },
        "id": "Om9Fevb0miAT",
        "outputId": "132c6cdb-33c0-47ac-9582-f60f2abbf51a"
      },
      "execution_count": 68,
      "outputs": [
        {
          "output_type": "stream",
          "name": "stdout",
          "text": [
            "570\n"
          ]
        }
      ]
    },
    {
      "cell_type": "markdown",
      "source": [
        "For the input1.txt\n",
        "```\n",
        "10\n",
        "1 2 3 4 5 6 7 8 9 10\n",
        "```\n",
        "$$T = 11 + 6(10) + 5(10)^2 +  9 + 5 + 4 + 3 + 2 + 2 + 2 + 2 + 1 + 0  = 601 $$\n",
        "\n",
        "$$T(10) \\in [572, 622)  $$\n"
      ],
      "metadata": {
        "id": "FwJzZ6VzmArY"
      }
    },
    {
      "cell_type": "code",
      "source": [
        "#The number of times that  max_product = aux_product; in the worst case is less than (n**2 -n)/2 -  upper bound\n",
        "\n",
        "#     1  2  3  4  5  6  7  8  9  10\n",
        "#  1  x  2  3  4  5  6  7  8  9  10         9\n",
        "#  2  2  x  6  8  10 12 14 16 18 20         5 14\n",
        "#  3  3  6  x  12 15 18 21 24 27 30         4 18\n",
        "#  4  4  8  12 x  20 24 28 32 36 40         3 21\n",
        "#  5  5  10 15 20 x  30 35 40 45 50         2 23\n",
        "#  6  6  12 18 24 30 x  42 48 54 60         2 25\n",
        "#  7  7  14 21 28 35 42 x  56 63 70         2 27\n",
        "#  8  8  18 27 36 45 54 63 72 x  90         1 30\n",
        "#  10 10 20 30 40 50 60 70 60 90 x          0"
      ],
      "metadata": {
        "id": "K59xQMWiBNFj"
      },
      "execution_count": null,
      "outputs": []
    },
    {
      "cell_type": "code",
      "source": [
        "11 + 6*(10) + 5*(10)*(10) +  9 + 5 + 4 + 3 + 2 + 2 + 2 + 2 + 1 + 0"
      ],
      "metadata": {
        "colab": {
          "base_uri": "https://localhost:8080/"
        },
        "id": "E3O8dzFfEgir",
        "outputId": "59242e8f-324c-4e2d-c544-bc8e458a47e3"
      },
      "execution_count": 69,
      "outputs": [
        {
          "output_type": "execute_result",
          "data": {
            "text/plain": [
              "601"
            ]
          },
          "metadata": {},
          "execution_count": 69
        }
      ]
    },
    {
      "cell_type": "code",
      "source": [
        "n = 10\n",
        "print( \"[\", 11 + 6*n + 5*n**2,  \",\", 11 + 6*n  + 5.5*n**2, \")\")"
      ],
      "metadata": {
        "colab": {
          "base_uri": "https://localhost:8080/"
        },
        "id": "TCpdl5u_Gq1a",
        "outputId": "6c54cb62-ca0f-41b5-b257-e6d450369ff7"
      },
      "execution_count": 70,
      "outputs": [
        {
          "output_type": "stream",
          "name": "stdout",
          "text": [
            "[ 571 , 621.0 )\n"
          ]
        }
      ]
    },
    {
      "cell_type": "code",
      "execution_count": 71,
      "metadata": {
        "colab": {
          "base_uri": "https://localhost:8080/"
        },
        "id": "Kuvm1C05ly2a",
        "outputId": "4995f960-c10d-4447-f2ae-c3c287068f28"
      },
      "outputs": [
        {
          "output_type": "stream",
          "name": "stdout",
          "text": [
            "600\n"
          ]
        }
      ],
      "source": [
        "!g++ max_pairwise_product_long_full_execints.cpp -o max_pairwise_product_long_full_execints\n",
        "!./max_pairwise_product_long_full_execints < input1.txt"
      ]
    },
    {
      "cell_type": "markdown",
      "source": [
        "\n",
        "For the input2.txt\n",
        "```\n",
        "10\n",
        "10 9 8 7 6 5 4 3 2 1\n",
        "```\n",
        "$$T = 11 + 6*(10) + 5*(10)**2 +  1  = 571 $$"
      ],
      "metadata": {
        "id": "Yr_Lb7CaHfxB"
      }
    },
    {
      "cell_type": "code",
      "source": [
        "11 + 6*(10) + 5*(10)**2 +  1"
      ],
      "metadata": {
        "colab": {
          "base_uri": "https://localhost:8080/"
        },
        "id": "HOdqlwJiZUIp",
        "outputId": "0558fe10-221f-4537-eaab-c0515ea1b22c"
      },
      "execution_count": null,
      "outputs": [
        {
          "output_type": "execute_result",
          "data": {
            "text/plain": [
              "572"
            ]
          },
          "metadata": {},
          "execution_count": 54
        }
      ]
    },
    {
      "cell_type": "code",
      "source": [
        "!g++ max_pairwise_product_long_full_execints.cpp -o max_pairwise_product_long_full_execints\n",
        "!./max_pairwise_product_long_full_execints < input2.txt"
      ],
      "metadata": {
        "id": "_znzLectjFSe",
        "colab": {
          "base_uri": "https://localhost:8080/"
        },
        "outputId": "c29cd54b-653c-420e-9ea9-c232b1def807"
      },
      "execution_count": null,
      "outputs": [
        {
          "output_type": "stream",
          "name": "stdout",
          "text": [
            "572\n"
          ]
        }
      ]
    },
    {
      "cell_type": "markdown",
      "metadata": {
        "id": "NXW7QkoBL6xH"
      },
      "source": [
        "Calculate estimated time by instruction and number of instructions by second"
      ]
    },
    {
      "cell_type": "markdown",
      "source": [
        "For the input11.txt\n",
        "```\n",
        "200000\n",
        "1 2 ..  199999 2000\n",
        "```\n",
        "$$T = 11 + 6*(200000) + 5.5*(200000)**2  = 200001200012  $$"
      ],
      "metadata": {
        "id": "dlyRjaohz-YH"
      }
    },
    {
      "cell_type": "code",
      "source": [
        "!g++ max_pairwise_product_long_full_execints.cpp -o max_pairwise_product_long_full_execints\n",
        "!./max_pairwise_product_long_full_execints < input11.txt"
      ],
      "metadata": {
        "colab": {
          "base_uri": "https://localhost:8080/"
        },
        "id": "BMH8mF3EKn2w",
        "outputId": "59a227ed-24b9-494a-d476-d45f33b3d395"
      },
      "execution_count": null,
      "outputs": [
        {
          "output_type": "stream",
          "name": "stdout",
          "text": [
            "200003177092\n"
          ]
        }
      ]
    },
    {
      "cell_type": "code",
      "execution_count": null,
      "metadata": {
        "colab": {
          "base_uri": "https://localhost:8080/"
        },
        "id": "pKqB3i7dIxnc",
        "outputId": "c3d75520-0c34-4970-b331-6cbec92fb0be"
      },
      "outputs": [
        {
          "output_type": "execute_result",
          "data": {
            "text/plain": [
              "1.4749765693187072e-09"
            ]
          },
          "metadata": {},
          "execution_count": 60
        }
      ],
      "source": [
        "# Estimated time by instruction\n",
        "# use the real reported  !time ./max_pairwise_product_long_full< input11.txt in seconds intead of the 295\n",
        "\n",
        "295/200003177092\n"
      ]
    },
    {
      "cell_type": "code",
      "execution_count": null,
      "metadata": {
        "colab": {
          "base_uri": "https://localhost:8080/"
        },
        "id": "18N1ouqeMhE1",
        "outputId": "e92c5ec2-ee15-47c4-e4a9-ff32a7ff7e0f"
      },
      "outputs": [
        {
          "output_type": "execute_result",
          "data": {
            "text/plain": [
              "677976871.4983051"
            ]
          },
          "metadata": {},
          "execution_count": 61
        }
      ],
      "source": [
        "# Estimated number of instructions by second\n",
        "\n",
        "200003177092/295"
      ]
    },
    {
      "cell_type": "markdown",
      "source": [
        "### Estimate and verify the maximun n that can be solved in 1 second\n",
        "\n",
        "$$(5.5n^2 + 5.5n + 11) \\times 1.47*10^{-9} s = 1 s$$\n",
        "\n",
        "$$ n \\approx 11000$$\n"
      ],
      "metadata": {
        "id": "KyuxejFkL5X_"
      }
    },
    {
      "cell_type": "code",
      "source": [
        "# Verify input13.txt\n",
        "%%writefile WriteTest.cpp\n",
        "\n",
        "#include <iostream>\n",
        "#include <fstream>\n",
        "#include <cstdlib>\n",
        "\n",
        "using namespace std;\n",
        "\n",
        "int main() {\n",
        "  // Create and open a text file\n",
        "  ofstream MyFile(\"input13.txt\");\n",
        "\n",
        " MyFile << 11000 <<\"\\n\";  // n\n",
        " for (int i=1; i <11001; i++){\n",
        "     MyFile << i <<\" \";\n",
        " }\n",
        "\n",
        "  // Close the file\n",
        "  MyFile.close();\n",
        "}"
      ],
      "metadata": {
        "colab": {
          "base_uri": "https://localhost:8080/"
        },
        "id": "WXu5jp-DLTOI",
        "outputId": "5719b106-1435-46aa-80e6-a50c13671555"
      },
      "execution_count": 72,
      "outputs": [
        {
          "output_type": "stream",
          "name": "stdout",
          "text": [
            "Overwriting WriteTest.cpp\n"
          ]
        }
      ]
    },
    {
      "cell_type": "code",
      "source": [
        "!g++ WriteTest.cpp -o WriteTest\n",
        "!./WriteTest"
      ],
      "metadata": {
        "id": "AQ8N52pUMCeT"
      },
      "execution_count": 73,
      "outputs": []
    },
    {
      "cell_type": "code",
      "source": [
        "10999 * 11000"
      ],
      "metadata": {
        "colab": {
          "base_uri": "https://localhost:8080/"
        },
        "id": "2iIOdbTrEtBx",
        "outputId": "2ff98bfa-59e6-4190-c214-e56beacc3b69"
      },
      "execution_count": 74,
      "outputs": [
        {
          "output_type": "execute_result",
          "data": {
            "text/plain": [
              "120989000"
            ]
          },
          "metadata": {},
          "execution_count": 74
        }
      ]
    },
    {
      "cell_type": "code",
      "source": [
        "!g++ max_pairwise_product_long_full.cpp -o max_pairwise_product_long_full\n",
        "!time ./max_pairwise_product_long_full< input13.txt"
      ],
      "metadata": {
        "colab": {
          "base_uri": "https://localhost:8080/"
        },
        "id": "ussuAokfM2du",
        "outputId": "bbab1756-9c56-4fd5-e6bc-bf1adbb39421"
      },
      "execution_count": 75,
      "outputs": [
        {
          "output_type": "stream",
          "name": "stdout",
          "text": [
            "120989000\n",
            "\n",
            "real\t0m0.845s\n",
            "user\t0m0.840s\n",
            "sys\t0m0.003s\n"
          ]
        }
      ]
    },
    {
      "cell_type": "markdown",
      "metadata": {
        "id": "Tm_AVmt-QQH4"
      },
      "source": [
        "## Python"
      ]
    },
    {
      "cell_type": "code",
      "execution_count": 76,
      "metadata": {
        "id": "gRCCcd7IQTKZ",
        "colab": {
          "base_uri": "https://localhost:8080/"
        },
        "outputId": "bce00f79-5794-444d-a9bb-b6eb6abc199b"
      },
      "outputs": [
        {
          "output_type": "stream",
          "name": "stdout",
          "text": [
            "Writing max_pairwise_product.py\n"
          ]
        }
      ],
      "source": [
        "%%writefile max_pairwise_product.py\n",
        "def max_pairwise_product(numbers):\n",
        "    n = len(numbers)\n",
        "    max_product = 0\n",
        "\n",
        "    for first in range(n):\n",
        "        for second in range(n):\n",
        "            if first != second:\n",
        "                aux_product = numbers[first] * numbers[second]\n",
        "\n",
        "                if aux_product > max_product:\n",
        "                  max_product = aux_product\n",
        "\n",
        "    return max_product\n",
        "\n",
        "n = int(input())\n",
        "\n",
        "numbers = [int(i) for i in input().split()]\n",
        "\n",
        "print(max_pairwise_product(numbers))\n",
        ""
      ]
    },
    {
      "cell_type": "code",
      "execution_count": 77,
      "metadata": {
        "id": "kAEAoNZEQTCw",
        "colab": {
          "base_uri": "https://localhost:8080/"
        },
        "outputId": "76c50804-904c-4574-e2f9-87a10ee48807"
      },
      "outputs": [
        {
          "output_type": "stream",
          "name": "stdout",
          "text": [
            "Traceback (most recent call last):\n",
            "  File \"/content/max_pairwise_product.py\", line 19, in <module>\n",
            "    print(max_pairwise_product(numbers))\n",
            "  File \"/content/max_pairwise_product.py\", line 10, in max_pairwise_product\n",
            "    if aux_product > max_product:\n",
            "KeyboardInterrupt\n",
            "^C\n"
          ]
        }
      ],
      "source": [
        "!time python3 max_pairwise_product.py < input11.txt"
      ]
    },
    {
      "cell_type": "markdown",
      "source": [
        "the code runs for more than 30min.However, the code did not finish executing, this is because Python is much slower than C++ to carry out the instructions."
      ],
      "metadata": {
        "id": "tuPgUYbsIb9E"
      }
    },
    {
      "cell_type": "markdown",
      "source": [
        "# For the follwing solutions rquired  the same tests and analysis performed for the first solution"
      ],
      "metadata": {
        "id": "fEZR-3V4ZjCv"
      }
    },
    {
      "cell_type": "markdown",
      "metadata": {
        "id": "MKQKSC-vKePK"
      },
      "source": [
        "## Solutions in C++ and Python that uses\n",
        "$$\\frac{n^2 - n}{2} = O(n^2)\\ \\ \\text{products}$$"
      ]
    },
    {
      "cell_type": "code",
      "execution_count": 78,
      "metadata": {
        "id": "jkkHHoxSK65p",
        "colab": {
          "base_uri": "https://localhost:8080/"
        },
        "outputId": "81253faf-727b-479a-fc9b-c25a61a9084a"
      },
      "outputs": [
        {
          "output_type": "stream",
          "name": "stdout",
          "text": [
            "Writing max_pairwise_product.cpp\n"
          ]
        }
      ],
      "source": [
        "%%writefile max_pairwise_product.cpp\n",
        "#include <iostream>\n",
        "#include <vector>\n",
        "#include <algorithm>\n",
        "\n",
        "int MaxPairwiseProduct(const std::vector<int>& numbers) {\n",
        "    int max_product = 0;\n",
        "    int n = numbers.size();\n",
        "\n",
        "    for (int first = 0; first < n; ++first) {\n",
        "        for (int second = first + 1; second < n; ++second) {\n",
        "            max_product = std::max(max_product,\n",
        "                numbers[first] * numbers[second]);\n",
        "        }\n",
        "    }\n",
        "\n",
        "    return max_product;\n",
        "}\n",
        "\n",
        "int main() {\n",
        "    int n;\n",
        "    std::cin >> n;\n",
        "    std::vector<int> numbers(n);\n",
        "    for (int i = 0; i < n; ++i) {\n",
        "        std::cin >> numbers[i];\n",
        "    }\n",
        "\n",
        "    std::cout << MaxPairwiseProduct(numbers) << \"\\n\";\n",
        "    return 0;\n",
        "}"
      ]
    },
    {
      "cell_type": "code",
      "execution_count": 79,
      "metadata": {
        "id": "sU8-Ote7K8vz",
        "colab": {
          "base_uri": "https://localhost:8080/"
        },
        "outputId": "33347d3c-280a-4d9b-a6fb-fbbf6b7b11c6"
      },
      "outputs": [
        {
          "output_type": "stream",
          "name": "stdout",
          "text": [
            "Writing max_pairwise_product_long.cpp\n"
          ]
        }
      ],
      "source": [
        "%%writefile max_pairwise_product_long.cpp\n",
        "#include <iostream>\n",
        "#include <vector>\n",
        "#include <algorithm>\n",
        "\n",
        "long long MaxPairwiseProduct(const std::vector<int>& numbers) {              //INSTRUCTIONS executed by line\n",
        "    long long max_product = 0LL;                                             //1\n",
        "\t  long long aux_product = 0LL;                                             //1\n",
        "    int n = numbers.size();                                                  //1\n",
        "\n",
        "    for (int first = 0; first < n; ++first) {                                //2+2n\n",
        "        for (int second = first + 1; second < n; ++second) {                 //2n + (n-1)n\n",
        "\t\t\t       aux_product =  (long long) numbers[first] * numbers[second];    //(n-1)n/2\n",
        "            if (max_product < aux_product)  {                                //(n-1)n/2\n",
        "\t\t\t\t        max_product = aux_product;                                   //[1,(n-1)n/2)  upper bound\n",
        "             }\n",
        "        }\n",
        "    }\n",
        "                                                                             // --------------\n",
        "    return max_product;                                                      // 5 + 4n + [2(n-1)n+1, 2.5 (n-1)n) upper bound\n",
        "}\n",
        "\n",
        "int main() {                                              //INSTRUCTIONS executed by line\n",
        "    int n;                                                //1\n",
        "    std::cin >> n;                                        //1\n",
        "    std::vector<int> numbers(n);                          //n\n",
        "    for (int i = 0; i < n; ++i) {                         //2 + 2n\n",
        "        std::cin >> numbers[i];                           //n\n",
        "    }\n",
        "\n",
        "    std::cout << MaxPairwiseProduct(numbers) << \"\\n\";     //1 + 1  + 5 + 4n + [2(n-1)n+1, 2.5 (n-1)n) upper bound\n",
        "    return 0;                                             // --------------\n",
        "}                                                         // 11 + 7n + [2(n-1)n+1, 2.5 (n-1)n) upper bound\n"
      ]
    },
    {
      "cell_type": "code",
      "execution_count": 129,
      "metadata": {
        "id": "5QWT3fneK8nw",
        "colab": {
          "base_uri": "https://localhost:8080/"
        },
        "outputId": "b3bb5644-d801-4a6c-a3dd-ca60e43ac984"
      },
      "outputs": [
        {
          "output_type": "stream",
          "name": "stdout",
          "text": [
            "Overwriting max_pairwise_product_long.cpp\n"
          ]
        }
      ],
      "source": [
        "%%writefile max_pairwise_product_long.cpp\n",
        "#include <iostream>  // Para std::cin y std::cout\n",
        "#include <vector>    // Para std::vector\n",
        "#include <cstdlib>   // Para rand()\n",
        "#include <ctime>     // Para srand() y time()\n",
        "\n",
        "// Función para calcular el producto máximo de un par de elementos\n",
        "long long MaxPairwiseProduct(const std::vector<int>& numbers) {\n",
        "    long long max_product = 0LL;\n",
        "    int n = numbers.size();\n",
        "\n",
        "    // Recorre todos los pares posibles de elementos\n",
        "    for (int first = 0; first < n; ++first) {\n",
        "        for (int second = first + 1; second < n; ++second) {\n",
        "            long long aux_product = static_cast<long long>(numbers[first]) * numbers[second];\n",
        "            // Actualiza el producto máximo si se encuentra un producto mayor\n",
        "            if (aux_product > max_product) {\n",
        "                max_product = aux_product;\n",
        "            }\n",
        "        }\n",
        "    }\n",
        "\n",
        "    return max_product;\n",
        "}\n",
        "\n",
        "int main() {\n",
        "    int n;\n",
        "\n",
        "    // Solicita al usuario el tamaño del vector\n",
        "    std::cout << \"Enter the size of the vector (n): \";\n",
        "    std::cin >> n;\n",
        "\n",
        "    std::vector<int> numbers(n);  // Crea un vector de tamaño n\n",
        "\n",
        "    // Solicita al usuario los elementos del vector\n",
        "    std::cout << \"Enter the elements of the vector:\\n\";\n",
        "    for (int i = 0; i < n; ++i) {\n",
        "        std::cin >> numbers[i];  // Lee cada elemento del vector\n",
        "    }\n",
        "\n",
        "    // Calcula y muestra el producto máximo de pares\n",
        "    std::cout << \"Max pairwise product: \" << MaxPairwiseProduct(numbers) << \"\\n\";\n",
        "\n",
        "    return 0;\n",
        "}\n",
        "\n",
        ""
      ]
    },
    {
      "cell_type": "markdown",
      "source": [
        "### Estimate and verify the maximun n that can be solved in 1 second\n",
        "\n"
      ],
      "metadata": {
        "id": "zxCvxiB-XQJh"
      }
    },
    {
      "cell_type": "code",
      "source": [
        "%%writefile max_n_in_a_second.cpp\n",
        "#include <iostream>\n",
        "#include <vector>\n",
        "#include <chrono>\n",
        "\n",
        "// Función para calcular el producto máximo de un par de elementos\n",
        "long long MaxPairwiseProduct(const std::vector<int>& numbers) {\n",
        "    long long max_product = 0LL;\n",
        "    int n = numbers.size();\n",
        "\n",
        "    // Recorre todos los pares posibles de elementos\n",
        "    for (int first = 0; first < n; ++first) {\n",
        "        for (int second = first + 1; second < n; ++second) {\n",
        "            long long aux_product = static_cast<long long>(numbers[first]) * numbers[second];\n",
        "            // Actualiza el producto máximo si se encuentra un producto mayor\n",
        "            if (aux_product > max_product) {\n",
        "                max_product = aux_product;\n",
        "            }\n",
        "        }\n",
        "    }\n",
        "\n",
        "    return max_product;\n",
        "}\n",
        "\n",
        "int main() {\n",
        "    int n = 10;  // Valor inicial de n\n",
        "    auto start_time = std::chrono::high_resolution_clock::now();  // Marca el inicio del tiempo total\n",
        "\n",
        "    // Bucle para encontrar el valor máximo de n que puede ser resuelto en 1 segundo\n",
        "    while (true) {\n",
        "        // Genera los datos de entrada de tamaño n (todos los valores son 1)\n",
        "        std::vector<int> input_data(n, 1);\n",
        "\n",
        "        // Mide el tiempo de ejecución de la función MaxPairwiseProduct\n",
        "        auto start = std::chrono::high_resolution_clock::now();\n",
        "        MaxPairwiseProduct(input_data);  // Llama a la función para calcular el producto máximo\n",
        "        auto end = std::chrono::high_resolution_clock::now();\n",
        "\n",
        "        // Calcula el tiempo transcurrido en milisegundos\n",
        "        double elapsed_time = std::chrono::duration_cast<std::chrono::milliseconds>(end - start).count() / 1000.0;\n",
        "\n",
        "        // Si el tiempo transcurrido es mayor o igual a 1 segundo, detiene el bucle\n",
        "        if (elapsed_time >= 1.0) {\n",
        "            break;\n",
        "        }\n",
        "\n",
        "        // Doble el valor de n para el siguiente ciclo\n",
        "        n *= 2;\n",
        "    }\n",
        "\n",
        "    auto end_time = std::chrono::high_resolution_clock::now();  // Marca el final del tiempo total\n",
        "    double total_time = std::chrono::duration_cast<std::chrono::milliseconds>(end_time - start_time).count() / 1000.0;\n",
        "\n",
        "    // Muestra el valor máximo de n que puede resolverse en 1 segundo y el tiempo total de ejecución\n",
        "    std::cout << \"Maximum n that can be solved in 1 second: \" << n << std::endl;\n",
        "    std::cout << \"Total execution time: \" << total_time << \" seconds\" << std::endl;\n",
        "\n",
        "    return 0;\n",
        "}\n"
      ],
      "metadata": {
        "colab": {
          "base_uri": "https://localhost:8080/"
        },
        "id": "5vhHJZlacYst",
        "outputId": "79511da2-ef49-43dc-e361-c55b8d352495"
      },
      "execution_count": 127,
      "outputs": [
        {
          "output_type": "stream",
          "name": "stdout",
          "text": [
            "Overwriting max_n_in_a_second.cpp\n"
          ]
        }
      ]
    },
    {
      "cell_type": "code",
      "source": [
        "!g++ -o max_n_in_a_second max_n_in_a_second.cpp\n",
        "!./max_n_in_a_second"
      ],
      "metadata": {
        "colab": {
          "base_uri": "https://localhost:8080/"
        },
        "id": "ql_tkF4tJmVv",
        "outputId": "d393c4ad-9a7d-4c62-846c-dc499367632a"
      },
      "execution_count": 128,
      "outputs": [
        {
          "output_type": "stream",
          "name": "stdout",
          "text": [
            "Maximum n that can be solved in 1 second: 20480\n",
            "Total execution time: 1.811 seconds\n"
          ]
        }
      ]
    },
    {
      "cell_type": "code",
      "source": [
        "%%writefile  stress_test_of_size_n.cpp\n",
        "#include <iostream>\n",
        "#include <fstream>\n",
        "#include <cstdlib>\n",
        "#include <ctime>  // Para la semilla de srand()\n",
        "\n",
        "using namespace std;\n",
        "\n",
        "// Función para generar un número entero aleatorio en un rango especificado\n",
        "int random_int(int min, int max) {\n",
        "    return min + rand() % (max - min + 1);\n",
        "}\n",
        "\n",
        "// Función para generar una prueba de estrés de tamaño n\n",
        "void generate_stress_test(int n, int min_value, int max_value) {\n",
        "    srand(time(nullptr)); // Inicializa la semilla de srand con la hora actual\n",
        "\n",
        "    // Crea el archivo de entrada\n",
        "    ofstream input_file(\"stress_test_of_size_n.txt\");\n",
        "\n",
        "    // Escribe el tamaño del vector en el archivo\n",
        "    input_file << n << \"\\n\";\n",
        "\n",
        "    // Genera valores aleatorios y los escribe en el archivo\n",
        "    for (int i = 0; i < n; ++i) {\n",
        "        int random_value = random_int(min_value, max_value);\n",
        "        input_file << random_value << \" \";  // Escribe el elemento del vector\n",
        "    }\n",
        "\n",
        "    input_file << \"\\n\";  // Marca el final del vector\n",
        "    input_file.close();  // Cierra el archivo\n",
        "}\n",
        "\n",
        "int main() {\n",
        "    int n;\n",
        "\n",
        "    // Solicita al usuario el tamaño del vector\n",
        "    cout << \"Enter the size of the vector (n): \";\n",
        "    cin >> n;\n",
        "\n",
        "    int min_value = 0;     // Valor mínimo para los enteros aleatorios\n",
        "    int max_value = 200000; // Valor máximo para los enteros aleatorios\n",
        "\n",
        "    // Genera una prueba de estrés con el tamaño especificado\n",
        "    generate_stress_test(n, min_value, max_value);\n",
        "\n",
        "    return 0;\n",
        "}\n",
        "\n",
        "\n"
      ],
      "metadata": {
        "colab": {
          "base_uri": "https://localhost:8080/"
        },
        "id": "8YyUoRg7J18N",
        "outputId": "8c35f560-2270-4f35-c1f7-5b05c08efa91"
      },
      "execution_count": 120,
      "outputs": [
        {
          "output_type": "stream",
          "name": "stdout",
          "text": [
            "Overwriting stress_test_of_size_n.cpp\n"
          ]
        }
      ]
    },
    {
      "cell_type": "code",
      "source": [
        "#Create stress test of size n = 20480\n",
        "!g++ -o stress_test_of_size_n stress_test_of_size_n.cpp\n",
        "!./stress_test_of_size_n"
      ],
      "metadata": {
        "colab": {
          "base_uri": "https://localhost:8080/"
        },
        "id": "0HJ-gZZVKMjS",
        "outputId": "0b34c6de-fa50-4bc3-943d-411f6f8f7d43"
      },
      "execution_count": 121,
      "outputs": [
        {
          "output_type": "stream",
          "name": "stdout",
          "text": [
            "Enter the size of the vector (n): 20480\n"
          ]
        }
      ]
    },
    {
      "cell_type": "code",
      "source": [
        "#Verify that max_wisepair_product_long can run an input of size n = 20480 in a second\n",
        "!g++ -o max_pairwise_product_long max_pairwise_product_long.cpp\n",
        "!time ./max_pairwise_product_long < stress_test_of_size_n.txt"
      ],
      "metadata": {
        "colab": {
          "base_uri": "https://localhost:8080/"
        },
        "id": "EnJad2AXdobi",
        "outputId": "354cb08d-1456-45d0-a496-fbd32f61e48b"
      },
      "execution_count": 130,
      "outputs": [
        {
          "output_type": "stream",
          "name": "stdout",
          "text": [
            "Enter the size of the vector (n): Enter the elements of the vector:\n",
            "Max pairwise product: 39992400361\n",
            "\n",
            "real\t0m2.141s\n",
            "user\t0m2.064s\n",
            "sys\t0m0.004s\n"
          ]
        }
      ]
    },
    {
      "cell_type": "markdown",
      "metadata": {
        "id": "1Hsbd-uHOb_j"
      },
      "source": [
        "# Sort solution in C++ and Python\n",
        "\n",
        "$$ O(n \\lg n)$$\n",
        "\n",
        "**Which sorting algorithm is used in GCC?**\n",
        "https://stackoverflow.com/questions/7221257/which-sorting-algorithm-is-used-in-gcc\n",
        "\n",
        "* ...  the algorithm is called introsort, a combination between Insertionsort, Quicksort & Heapsort. ...\n",
        "\n",
        "**Introsort**\n",
        "https://en.wikipedia.org/wiki/Introsort\n",
        "\n",
        "Introsort or introspective sort is a hybrid sorting algorithm that provides both fast average performance and (asymptotically) optimal worst-case performance. It begins with quicksort, it switches to heapsort when the recursion depth exceeds a level based on (the logarithm of) the number of elements being sorted and it switches to insertion sort when the number of elements is below some threshold\n",
        "\n",
        "*   Class\tSorting algorithm\n",
        "*   Data structure\tArray\n",
        "*   Worst-case performance\t$O(n \\lg n)$\n",
        "*   Average performance\t$O(n \\lg n)$\n",
        "\n",
        "**Tinsort**\n",
        "https://en.wikipedia.org/wiki/Timsort\n",
        "\n",
        "Timsort is a hybrid, stable sorting algorithm, derived from merge sort and insertion sort, designed to perform well on many kinds of real-world data. It was implemented by Tim Peters in 2002 for use in the Python programming language.\n",
        "\n",
        "*   Class\tSorting algorithm\n",
        "*   Data structure\tArray\n",
        "*   Worst-case performance\t$O(n \\lg n)$\n",
        "*   Best-case performance $O(n)$\n",
        "*   Average performance\t$O(n \\lg n)$\n",
        "*   Worst-case space complexity $O(n)$"
      ]
    },
    {
      "cell_type": "markdown",
      "metadata": {
        "id": "WMUthAXjOb_k"
      },
      "source": []
    },
    {
      "cell_type": "code",
      "source": [
        "%%writefile max_pairwise_product_long_sorting.cpp\n",
        "#include <iostream>\n",
        "#include <vector>\n",
        "#include <algorithm>\n",
        "#include <cmath>  // Para std::log\n",
        "\n",
        "// Implementación de introsort\n",
        "template <typename RandomIt>\n",
        "void introsort(RandomIt first, RandomIt last, int depth_limit) {\n",
        "    while (last - first > 16) {  // Cuando el rango es mayor a 16 elementos\n",
        "        if (depth_limit == 0) {\n",
        "            // Si el límite de profundidad se ha alcanzado, usa un heap sort\n",
        "            std::make_heap(first, last);\n",
        "            std::sort_heap(first, last);\n",
        "            return;\n",
        "        }\n",
        "        --depth_limit;\n",
        "\n",
        "        // Particiona el rango y elige un pivote\n",
        "        RandomIt pivot = std::partition(first, last, [=](const auto& em) { return em < *(last - 1); });\n",
        "        std::swap(*pivot, *(last - 1));  // Intercambia el pivote con el último elemento\n",
        "        introsort(first, pivot, depth_limit);  // Llama recursivamente sobre la primera mitad\n",
        "        first = pivot + 1;  // Continuamos sobre la segunda mitad\n",
        "    }\n",
        "    // Si el rango es pequeño, utiliza un simple sort\n",
        "    std::sort(first, last);\n",
        "}\n",
        "\n",
        "// Función envoltorio para usar introsort\n",
        "template <typename RandomIt>\n",
        "void introsort(RandomIt first, RandomIt last) {\n",
        "    // Se calcula el límite de profundidad en función de la longitud del rango\n",
        "    introsort(first, last, 2 * std::log(last - first));\n",
        "}\n",
        "\n",
        "// Función para calcular el producto máximo de pares\n",
        "long long MaxPairwiseProduct(const std::vector<int>& numbers) {\n",
        "    // Creamos una copia del vector y la ordenamos\n",
        "    std::vector<int> sorted_numbers = numbers;\n",
        "    introsort(sorted_numbers.begin(), sorted_numbers.end());\n",
        "\n",
        "    int n = sorted_numbers.size();\n",
        "    // El producto máximo es el de los dos números más grandes\n",
        "    return static_cast<long long>(sorted_numbers[n - 1]) * sorted_numbers[n - 2];\n",
        "}\n",
        "\n",
        "int main() {\n",
        "    int n;\n",
        "\n",
        "    // Solicita al usuario el tamaño del vector\n",
        "    std::cin >> n;\n",
        "\n",
        "    std::vector<int> numbers(n);\n",
        "\n",
        "    // Lee los elementos del vector\n",
        "    for (int i = 0; i < n; ++i) {\n",
        "        std::cin >> numbers[i];\n",
        "    }\n",
        "\n",
        "    // Calcula y muestra el producto máximo de pares\n",
        "    std::cout << MaxPairwiseProduct(numbers) << \"\\n\";\n",
        "\n",
        "    return 0;\n",
        "}\n"
      ],
      "metadata": {
        "id": "jnIRWyUEDu_C",
        "colab": {
          "base_uri": "https://localhost:8080/"
        },
        "outputId": "fed8535e-16b4-4439-dc32-7508b419d4f3"
      },
      "execution_count": 132,
      "outputs": [
        {
          "output_type": "stream",
          "name": "stdout",
          "text": [
            "Overwriting max_pairwise_product_long_sorting.cpp\n"
          ]
        }
      ]
    },
    {
      "cell_type": "markdown",
      "metadata": {
        "id": "v8pdV9ABOb_k"
      },
      "source": [
        "Test with inputs 1 and 2\n",
        "\n"
      ]
    },
    {
      "cell_type": "code",
      "execution_count": 133,
      "metadata": {
        "id": "kdXAyLG4Ob_k",
        "colab": {
          "base_uri": "https://localhost:8080/"
        },
        "outputId": "2090aff3-7a3d-47bb-a549-3e47571485da"
      },
      "outputs": [
        {
          "output_type": "stream",
          "name": "stdout",
          "text": [
            "90\n",
            "90\n"
          ]
        }
      ],
      "source": [
        "!g++ -o max_pairwise_product_long_sorting max_pairwise_product_long_sorting.cpp\n",
        "!./max_pairwise_product_long_sorting < input1.txt\n",
        "!./max_pairwise_product_long_sorting < input2.txt"
      ]
    },
    {
      "cell_type": "markdown",
      "metadata": {
        "id": "Sw-5X1q1Ob_k"
      },
      "source": [
        "Test and time it with input 3"
      ]
    },
    {
      "cell_type": "code",
      "execution_count": 134,
      "metadata": {
        "id": "ryHJ30WIOb_k",
        "colab": {
          "base_uri": "https://localhost:8080/"
        },
        "outputId": "d6eebe3b-8d41-442e-f092-0c3b31b6faf1"
      },
      "outputs": [
        {
          "output_type": "stream",
          "name": "stdout",
          "text": [
            "40000000000\n",
            "\n",
            "real\t0m0.003s\n",
            "user\t0m0.001s\n",
            "sys\t0m0.002s\n"
          ]
        }
      ],
      "source": [
        "!g++ -o max_pairwise_product_long_sorting max_pairwise_product_long_sorting.cpp\n",
        "!time ./max_pairwise_product_long_sorting < input3.txt"
      ]
    },
    {
      "cell_type": "markdown",
      "metadata": {
        "id": "oJGdPl1HOb_k"
      },
      "source": [
        "20 stress tests"
      ]
    },
    {
      "cell_type": "code",
      "execution_count": 136,
      "metadata": {
        "id": "pXHtO1dEOb_k",
        "colab": {
          "base_uri": "https://localhost:8080/"
        },
        "outputId": "1e7ddd07-48ed-4a95-bf7d-c5ca93541ebb"
      },
      "outputs": [
        {
          "output_type": "stream",
          "name": "stdout",
          "text": [
            "Ingrese el índice inicial para los archivos de entrada: 13\n",
            "Ingrese la cantidad de pruebas de estrés a crear: 20\n"
          ]
        }
      ],
      "source": [
        "#stress tests randomly created with index from 13 to 32 for files\n",
        "!g++ stress_test_generator.cpp -o stress_test_generator\n",
        "!./stress_test_generator\n",
        "\n",
        "#Start index = 13\n",
        "# Number of tests: 20"
      ]
    },
    {
      "cell_type": "code",
      "source": [
        "%%writefile run_all_test.sh\n",
        "#!/bin/bash\n",
        "g++ max_pairwise_product_full.cpp -o max_pairwise_product_full\n",
        "\n",
        "# Bucle para procesar los archivos desde input13.txt hasta input32.txt\n",
        "for i in {13..32}\n",
        "do\n",
        "    # Ejecutar el programa con el archivo de entrada correcto\n",
        "    ./max_pairwise_product_full < input$i.txt > ctest$i.txt\n",
        "    echo \"Testing on input$i\"\n",
        "\n",
        "    # Medir el tiempo de ejecución\n",
        "    time ./max_pairwise_product_full < input$i.txt\n",
        "\n",
        "    # Comparar la salida generada con la salida esperada\n",
        "    echo \"\"\n",
        "\n",
        "    # Verificar la diferencia entre el archivo de salida esperado y el generado\n",
        "    grep -xvFf output$i.txt ctest$i.txt\n",
        "done"
      ],
      "metadata": {
        "colab": {
          "base_uri": "https://localhost:8080/"
        },
        "id": "37V2GSdtfTDj",
        "outputId": "d8c3ce9e-db73-48be-d67c-583ba1139672"
      },
      "execution_count": 139,
      "outputs": [
        {
          "output_type": "stream",
          "name": "stdout",
          "text": [
            "Overwriting run_all_test.sh\n"
          ]
        }
      ]
    },
    {
      "cell_type": "code",
      "source": [
        "!chmod u+x run_all_test.sh\n",
        "!./run_all_test.sh"
      ],
      "metadata": {
        "colab": {
          "base_uri": "https://localhost:8080/"
        },
        "id": "t03zT2fSfTWY",
        "outputId": "c2760321-f632-4441-944a-335ff9080078"
      },
      "execution_count": 140,
      "outputs": [
        {
          "output_type": "stream",
          "name": "stdout",
          "text": [
            "Testing on input13\n",
            "99950006\n",
            "\n",
            "real\t0m0.009s\n",
            "user\t0m0.007s\n",
            "sys\t0m0.002s\n",
            "\n",
            "Testing on input14\n",
            "94438899\n",
            "\n",
            "real\t0m0.002s\n",
            "user\t0m0.000s\n",
            "sys\t0m0.002s\n",
            "\n",
            "Testing on input15\n",
            "98624680\n",
            "\n",
            "real\t0m0.002s\n",
            "user\t0m0.002s\n",
            "sys\t0m0.000s\n",
            "\n",
            "Testing on input16\n",
            "99161643\n",
            "\n",
            "real\t0m0.004s\n",
            "user\t0m0.003s\n",
            "sys\t0m0.001s\n",
            "\n",
            "Testing on input17\n",
            "99750024\n",
            "\n",
            "real\t0m0.002s\n",
            "user\t0m0.001s\n",
            "sys\t0m0.001s\n",
            "\n",
            "Testing on input18\n",
            "73533650\n",
            "\n",
            "real\t0m0.003s\n",
            "user\t0m0.001s\n",
            "sys\t0m0.001s\n",
            "\n",
            "Testing on input19\n",
            "99430572\n",
            "\n",
            "real\t0m0.006s\n",
            "user\t0m0.004s\n",
            "sys\t0m0.001s\n",
            "\n",
            "Testing on input20\n",
            "99750066\n",
            "\n",
            "real\t0m0.005s\n",
            "user\t0m0.004s\n",
            "sys\t0m0.001s\n",
            "\n",
            "Testing on input21\n",
            "98575100\n",
            "\n",
            "real\t0m0.002s\n",
            "user\t0m0.001s\n",
            "sys\t0m0.001s\n",
            "\n",
            "Testing on input22\n",
            "99810088\n",
            "\n",
            "real\t0m0.009s\n",
            "user\t0m0.009s\n",
            "sys\t0m0.000s\n",
            "\n",
            "Testing on input23\n",
            "98218008\n",
            "\n",
            "real\t0m0.004s\n",
            "user\t0m0.003s\n",
            "sys\t0m0.000s\n",
            "\n",
            "Testing on input24\n",
            "99800099\n",
            "\n",
            "real\t0m0.008s\n",
            "user\t0m0.006s\n",
            "sys\t0m0.002s\n",
            "\n",
            "Testing on input25\n",
            "99440735\n",
            "\n",
            "real\t0m0.007s\n",
            "user\t0m0.006s\n",
            "sys\t0m0.001s\n",
            "\n",
            "Testing on input26\n",
            "87694731\n",
            "\n",
            "real\t0m0.002s\n",
            "user\t0m0.001s\n",
            "sys\t0m0.001s\n",
            "\n",
            "Testing on input27\n",
            "99760063\n",
            "\n",
            "real\t0m0.005s\n",
            "user\t0m0.003s\n",
            "sys\t0m0.001s\n",
            "\n",
            "Testing on input28\n",
            "99141768\n",
            "\n",
            "real\t0m0.002s\n",
            "user\t0m0.002s\n",
            "sys\t0m0.000s\n",
            "\n",
            "Testing on input29\n",
            "97386480\n",
            "\n",
            "real\t0m0.002s\n",
            "user\t0m0.000s\n",
            "sys\t0m0.002s\n",
            "\n",
            "Testing on input30\n",
            "99410864\n",
            "\n",
            "real\t0m0.005s\n",
            "user\t0m0.004s\n",
            "sys\t0m0.001s\n",
            "\n",
            "Testing on input31\n",
            "99131620\n",
            "\n",
            "real\t0m0.005s\n",
            "user\t0m0.003s\n",
            "sys\t0m0.001s\n",
            "\n",
            "Testing on input32\n",
            "99940008\n",
            "\n",
            "real\t0m0.006s\n",
            "user\t0m0.005s\n",
            "sys\t0m0.001s\n",
            "\n"
          ]
        }
      ]
    },
    {
      "cell_type": "markdown",
      "metadata": {
        "id": "2beTmWFPOb_k"
      },
      "source": [
        "Count executed instructions in code and verify with inputs 1,2 and 3\n"
      ]
    },
    {
      "cell_type": "code",
      "execution_count": 142,
      "metadata": {
        "id": "iuByv4x1Ob_k",
        "colab": {
          "base_uri": "https://localhost:8080/"
        },
        "outputId": "af113696-b23a-4111-92b3-1004daeec2c0"
      },
      "outputs": [
        {
          "output_type": "stream",
          "name": "stdout",
          "text": [
            "Overwriting max_pairwise_product_long_sorting_execints.cpp\n"
          ]
        }
      ],
      "source": [
        "%%writefile max_pairwise_product_long_sorting_execints.cpp\n",
        "#include <iostream>\n",
        "#include <vector>\n",
        "#include <algorithm>\n",
        "#include <cmath> // Para std::log\n",
        "\n",
        "// Variable global para contar las instrucciones ejecutadas\n",
        "long long execints = 0LL;\n",
        "\n",
        "// Implementación del introsort\n",
        "template <typename RandomIt>\n",
        "void introsort(RandomIt first, RandomIt last, int depth_limit) {\n",
        "    while (last - first > 16) {\n",
        "        if (depth_limit == 0) {\n",
        "            std::make_heap(first, last);\n",
        "            std::sort_heap(first, last);\n",
        "            return;\n",
        "        }\n",
        "        --depth_limit;\n",
        "        RandomIt pivot = std::partition(first, last, [=](const auto& em) { return em < *(last - 1); });\n",
        "        std::swap(*pivot, *(last - 1));\n",
        "        introsort(first, pivot, depth_limit);\n",
        "        first = pivot + 1;\n",
        "    }\n",
        "    std::sort(first, last);\n",
        "}\n",
        "\n",
        "// Función envolvente para usar introsort\n",
        "template <typename RandomIt>\n",
        "void introsort(RandomIt first, RandomIt last) {\n",
        "    introsort(first, last, 2 * std::log(last - first));\n",
        "}\n",
        "\n",
        "// Función para calcular el producto máximo de pares\n",
        "long long MaxPairwiseProduct(const std::vector<int>& numbers) {\n",
        "    std::vector<int> sorted_numbers = numbers;\n",
        "    introsort(sorted_numbers.begin(), sorted_numbers.end()); // Ordena el vector\n",
        "\n",
        "    int n = sorted_numbers.size();\n",
        "    execints += 2; // Para la asignación y la comprobación del tamaño\n",
        "    execints += 2 * std::log(n); // Para el proceso de ordenación\n",
        "\n",
        "    // Retorna el producto de los dos elementos más grandes\n",
        "    return (long long)sorted_numbers[n - 1] * sorted_numbers[n - 2];\n",
        "}\n",
        "\n",
        "int main() {\n",
        "    int n;\n",
        "    std::cin >> n;\n",
        "    execints += 1; // Para leer n\n",
        "\n",
        "    std::vector<int> numbers(n);\n",
        "    for (int i = 0; i < n; ++i) {\n",
        "        std::cin >> numbers[i];\n",
        "        execints += 2; // Para leer el número y el incremento de i\n",
        "    }\n",
        "\n",
        "    // Imprime el número total de instrucciones ejecutadas\n",
        "    std::cout << execints << \"\\n\";\n",
        "\n",
        "    return 0;\n",
        "}\n"
      ]
    },
    {
      "cell_type": "code",
      "source": [
        "#Compute the time using some of the input files\n",
        "!g++ max_pairwise_product_long_sorting_execints.cpp -o max_pairwise_product_long_sorting_execints\n",
        "!time ./max_pairwise_product_long_sorting_execints < input11.txt  > output11.txt\n",
        "!time ./max_pairwise_product_long_sorting_execints < input25.txt  > output25.txt\n",
        "!time ./max_pairwise_product_long_sorting_execints < input32.txt  > output32.txt"
      ],
      "metadata": {
        "colab": {
          "base_uri": "https://localhost:8080/"
        },
        "id": "ql_uvD-Ng15L",
        "outputId": "36e03234-8a28-4f48-b8f5-611e731f0c56"
      },
      "execution_count": 143,
      "outputs": [
        {
          "output_type": "stream",
          "name": "stdout",
          "text": [
            "\n",
            "real\t0m0.069s\n",
            "user\t0m0.066s\n",
            "sys\t0m0.003s\n",
            "\n",
            "real\t0m0.004s\n",
            "user\t0m0.001s\n",
            "sys\t0m0.003s\n",
            "\n",
            "real\t0m0.009s\n",
            "user\t0m0.003s\n",
            "sys\t0m0.001s\n"
          ]
        }
      ]
    },
    {
      "cell_type": "markdown",
      "metadata": {
        "id": "x2CXhkwTOb_l"
      },
      "source": [
        "Calculate estimated time by instruction and number of instructions by second"
      ]
    },
    {
      "cell_type": "code",
      "execution_count": 145,
      "metadata": {
        "id": "nTjxyTMtOb_l",
        "colab": {
          "base_uri": "https://localhost:8080/"
        },
        "outputId": "df6960ee-0f37-4e65-831f-d75367a3af61"
      },
      "outputs": [
        {
          "output_type": "stream",
          "name": "stdout",
          "text": [
            "Output 1:\n",
            "ETI: 0.000000182 s/instruction\n",
            "IPS: 5479466 instructions/second\n",
            "\n",
            "\n",
            "Output 2:\n",
            "ETI: 0.000001811 s/instruction\n",
            "IPS: 552333 instructions/second\n",
            "\n",
            "\n",
            "Output 3:\n",
            "ETI: 0.000002586 s/instruction\n",
            "IPS: 386750 instructions/second\n"
          ]
        }
      ],
      "source": [
        "# Read the content of output files\n",
        "def read_output(file_name):\n",
        "    with open(file_name, 'r') as file:\n",
        "        return file.read().strip()\n",
        "\n",
        "# Read output content from respective files\n",
        "output1_content = read_output('output11.txt')\n",
        "output2_content = read_output('output25.txt')\n",
        "output3_content = read_output('output32.txt')\n",
        "\n",
        "# Parse the number of executed instructions\n",
        "executed_instructions_1 = int(output1_content)\n",
        "executed_instructions_2 = int(output2_content)\n",
        "executed_instructions_3 = int(output3_content)\n",
        "\n",
        "# Real-time measurements in seconds\n",
        "real_time_1 = 0.073\n",
        "real_time_2 = 0.003\n",
        "real_time_3 = 0.004\n",
        "\n",
        "# Compute Estimated Time per Instruction (ETI) and Instructions per Second (IPS)\n",
        "def calculate_metrics(real_time, executed_instructions):\n",
        "    eti = real_time / executed_instructions\n",
        "    ips = executed_instructions / real_time\n",
        "    return eti, ips\n",
        "\n",
        "eti_1, ips_1 = calculate_metrics(real_time_1, executed_instructions_1)\n",
        "eti_2, ips_2 = calculate_metrics(real_time_2, executed_instructions_2)\n",
        "eti_3, ips_3 = calculate_metrics(real_time_3, executed_instructions_3)\n",
        "\n",
        "# Print the results\n",
        "def print_metrics(output_number, eti, ips):\n",
        "    print(f\"Output {output_number}:\")\n",
        "    print(f\"ETI: {eti:.9f} s/instruction\")\n",
        "    print(f\"IPS: {ips:.0f} instructions/second\")\n",
        "\n",
        "print_metrics(1, eti_1, ips_1)\n",
        "print(\"\\n\")\n",
        "print_metrics(2, eti_2, ips_2)\n",
        "print(\"\\n\")\n",
        "print_metrics(3, eti_3, ips_3)\n",
        "\n"
      ]
    },
    {
      "cell_type": "markdown",
      "source": [
        "### Estimate and verify the maximun n that can be solved in 1 second"
      ],
      "metadata": {
        "id": "CcgDYDQuaFeH"
      }
    },
    {
      "cell_type": "code",
      "source": [
        "%%writefile max_n_in_a_second_sorting.cpp\n",
        "#include <iostream>\n",
        "#include <vector>\n",
        "#include <algorithm>\n",
        "#include <cmath>    // Include cmath for std::log\n",
        "#include <chrono>   // Include chrono for timing\n",
        "\n",
        "// Implement introsort\n",
        "template <typename RandomIt>\n",
        "void introsort(RandomIt first, RandomIt last, int depth_limit) {\n",
        "    while (last - first > 16) {\n",
        "        if (depth_limit == 0) {\n",
        "            std::make_heap(first, last);\n",
        "            std::sort_heap(first, last);\n",
        "            return;\n",
        "        }\n",
        "        --depth_limit;\n",
        "        RandomIt pivot = std::partition(first, last, [=](const auto& em) { return em < *(last - 1); });\n",
        "        std::swap(*pivot, *(last - 1));\n",
        "        introsort(first, pivot, depth_limit);\n",
        "        first = pivot + 1;\n",
        "    }\n",
        "    std::sort(first, last);\n",
        "}\n",
        "\n",
        "// Wrapper function to use introsort\n",
        "template <typename RandomIt>\n",
        "void introsort(RandomIt first, RandomIt last) {\n",
        "    introsort(first, last, 2 * std::log(last - first));\n",
        "}\n",
        "\n",
        "// Function to calculate the maximum pairwise product\n",
        "long long MaxPairwiseProduct(const std::vector<int>& numbers) {\n",
        "    std::vector<int> sorted_numbers = numbers;\n",
        "    introsort(sorted_numbers.begin(), sorted_numbers.end());\n",
        "\n",
        "    int n = sorted_numbers.size();\n",
        "    return (long long)sorted_numbers[n - 1] * sorted_numbers[n - 2];\n",
        "}\n",
        "\n",
        "// Function to measure execution time for a given input size\n",
        "double measureTimeForN(int n) {\n",
        "    std::vector<int> numbers(n, 1); // Generate input with all elements as 1\n",
        "    auto start = std::chrono::high_resolution_clock::now(); // Start the timer\n",
        "    MaxPairwiseProduct(numbers); // Call the function\n",
        "    auto end = std::chrono::high_resolution_clock::now(); // Stop the timer\n",
        "    std::chrono::duration<double> elapsed_seconds = end - start; // Calculate duration\n",
        "    return elapsed_seconds.count(); // Return the duration in seconds\n",
        "}\n",
        "\n",
        "// Function to find the maximum n that can be solved within a given time limit\n",
        "int findMaxNWithinTimeLimit(double time_limit) {\n",
        "    int low = 100; // Initial low value of n\n",
        "    int high = low; // Initial high value of n\n",
        "\n",
        "    // Increase high until execution time exceeds the time limit\n",
        "    while (measureTimeForN(high) <= time_limit) {\n",
        "        low = high;\n",
        "        high *= 2;\n",
        "    }\n",
        "\n",
        "    // Binary search to find the maximum n within the time limit\n",
        "    while (low <= high) {\n",
        "        int mid = low + (high - low) / 2;\n",
        "        if (measureTimeForN(mid) <= time_limit) {\n",
        "            low = mid + 1; // Move to the right half\n",
        "        } else {\n",
        "            high = mid - 1; // Move to the left half\n",
        "        }\n",
        "    }\n",
        "\n",
        "    return high; // Return the last successful value of n\n",
        "}\n",
        "\n",
        "int main() {\n",
        "    double time_limit = 1.0; // Time limit in seconds\n",
        "    int max_n = findMaxNWithinTimeLimit(time_limit);\n",
        "    std::cout << \"Maximum n that can be solved in 1 second: \" << max_n << std::endl;\n",
        "    return 0;\n",
        "}\n"
      ],
      "metadata": {
        "id": "fLztHReKaGFq",
        "colab": {
          "base_uri": "https://localhost:8080/"
        },
        "outputId": "9d91eb1f-64fc-4cc7-8119-b06cf79de3fc"
      },
      "execution_count": 146,
      "outputs": [
        {
          "output_type": "stream",
          "name": "stdout",
          "text": [
            "Writing max_n_in_a_second_sorting.cpp\n"
          ]
        }
      ]
    },
    {
      "cell_type": "code",
      "source": [
        "!g++ -o max_n_in_a_second_sorting max_n_in_a_second_sorting.cpp\n",
        "!./max_n_in_a_second_sorting"
      ],
      "metadata": {
        "colab": {
          "base_uri": "https://localhost:8080/"
        },
        "id": "TR5gIQ0khYvA",
        "outputId": "dfeb1321-a30a-4825-906d-0159eef4c7bb"
      },
      "execution_count": 147,
      "outputs": [
        {
          "output_type": "stream",
          "name": "stdout",
          "text": [
            "Maximum n that can be solved in 1 second: 583646\n"
          ]
        }
      ]
    },
    {
      "cell_type": "code",
      "source": [
        "#Create stress test of size n = 550000\n",
        "!g++ -o stress_test_of_size_n stress_test_of_size_n.cpp\n",
        "!./stress_test_of_size_n"
      ],
      "metadata": {
        "colab": {
          "base_uri": "https://localhost:8080/"
        },
        "id": "-nl7JMY2hh0X",
        "outputId": "84330180-9936-42a8-d618-f5406b6becd2"
      },
      "execution_count": 149,
      "outputs": [
        {
          "output_type": "stream",
          "name": "stdout",
          "text": [
            "Enter the size of the vector (n): 550000\n"
          ]
        }
      ]
    },
    {
      "cell_type": "code",
      "source": [
        "#Verify the max_pairwise_product_long_sorting can run stress test of size n = 550000\n",
        "\n",
        "!g++ -omax_pairwise_product_long_sorting max_pairwise_product_long_sorting.cpp\n",
        "!time ./max_pairwise_product_long_sorting < stress_test_of_size_n.txt"
      ],
      "metadata": {
        "colab": {
          "base_uri": "https://localhost:8080/"
        },
        "id": "s61B2OVMhqCu",
        "outputId": "79f8fd09-0040-4f12-f53c-39848e0faa83"
      },
      "execution_count": 150,
      "outputs": [
        {
          "output_type": "stream",
          "name": "stdout",
          "text": [
            "40000000000\n",
            "\n",
            "real\t0m0.779s\n",
            "user\t0m0.742s\n",
            "sys\t0m0.006s\n"
          ]
        }
      ]
    },
    {
      "cell_type": "markdown",
      "metadata": {
        "id": "VMKC5duEOQfk"
      },
      "source": [
        "## Efficient solution with largest and second-largest in an list, array or vector in C++ and Python\n",
        "\n",
        " $$T(n) < 10 n  = O(n)$$\n",
        "\n",
        "\n",
        "\n"
      ]
    },
    {
      "cell_type": "markdown",
      "metadata": {
        "id": "nLcKBwbU0QsE"
      },
      "source": [
        "Add in each line a coment with the number of intstrcution that are executed in that line"
      ]
    },
    {
      "cell_type": "code",
      "execution_count": 151,
      "metadata": {
        "id": "knls5Fh3NSt_",
        "colab": {
          "base_uri": "https://localhost:8080/"
        },
        "outputId": "fab3d9a8-a728-4236-f760-b31a4fa3c0f6"
      },
      "outputs": [
        {
          "output_type": "stream",
          "name": "stdout",
          "text": [
            "Writing max_pairwise_product_long_efficient_execints.cpp\n"
          ]
        }
      ],
      "source": [
        "%%writefile max_pairwise_product_long_efficient_execints.cpp\n",
        "#include <iostream>\n",
        "#include <vector>\n",
        "#include <utility> // Include for std::pair\n",
        "\n",
        "std::pair<long long, long long> MaxPairwiseProduct(const std::vector<int>& numbers, long long& execints) {\n",
        "    long long max_product = 0; // Initialize max product\n",
        "    execints += 1; // Increment instruction count for initialization\n",
        "\n",
        "    long long second_max = 0; // Initialize second max\n",
        "    execints += 1; // Increment instruction count for initialization\n",
        "\n",
        "    for (int i = 0; i < numbers.size(); ++i) {\n",
        "        execints += 3; // Increment instruction count for loop operation\n",
        "        execints += 2; // Increment instruction count for comparison\n",
        "\n",
        "        // Update max product and second max values\n",
        "        if (numbers[i] > max_product) {\n",
        "            second_max = max_product; // Update second max\n",
        "            execints += 1; // Increment instruction count\n",
        "            max_product = numbers[i]; // Update max product\n",
        "            execints += 1; // Increment instruction count\n",
        "        } else if (numbers[i] > second_max) {\n",
        "            second_max = numbers[i]; // Update second max\n",
        "            execints += 1; // Increment instruction count\n",
        "        }\n",
        "    }\n",
        "\n",
        "    return std::make_pair(max_product, second_max); // Return the pair (max product, second max)\n",
        "}\n",
        "\n",
        "int main() {\n",
        "    long long execints = 0; // Initialize instruction count\n",
        "    int n; // Declare the number of elements\n",
        "    execints += 1; // Increment instruction count for variable declaration\n",
        "    std::cin >> n; // Input the number of elements\n",
        "    execints += 1; // Increment instruction count for input\n",
        "\n",
        "    std::vector<int> numbers(n); // Initialize the vector with size n\n",
        "    execints += n + 2; // Increment instruction count for vector initialization\n",
        "\n",
        "    for (int i = 0; i < n; ++i) {\n",
        "        execints += 3; // Increment instruction count for loop operation\n",
        "        execints += 2; // Increment instruction count for comparison\n",
        "        std::cin >> numbers[i]; // Input each number into the vector\n",
        "        execints += 1; // Increment instruction count for input\n",
        "    }\n",
        "\n",
        "    auto result = MaxPairwiseProduct(numbers, execints); // Get the pair (max product, second max)\n",
        "    execints += 1; // Increment instruction count for calling MaxPairwiseProduct\n",
        "    std::cout << \"Number of executed instructions: \" << execints << std::endl; // Output the instruction count\n",
        "    return 0; // Return 0 to indicate successful completion\n",
        "}\n"
      ]
    },
    {
      "cell_type": "markdown",
      "metadata": {
        "id": "-JCijbWxNSii"
      },
      "source": [
        "Test with inputs 1 and 2\n",
        "\n"
      ]
    },
    {
      "cell_type": "code",
      "execution_count": 152,
      "metadata": {
        "id": "TrTGAfqlNVXT",
        "colab": {
          "base_uri": "https://localhost:8080/"
        },
        "outputId": "f2676cda-007f-4c6f-cfd8-1be0121d6bc6"
      },
      "outputs": [
        {
          "output_type": "stream",
          "name": "stdout",
          "text": [
            "Number of executed instructions: 147\n",
            "\n",
            "real\t0m0.003s\n",
            "user\t0m0.000s\n",
            "sys\t0m0.003s\n",
            "Number of executed instructions: 130\n",
            "\n",
            "real\t0m0.003s\n",
            "user\t0m0.001s\n",
            "sys\t0m0.001s\n"
          ]
        }
      ],
      "source": [
        "!g++ -o max_pairwise_product_long_efficient_execints max_pairwise_product_long_efficient_execints.cpp\n",
        "!time ./max_pairwise_product_long_efficient_execints < input1.txt\n",
        "!time ./max_pairwise_product_long_efficient_execints < input2.txt"
      ]
    },
    {
      "cell_type": "markdown",
      "metadata": {
        "id": "PRX51wADNR8b"
      },
      "source": [
        "Test and time it with input 3"
      ]
    },
    {
      "cell_type": "code",
      "execution_count": 153,
      "metadata": {
        "id": "v4z7-Is_NRt7",
        "colab": {
          "base_uri": "https://localhost:8080/"
        },
        "outputId": "c53d9cf2-851a-4722-86f1-dfa8e756f186"
      },
      "outputs": [
        {
          "output_type": "stream",
          "name": "stdout",
          "text": [
            "Number of executed instructions: 87\n",
            "\n",
            "real\t0m0.003s\n",
            "user\t0m0.001s\n",
            "sys\t0m0.002s\n"
          ]
        }
      ],
      "source": [
        "!g++ -o max_pairwise_product_long_efficient_execints max_pairwise_product_long_efficient_execints.cpp\n",
        "!time ./max_pairwise_product_long_efficient_execints < input3.txt"
      ]
    },
    {
      "cell_type": "markdown",
      "metadata": {
        "id": "rpdfs0_TNZJf"
      },
      "source": [
        "20 stress tests"
      ]
    },
    {
      "cell_type": "code",
      "execution_count": 154,
      "metadata": {
        "id": "Lu4tYcKzNcTT",
        "colab": {
          "base_uri": "https://localhost:8080/"
        },
        "outputId": "c50f8f0a-186c-4ec5-ebdc-6eb011ff05f4"
      },
      "outputs": [
        {
          "output_type": "stream",
          "name": "stdout",
          "text": [
            "Overwriting run_all_test.sh\n"
          ]
        }
      ],
      "source": [
        "%%writefile run_all_test.sh\n",
        "#!/bin/bash\n",
        "g++ max_pairwise_product_full.cpp -o max_pairwise_product_full\n",
        "\n",
        "# Bucle para procesar los archivos desde input13.txt hasta input32.txt\n",
        "for i in {13..32}\n",
        "do\n",
        "    # Ejecutar el programa con el archivo de entrada correcto\n",
        "    ./max_pairwise_product_full < input$i.txt > ctest$i.txt\n",
        "    echo \"Testing on input$i\"\n",
        "\n",
        "    # Medir el tiempo de ejecución\n",
        "    time ./max_pairwise_product_full < input$i.txt\n",
        "\n",
        "    # Comparar la salida generada con la salida esperada\n",
        "    echo \"\"\n",
        "\n",
        "    # Verificar la diferencia entre el archivo de salida esperado y el generado\n",
        "    grep -xvFf output$i.txt ctest$i.txt\n",
        "done"
      ]
    },
    {
      "cell_type": "code",
      "source": [
        "!chmod u+x run_all_test.sh\n",
        "!./run_all_test.sh"
      ],
      "metadata": {
        "colab": {
          "base_uri": "https://localhost:8080/"
        },
        "id": "fhH0z16UiTCR",
        "outputId": "e680ccae-ee76-4d0d-d6f7-74c832248229"
      },
      "execution_count": 155,
      "outputs": [
        {
          "output_type": "stream",
          "name": "stdout",
          "text": [
            "Testing on input13\n",
            "99950006\n",
            "\n",
            "real\t0m0.009s\n",
            "user\t0m0.009s\n",
            "sys\t0m0.001s\n",
            "\n",
            "Testing on input14\n",
            "94438899\n",
            "\n",
            "real\t0m0.002s\n",
            "user\t0m0.000s\n",
            "sys\t0m0.002s\n",
            "\n",
            "Testing on input15\n",
            "98624680\n",
            "\n",
            "real\t0m0.003s\n",
            "user\t0m0.000s\n",
            "sys\t0m0.003s\n",
            "\n",
            "Testing on input16\n",
            "99161643\n",
            "\n",
            "real\t0m0.004s\n",
            "user\t0m0.002s\n",
            "sys\t0m0.002s\n",
            "\n",
            "Testing on input17\n",
            "99750024\n",
            "\n",
            "real\t0m0.002s\n",
            "user\t0m0.001s\n",
            "sys\t0m0.001s\n",
            "\n",
            "Testing on input18\n",
            "73533650\n",
            "\n",
            "real\t0m0.002s\n",
            "user\t0m0.001s\n",
            "sys\t0m0.001s\n",
            "\n",
            "Testing on input19\n",
            "99430572\n",
            "\n",
            "real\t0m0.005s\n",
            "user\t0m0.005s\n",
            "sys\t0m0.000s\n",
            "\n",
            "Testing on input20\n",
            "99750066\n",
            "\n",
            "real\t0m0.005s\n",
            "user\t0m0.004s\n",
            "sys\t0m0.001s\n",
            "\n",
            "Testing on input21\n",
            "98575100\n",
            "\n",
            "real\t0m0.002s\n",
            "user\t0m0.001s\n",
            "sys\t0m0.001s\n",
            "\n",
            "Testing on input22\n",
            "99810088\n",
            "\n",
            "real\t0m0.010s\n",
            "user\t0m0.008s\n",
            "sys\t0m0.001s\n",
            "\n",
            "Testing on input23\n",
            "98218008\n",
            "\n",
            "real\t0m0.004s\n",
            "user\t0m0.003s\n",
            "sys\t0m0.001s\n",
            "\n",
            "Testing on input24\n",
            "99800099\n",
            "\n",
            "real\t0m0.008s\n",
            "user\t0m0.009s\n",
            "sys\t0m0.000s\n",
            "\n",
            "Testing on input25\n",
            "99440735\n",
            "\n",
            "real\t0m0.007s\n",
            "user\t0m0.006s\n",
            "sys\t0m0.001s\n",
            "\n",
            "99440735\n",
            "Testing on input26\n",
            "87694731\n",
            "\n",
            "real\t0m0.002s\n",
            "user\t0m0.001s\n",
            "sys\t0m0.001s\n",
            "\n",
            "Testing on input27\n",
            "99760063\n",
            "\n",
            "real\t0m0.005s\n",
            "user\t0m0.004s\n",
            "sys\t0m0.000s\n",
            "\n",
            "Testing on input28\n",
            "99141768\n",
            "\n",
            "real\t0m0.002s\n",
            "user\t0m0.001s\n",
            "sys\t0m0.001s\n",
            "\n",
            "Testing on input29\n",
            "97386480\n",
            "\n",
            "real\t0m0.002s\n",
            "user\t0m0.002s\n",
            "sys\t0m0.000s\n",
            "\n",
            "Testing on input30\n",
            "99410864\n",
            "\n",
            "real\t0m0.006s\n",
            "user\t0m0.005s\n",
            "sys\t0m0.001s\n",
            "\n",
            "Testing on input31\n",
            "99131620\n",
            "\n",
            "real\t0m0.004s\n",
            "user\t0m0.003s\n",
            "sys\t0m0.002s\n",
            "\n",
            "Testing on input32\n",
            "99940008\n",
            "\n",
            "real\t0m0.006s\n",
            "user\t0m0.004s\n",
            "sys\t0m0.002s\n",
            "\n",
            "99940008\n"
          ]
        }
      ]
    },
    {
      "cell_type": "markdown",
      "metadata": {
        "id": "L8U4151JNbxk"
      },
      "source": [
        "Count executed instructions in code and verify with inputs 1,2 and 3\n"
      ]
    },
    {
      "cell_type": "code",
      "execution_count": 156,
      "metadata": {
        "id": "dh85RM8vNhFz",
        "colab": {
          "base_uri": "https://localhost:8080/"
        },
        "outputId": "3e716c3c-dc4a-46fc-fe67-1fc3a6dc810e"
      },
      "outputs": [
        {
          "output_type": "stream",
          "name": "stdout",
          "text": [
            "Number of executed instructions: 147\n",
            "Number of executed instructions: 130\n",
            "Number of executed instructions: 87\n"
          ]
        }
      ],
      "source": [
        "!g++ -o max_pairwise_product_long_efficient_execints max_pairwise_product_long_efficient_execints.cpp\n",
        "!./max_pairwise_product_long_efficient_execints < input1.txt\n",
        "!./max_pairwise_product_long_efficient_execints < input2.txt\n",
        "!./max_pairwise_product_long_efficient_execints < input3.txt"
      ]
    },
    {
      "cell_type": "markdown",
      "metadata": {
        "id": "K6ybgCmpNygr"
      },
      "source": [
        "Calculate estimated time by instruction and number of instructions by second"
      ]
    },
    {
      "cell_type": "code",
      "execution_count": 157,
      "metadata": {
        "id": "kwe3G1O3Nz1w",
        "colab": {
          "base_uri": "https://localhost:8080/"
        },
        "outputId": "a082c337-334b-44c0-e244-f03ae7849acf"
      },
      "outputs": [
        {
          "output_type": "stream",
          "name": "stdout",
          "text": [
            "\n",
            "real\t0m0.123s\n",
            "user\t0m0.115s\n",
            "sys\t0m0.002s\n",
            "\n",
            "real\t0m0.005s\n",
            "user\t0m0.001s\n",
            "sys\t0m0.002s\n",
            "\n",
            "real\t0m0.005s\n",
            "user\t0m0.002s\n",
            "sys\t0m0.002s\n"
          ]
        }
      ],
      "source": [
        "!g++ max_pairwise_product_long_sorting_execints.cpp -o max_pairwise_product_long_sorting_execints\n",
        "!time ./max_pairwise_product_long_sorting_execints < input12.txt  > output12.txt\n",
        "!time ./max_pairwise_product_long_sorting_execints < input27.txt  > output27.txt\n",
        "!time ./max_pairwise_product_long_sorting_execints < input31.txt  > output31.txt"
      ]
    },
    {
      "cell_type": "code",
      "source": [
        "with open('output12.txt', 'r') as file:\n",
        "    output1_content = file.read().strip()\n",
        "\n",
        "with open('output27.txt', 'r') as file:\n",
        "    output2_content = file.read().strip()\n",
        "\n",
        "with open('output31.txt', 'r') as file:\n",
        "    output3_content = file.read().strip()\n",
        "\n",
        "# Parse the number of executed instructions\n",
        "executed_instructions_1 = int(output1_content)\n",
        "executed_instructions_2 = int(output2_content)\n",
        "executed_instructions_3 = int(output3_content)\n",
        "\n",
        "# Real-time measurements in seconds\n",
        "real_time_1 = 0.066\n",
        "real_time_2 = 0.004\n",
        "real_time_3 = 0.005\n",
        "\n",
        "# Compute Estimated Time per Instruction (ETI) and Instructions per Second (IPS)\n",
        "eti_1 = real_time_1 / executed_instructions_1\n",
        "ips_1 = executed_instructions_1 / real_time_1\n",
        "\n",
        "eti_2 = real_time_2 / executed_instructions_2\n",
        "ips_2 = executed_instructions_2 / real_time_2\n",
        "\n",
        "eti_3 = real_time_3 / executed_instructions_3\n",
        "ips_3 = executed_instructions_3 / real_time_3\n",
        "\n",
        "# Print the results\n",
        "print(\"Output 1:\")\n",
        "print(\"ETI: {:.9f} s/instruction\".format(eti_1))\n",
        "print(\"IPS: {:.0f} instructions/second\".format(ips_1))\n",
        "\n",
        "print(\"\\nOutput 2:\")\n",
        "print(\"ETI: {:.9f} s/instruction\".format(eti_2))\n",
        "print(\"IPS: {:.0f} instructions/second\".format(ips_2))\n",
        "\n",
        "print(\"\\nOutput 3:\")\n",
        "print(\"ETI: {:.9f} s/instruction\".format(eti_3))\n",
        "print(\"IPS: {:.0f} instructions/second\".format(ips_3))"
      ],
      "metadata": {
        "id": "z3xjzg1YaKk6",
        "colab": {
          "base_uri": "https://localhost:8080/"
        },
        "outputId": "53feeda9-1206-4fdc-cf07-21d48be09dfb"
      },
      "execution_count": 158,
      "outputs": [
        {
          "output_type": "stream",
          "name": "stdout",
          "text": [
            "Output 1:\n",
            "ETI: 0.000000165 s/instruction\n",
            "IPS: 6060621 instructions/second\n",
            "\n",
            "Output 2:\n",
            "ETI: 0.000003249 s/instruction\n",
            "IPS: 307750 instructions/second\n",
            "\n",
            "Output 3:\n",
            "ETI: 0.000004163 s/instruction\n",
            "IPS: 240200 instructions/second\n"
          ]
        }
      ]
    },
    {
      "cell_type": "markdown",
      "source": [
        "### Estimate and verify the maximun n that can be solved in 1 second"
      ],
      "metadata": {
        "id": "v8GY6n_ZaJ4P"
      }
    },
    {
      "cell_type": "code",
      "source": [
        "%%writefile max_n_in_a_second_long_efficient.cpp\n",
        "#include <iostream>\n",
        "#include <fstream>\n",
        "#include <vector>\n",
        "#include <random>\n",
        "#include <chrono>\n",
        "\n",
        "// Function to generate a random integer in a specified range\n",
        "int random_int(int min, int max) {\n",
        "    static std::random_device rd;\n",
        "    static std::mt19937 gen(rd());\n",
        "    std::uniform_int_distribution<int> dis(min, max);\n",
        "    return dis(gen);\n",
        "}\n",
        "\n",
        "// Function to generate input data of size n\n",
        "void generate_input_data(int n, int min_value, int max_value) {\n",
        "    std::ofstream input_file(\"input.txt\");\n",
        "    input_file << n << \"\\n\"; // Output vector size\n",
        "\n",
        "    // Generate n random values and write them to the file\n",
        "    for (int j = 0; j < n; ++j) {\n",
        "        int num = random_int(min_value, max_value); // Generate random values for vector\n",
        "        input_file << num << \" \"; // Write vector element\n",
        "    }\n",
        "    input_file << \"\\n\"; // End of vector\n",
        "    input_file.close();\n",
        "}\n",
        "\n",
        "// Function to calculate the max pairwise product\n",
        "std::pair<long long, long long> MaxPairwiseProduct(const std::vector<int>& numbers) {\n",
        "    long long max_product = 0;\n",
        "    long long second_max = 0;\n",
        "\n",
        "    // Find the max product and second max in the vector\n",
        "    for (int i = 0; i < numbers.size(); ++i) {\n",
        "        if (numbers[i] > max_product) {\n",
        "            second_max = max_product;\n",
        "            max_product = numbers[i];\n",
        "        } else if (numbers[i] > second_max) {\n",
        "            second_max = numbers[i];\n",
        "        }\n",
        "    }\n",
        "\n",
        "    return std::make_pair(max_product, second_max);\n",
        "}\n",
        "\n",
        "int main() {\n",
        "    int n = 10;               // Initial size of the input vector\n",
        "    int min_value = 1;        // Minimum value for random numbers\n",
        "    int max_value = 1000000;  // Maximum value for random numbers\n",
        "    int max_n = 1000000;      // Maximum value of n to try\n",
        "    auto start_time = std::chrono::high_resolution_clock::now();\n",
        "\n",
        "    // Loop to find the maximum n that can be solved in 1 second\n",
        "    while (n <= max_n) {\n",
        "        // Generate input data for current n\n",
        "        generate_input_data(n, min_value, max_value);\n",
        "\n",
        "        // Measure the time taken to read and process the data\n",
        "        auto start = std::chrono::high_resolution_clock::now();\n",
        "\n",
        "        // Read input data from file\n",
        "        std::ifstream input_file(\"input.txt\");\n",
        "        int num;\n",
        "        std::vector<int> input_data;\n",
        "        input_file >> num; // Read the size of the input\n",
        "        input_data.reserve(num); // Reserve memory for input data\n",
        "        while (input_file >> num) {\n",
        "            input_data.push_back(num); // Read each number into the vector\n",
        "        }\n",
        "        input_file.close();\n",
        "\n",
        "        // Calculate the pairwise product\n",
        "        MaxPairwiseProduct(input_data);\n",
        "\n",
        "        // Measure the time taken for the computation\n",
        "        auto end = std::chrono::high_resolution_clock::now();\n",
        "        double elapsed_time = std::chrono::duration_cast<std::chrono::milliseconds>(end - start).count() / 1000.0;\n",
        "        std::cout << \"n = \" << n << \", Time taken: \" << elapsed_time << \" seconds\" << std::endl;\n",
        "\n",
        "        // Stop if the computation time exceeds 1 second\n",
        "        if (elapsed_time >= 1.0) {\n",
        "            break;\n",
        "        }\n",
        "        n *= 2; // Double the size of the input for the next iteration\n",
        "    }\n",
        "\n",
        "    // Output the maximum n that can be solved in 1 second\n",
        "    std::cout << \"Maximum n that can be solved in 1 second: \" << n << std::endl;\n",
        "\n",
        "    return 0;\n",
        "}\n"
      ],
      "metadata": {
        "colab": {
          "base_uri": "https://localhost:8080/"
        },
        "id": "tgTkLOeXi8Gt",
        "outputId": "da1ff18a-6358-413d-aa61-616ad737e9ba"
      },
      "execution_count": 159,
      "outputs": [
        {
          "output_type": "stream",
          "name": "stdout",
          "text": [
            "Writing max_n_in_a_second_long_efficient.cpp\n"
          ]
        }
      ]
    },
    {
      "cell_type": "code",
      "source": [
        "!g++ -o max_n_in_a_second_long_efficient max_n_in_a_second_long_efficient.cpp\n",
        "!./max_n_in_a_second_long_efficient"
      ],
      "metadata": {
        "colab": {
          "base_uri": "https://localhost:8080/"
        },
        "id": "-IwKZE0tjKlP",
        "outputId": "e4fc8e0f-f47a-4745-9188-cf077a7220df"
      },
      "execution_count": 160,
      "outputs": [
        {
          "output_type": "stream",
          "name": "stdout",
          "text": [
            "n = 10, Time taken: 0 seconds\n",
            "n = 20, Time taken: 0 seconds\n",
            "n = 40, Time taken: 0 seconds\n",
            "n = 80, Time taken: 0 seconds\n",
            "n = 160, Time taken: 0 seconds\n",
            "n = 320, Time taken: 0 seconds\n",
            "n = 640, Time taken: 0 seconds\n",
            "n = 1280, Time taken: 0 seconds\n",
            "n = 2560, Time taken: 0 seconds\n",
            "n = 5120, Time taken: 0 seconds\n",
            "n = 10240, Time taken: 0.001 seconds\n",
            "n = 20480, Time taken: 0.002 seconds\n",
            "n = 40960, Time taken: 0.005 seconds\n",
            "n = 81920, Time taken: 0.01 seconds\n",
            "n = 163840, Time taken: 0.021 seconds\n",
            "n = 327680, Time taken: 0.043 seconds\n",
            "n = 655360, Time taken: 0.107 seconds\n",
            "Maximum n that can be solved in 1 second: 1310720\n"
          ]
        }
      ]
    },
    {
      "cell_type": "markdown",
      "metadata": {
        "id": "sUpIWcykOGpT"
      },
      "source": [
        "## Super efficient solution\n",
        "\n",
        "Whitout storing the list in memory, only stpring the largest and second largest and whitout calling a function, add in each line a coment with the number of instructions that are executed in that line\n",
        "\n",
        "in C++ and Python\n",
        "\n",
        "\n",
        " $$T(n) < 13 n  = O(n)$$\n"
      ]
    },
    {
      "cell_type": "code",
      "execution_count": 162,
      "metadata": {
        "id": "hBLt_xBQLy8E",
        "colab": {
          "base_uri": "https://localhost:8080/"
        },
        "outputId": "9dea9fdc-5466-4519-c524-d75415b6140c"
      },
      "outputs": [
        {
          "output_type": "stream",
          "name": "stdout",
          "text": [
            "Overwriting max_pairwise_product_super_efficient.cpp\n"
          ]
        }
      ],
      "source": [
        "%%writefile max_pairwise_product_super_efficient.cpp\n",
        "#include <iostream>\n",
        "\n",
        "int main() {\n",
        "    int n;\n",
        "    std::cin >> n;  // Lee el tamaño de la lista de números\n",
        "\n",
        "    // Inicializa las variables para almacenar el mayor y segundo mayor número\n",
        "    long long largest = 0, second_largest = 0;\n",
        "\n",
        "    // Bucle para procesar los números\n",
        "    for (int i = 0; i < n; ++i) {\n",
        "        int number;\n",
        "        std::cin >> number;  // Lee un número\n",
        "\n",
        "        // Actualiza el mayor y el segundo mayor número\n",
        "        if (number > largest) {\n",
        "            second_largest = largest;  // El antiguo mayor se convierte en el segundo mayor\n",
        "            largest = number;          // Actualiza el mayor\n",
        "        } else if (number > second_largest) {\n",
        "            second_largest = number;   // Actualiza el segundo mayor si es mayor que el actual\n",
        "        }\n",
        "    }\n",
        "\n",
        "    // Calcula el producto máximo por pares usando los dos mayores números\n",
        "    long long max_product = largest * second_largest;\n",
        "\n",
        "    // Imprime el producto máximo\n",
        "    std::cout << max_product << \"\\n\";\n",
        "\n",
        "    return 0;  // Finaliza el programa\n",
        "}\n"
      ]
    },
    {
      "cell_type": "markdown",
      "metadata": {
        "id": "683gc3roHqzb"
      },
      "source": [
        "Test with inputs 1 and 2\n",
        "\n",
        "\n"
      ]
    },
    {
      "cell_type": "code",
      "execution_count": 163,
      "metadata": {
        "id": "b7d4LA8OIc2_",
        "colab": {
          "base_uri": "https://localhost:8080/"
        },
        "outputId": "e2f9cf46-752b-4335-fe04-6a5553e32b34"
      },
      "outputs": [
        {
          "output_type": "stream",
          "name": "stdout",
          "text": [
            "90\n",
            "\n",
            "real\t0m0.003s\n",
            "user\t0m0.000s\n",
            "sys\t0m0.002s\n",
            "90\n",
            "\n",
            "real\t0m0.003s\n",
            "user\t0m0.001s\n",
            "sys\t0m0.002s\n"
          ]
        }
      ],
      "source": [
        "!g++ -o max_pairwise_product_super_efficient max_pairwise_product_super_efficient.cpp\n",
        "!time ./max_pairwise_product_super_efficient < input1.txt\n",
        "!time ./max_pairwise_product_super_efficient < input2.txt"
      ]
    },
    {
      "cell_type": "markdown",
      "metadata": {
        "id": "36Ugn1odIeJz"
      },
      "source": [
        "Test and time it with input 3"
      ]
    },
    {
      "cell_type": "code",
      "execution_count": 164,
      "metadata": {
        "id": "jDyMbCnxHqSN",
        "colab": {
          "base_uri": "https://localhost:8080/"
        },
        "outputId": "7c144510-e0a3-49b3-e5fb-170bdf7139ff"
      },
      "outputs": [
        {
          "output_type": "stream",
          "name": "stdout",
          "text": [
            "40000000000\n",
            "\n",
            "real\t0m0.021s\n",
            "user\t0m0.001s\n",
            "sys\t0m0.002s\n"
          ]
        }
      ],
      "source": [
        "!time ./max_pairwise_product_super_efficient < input3.txt"
      ]
    },
    {
      "cell_type": "markdown",
      "metadata": {
        "id": "bhqiKQG6fjKM"
      },
      "source": [
        "20 stress tests"
      ]
    },
    {
      "cell_type": "code",
      "execution_count": 166,
      "metadata": {
        "id": "2KsiXKhALzwm",
        "colab": {
          "base_uri": "https://localhost:8080/"
        },
        "outputId": "713c5b15-19ab-4f30-fbd3-176b05226056"
      },
      "outputs": [
        {
          "output_type": "stream",
          "name": "stdout",
          "text": [
            "Overwriting run_all_test.sh\n"
          ]
        }
      ],
      "source": [
        "%%writefile run_all_test.sh\n",
        "#!/bin/bash\n",
        "g++ max_pairwise_product_full.cpp -o max_pairwise_product_full\n",
        "\n",
        "# Bucle para procesar los archivos desde input13.txt hasta input32.txt\n",
        "for i in {13..32}\n",
        "do\n",
        "    # Ejecutar el programa con el archivo de entrada correcto\n",
        "    ./max_pairwise_product_full < input$i.txt > ctest$i.txt\n",
        "    echo \"Testing on input$i\"\n",
        "\n",
        "    # Medir el tiempo de ejecución\n",
        "    time ./max_pairwise_product_full < input$i.txt\n",
        "\n",
        "    # Comparar la salida generada con la salida esperada\n",
        "    echo \"\"\n",
        "\n",
        "    # Verificar la diferencia entre el archivo de salida esperado y el generado\n",
        "    grep -xvFf output$i.txt ctest$i.txt\n",
        "done"
      ]
    },
    {
      "cell_type": "code",
      "source": [
        "!chmod u+x run_all_test.sh\n",
        "!./run_all_test.sh"
      ],
      "metadata": {
        "colab": {
          "base_uri": "https://localhost:8080/"
        },
        "id": "SzDD5StMjlAT",
        "outputId": "8fd5ca1c-b452-4b7b-91cc-9456e21debc0"
      },
      "execution_count": 167,
      "outputs": [
        {
          "output_type": "stream",
          "name": "stdout",
          "text": [
            "Testing on input13\n",
            "99950006\n",
            "\n",
            "real\t0m0.008s\n",
            "user\t0m0.006s\n",
            "sys\t0m0.002s\n",
            "\n",
            "Testing on input14\n",
            "94438899\n",
            "\n",
            "real\t0m0.002s\n",
            "user\t0m0.001s\n",
            "sys\t0m0.001s\n",
            "\n",
            "Testing on input15\n",
            "98624680\n",
            "\n",
            "real\t0m0.002s\n",
            "user\t0m0.001s\n",
            "sys\t0m0.001s\n",
            "\n",
            "Testing on input16\n",
            "99161643\n",
            "\n",
            "real\t0m0.004s\n",
            "user\t0m0.003s\n",
            "sys\t0m0.001s\n",
            "\n",
            "Testing on input17\n",
            "99750024\n",
            "\n",
            "real\t0m0.002s\n",
            "user\t0m0.001s\n",
            "sys\t0m0.001s\n",
            "\n",
            "Testing on input18\n",
            "73533650\n",
            "\n",
            "real\t0m0.002s\n",
            "user\t0m0.002s\n",
            "sys\t0m0.000s\n",
            "\n",
            "Testing on input19\n",
            "99430572\n",
            "\n",
            "real\t0m0.005s\n",
            "user\t0m0.003s\n",
            "sys\t0m0.002s\n",
            "\n",
            "Testing on input20\n",
            "99750066\n",
            "\n",
            "real\t0m0.006s\n",
            "user\t0m0.004s\n",
            "sys\t0m0.001s\n",
            "\n",
            "Testing on input21\n",
            "98575100\n",
            "\n",
            "real\t0m0.002s\n",
            "user\t0m0.002s\n",
            "sys\t0m0.000s\n",
            "\n",
            "Testing on input22\n",
            "99810088\n",
            "\n",
            "real\t0m0.009s\n",
            "user\t0m0.008s\n",
            "sys\t0m0.001s\n",
            "\n",
            "Testing on input23\n",
            "98218008\n",
            "\n",
            "real\t0m0.004s\n",
            "user\t0m0.002s\n",
            "sys\t0m0.001s\n",
            "\n",
            "Testing on input24\n",
            "99800099\n",
            "\n",
            "real\t0m0.008s\n",
            "user\t0m0.006s\n",
            "sys\t0m0.002s\n",
            "\n",
            "Testing on input25\n",
            "99440735\n",
            "\n",
            "real\t0m0.007s\n",
            "user\t0m0.006s\n",
            "sys\t0m0.001s\n",
            "\n",
            "99440735\n",
            "Testing on input26\n",
            "87694731\n",
            "\n",
            "real\t0m0.002s\n",
            "user\t0m0.001s\n",
            "sys\t0m0.001s\n",
            "\n",
            "Testing on input27\n",
            "99760063\n",
            "\n",
            "real\t0m0.005s\n",
            "user\t0m0.003s\n",
            "sys\t0m0.001s\n",
            "\n",
            "99760063\n",
            "Testing on input28\n",
            "99141768\n",
            "\n",
            "real\t0m0.002s\n",
            "user\t0m0.001s\n",
            "sys\t0m0.001s\n",
            "\n",
            "Testing on input29\n",
            "97386480\n",
            "\n",
            "real\t0m0.002s\n",
            "user\t0m0.001s\n",
            "sys\t0m0.001s\n",
            "\n",
            "Testing on input30\n",
            "99410864\n",
            "\n",
            "real\t0m0.006s\n",
            "user\t0m0.004s\n",
            "sys\t0m0.001s\n",
            "\n",
            "Testing on input31\n",
            "99131620\n",
            "\n",
            "real\t0m0.005s\n",
            "user\t0m0.002s\n",
            "sys\t0m0.002s\n",
            "\n",
            "99131620\n",
            "Testing on input32\n",
            "99940008\n",
            "\n",
            "real\t0m0.006s\n",
            "user\t0m0.005s\n",
            "sys\t0m0.001s\n",
            "\n",
            "99940008\n"
          ]
        }
      ]
    },
    {
      "cell_type": "markdown",
      "metadata": {
        "id": "fEXj8GHJH5p1"
      },
      "source": [
        "Count executed instructions in code and verify with inputs 1,2 and 3"
      ]
    },
    {
      "cell_type": "code",
      "source": [
        "%%writefile max_pairwise_product_super_efficient_execints.cpp\n",
        "#include <iostream>\n",
        "\n",
        "int main() {\n",
        "    int n;\n",
        "    std::cin >> n;  // Lee el número de elementos en la lista de números\n",
        "\n",
        "    // Inicializa las variables para almacenar el mayor y el segundo mayor número\n",
        "    long long largest = 0, second_largest = 0;\n",
        "\n",
        "    // Contador para el número de instrucciones ejecutadas\n",
        "    long long execints = 0;\n",
        "\n",
        "    // Bucle para procesar los números\n",
        "    for (int i = 0; i < n; ++i) {\n",
        "        execints += 3; // Incremento por la inicialización de la variable y la comprobación de la condición del bucle\n",
        "\n",
        "        int number;\n",
        "        std::cin >> number;  // Lee un número de la entrada\n",
        "        execints += 2; // Incremento por la operación de entrada (leer número)\n",
        "\n",
        "        // Compara el número con los dos mayores y actualiza las variables correspondientes\n",
        "        execints += 4; // Incremento por las comparaciones y asignaciones dentro del bucle\n",
        "        if (number > largest) {\n",
        "            second_largest = largest; // El mayor número pasa a ser el segundo mayor\n",
        "            largest = number; // Actualiza el mayor número\n",
        "            execints += 2; // Incremento por las asignaciones de `second_largest` y `largest`\n",
        "        } else if (number > second_largest) {\n",
        "            second_largest = number; // Actualiza el segundo mayor número\n",
        "            execints += 1; // Incremento por la asignación de `second_largest`\n",
        "        }\n",
        "    }\n",
        "\n",
        "    // Calcula el producto máximo por pares\n",
        "    long long max_product = largest * second_largest;\n",
        "    execints += 1; // Incremento por la multiplicación\n",
        "\n",
        "    // Muestra el producto máximo por pares\n",
        "    std::cout << \"Maximum pairwise product: \" << max_product << \"\\n\";\n",
        "    execints += 2; // Incremento por la operación de salida (mostrar el resultado y el salto de línea)\n",
        "\n",
        "    // Muestra el número de instrucciones ejecutadas\n",
        "    std::cout << \"Number of executed instructions: \" << execints << std::endl;\n",
        "    execints += 2; // Incremento por la operación de salida (mostrar el número de instrucciones y el salto de línea)\n",
        "\n",
        "    return 0; // Finaliza el programa\n",
        "}\n"
      ],
      "metadata": {
        "colab": {
          "base_uri": "https://localhost:8080/"
        },
        "id": "A6gQd67Lj-sS",
        "outputId": "1930d507-8c13-4c76-ef4e-e2562f41bea5"
      },
      "execution_count": 169,
      "outputs": [
        {
          "output_type": "stream",
          "name": "stdout",
          "text": [
            "Writing max_pairwise_product_super_efficient_execints.cpp\n"
          ]
        }
      ]
    },
    {
      "cell_type": "code",
      "execution_count": 170,
      "metadata": {
        "id": "LF1DHjKXIAsF",
        "colab": {
          "base_uri": "https://localhost:8080/"
        },
        "outputId": "6beb27a2-27c1-43b4-a373-7a62774e17c0"
      },
      "outputs": [
        {
          "output_type": "stream",
          "name": "stdout",
          "text": [
            "Maximum pairwise product: 90\n",
            "Number of executed instructions: 113\n",
            "Maximum pairwise product: 90\n",
            "Number of executed instructions: 96\n",
            "Maximum pairwise product: 40000000000\n",
            "Number of executed instructions: 65\n"
          ]
        }
      ],
      "source": [
        "!g++ -o max_pairwise_product_super_efficient_execints max_pairwise_product_super_efficient_execints.cpp\n",
        "!./max_pairwise_product_super_efficient_execints < input1.txt\n",
        "!./max_pairwise_product_super_efficient_execints < input2.txt\n",
        "!./max_pairwise_product_super_efficient_execints < input3.txt"
      ]
    },
    {
      "cell_type": "markdown",
      "metadata": {
        "id": "yae7sSm2IG9U"
      },
      "source": [
        "Calculate estimated time by instruction and number of instructions by second"
      ]
    },
    {
      "cell_type": "code",
      "execution_count": 171,
      "metadata": {
        "id": "suouY7BYL2dz",
        "colab": {
          "base_uri": "https://localhost:8080/"
        },
        "outputId": "bf8679fc-bdcc-476c-9eba-2286918b98f9"
      },
      "outputs": [
        {
          "output_type": "stream",
          "name": "stdout",
          "text": [
            "\n",
            "real\t0m0.062s\n",
            "user\t0m0.060s\n",
            "sys\t0m0.001s\n",
            "\n",
            "real\t0m0.005s\n",
            "user\t0m0.003s\n",
            "sys\t0m0.000s\n",
            "\n",
            "real\t0m0.003s\n",
            "user\t0m0.003s\n",
            "sys\t0m0.000s\n"
          ]
        }
      ],
      "source": [
        "!g++ max_pairwise_product_super_efficient_execints.cpp -o max_pairwise_product_super_efficient_execints\n",
        "!time ./max_pairwise_product_super_efficient_execints < input12.txt  > output12.txt\n",
        "!time ./max_pairwise_product_super_efficient_execints < input27.txt  > output27.txt\n",
        "!time ./max_pairwise_product_super_efficient_execints < input31.txt  > output31.txt"
      ]
    },
    {
      "cell_type": "markdown",
      "metadata": {
        "id": "sy33CNNfPxcE"
      },
      "source": [
        "### Super efficient solution in Python\n",
        "\n",
        "Whitout storing the list in memory and whitout calling a function, add in each line a coment with the number of intstrcution that are executed in that line"
      ]
    },
    {
      "cell_type": "code",
      "execution_count": 172,
      "metadata": {
        "id": "_mOjJwKrPxcJ",
        "colab": {
          "base_uri": "https://localhost:8080/"
        },
        "outputId": "aa4400b9-bd31-4cf4-e2ce-97b460858c9b"
      },
      "outputs": [
        {
          "output_type": "stream",
          "name": "stdout",
          "text": [
            "Writing max_n_in_a_second_super_efficient.cpp\n"
          ]
        }
      ],
      "source": [
        "%%writefile max_n_in_a_second_super_efficient.cpp\n",
        "#include <iostream>\n",
        "#include <fstream>\n",
        "#include <vector>\n",
        "#include <random>\n",
        "#include <chrono>\n",
        "#include <limits>\n",
        "\n",
        "// Función para generar un número entero aleatorio dentro de un rango especificado\n",
        "int random_int(int min, int max) {\n",
        "    static std::random_device rd;\n",
        "    static std::mt19937 gen(rd());\n",
        "    std::uniform_int_distribution<> dis(min, max);\n",
        "    return dis(gen);\n",
        "}\n",
        "\n",
        "// Función para generar los datos de entrada con un tamaño n\n",
        "void generate_input_data(int n, int min_value, int max_value) {\n",
        "    std::ofstream input_file(\"input.txt\");\n",
        "    input_file << n << \"\\n\"; // Salida del tamaño del vector\n",
        "\n",
        "    // Genera números aleatorios para el vector\n",
        "    for (int j = 0; j < n; ++j) {\n",
        "        int num = random_int(min_value, max_value); // Genera un valor aleatorio para el vector\n",
        "        input_file << num << \" \"; // Escribe el elemento en el archivo\n",
        "    }\n",
        "    input_file << \"\\n\"; // Fin del vector\n",
        "    input_file.close();\n",
        "}\n",
        "\n",
        "// Función para calcular el producto máximo de pares de manera eficiente\n",
        "long long super_efficient_max_pairwise_product(const std::vector<int>& numbers) {\n",
        "    long long largest = std::numeric_limits<long long>::min(); // Inicializa con el valor más pequeño posible\n",
        "    long long second_largest = std::numeric_limits<long long>::min(); // Inicializa con el valor más pequeño posible\n",
        "\n",
        "    // Recorre los números y actualiza los dos números más grandes\n",
        "    for (int num : numbers) {\n",
        "        if (num > largest) {\n",
        "            second_largest = largest;\n",
        "            largest = num;\n",
        "        } else if (num > second_largest) {\n",
        "            second_largest = num;\n",
        "        }\n",
        "    }\n",
        "\n",
        "    // Retorna el producto máximo de los dos números más grandes\n",
        "    return largest * second_largest;\n",
        "}\n",
        "\n",
        "int main() {\n",
        "    int n = 10;\n",
        "    int min_value = 1; // Valor mínimo para los números aleatorios\n",
        "    int max_value = 1000000; // Valor máximo para los números aleatorios\n",
        "    int max_n = 1000000; // Valor máximo de n a probar\n",
        "\n",
        "    // Empieza el cronómetro para medir el tiempo de ejecución\n",
        "    auto start_time = std::chrono::high_resolution_clock::now();\n",
        "\n",
        "    // Genera datos y calcula el producto máximo hasta que el tiempo supere 1 segundo\n",
        "    while (n <= max_n) {\n",
        "        generate_input_data(n, min_value, max_value); // Genera los datos de entrada para el valor actual de n\n",
        "\n",
        "        // Mide el tiempo de ejecución para procesar el archivo de entrada\n",
        "        auto start = std::chrono::high_resolution_clock::now();\n",
        "        std::ifstream input_file(\"input.txt\");\n",
        "        int num;\n",
        "        std::vector<int> input_data;\n",
        "        input_file >> num;  // Lee el tamaño del vector (n)\n",
        "        input_data.reserve(num);  // Reserva memoria para el número de elementos\n",
        "\n",
        "        // Lee los números del archivo e ingrésalos en el vector\n",
        "        while (input_file >> num) {\n",
        "            input_data.push_back(num);\n",
        "        }\n",
        "        input_file.close();\n",
        "\n",
        "        // Llama a la función para calcular el producto máximo de pares\n",
        "        super_efficient_max_pairwise_product(input_data);\n",
        "\n",
        "        // Detiene el cronómetro y calcula el tiempo transcurrido\n",
        "        auto end = std::chrono::high_resolution_clock::now();\n",
        "        double elapsed_time = std::chrono::duration_cast<std::chrono::milliseconds>(end - start).count() / 1000.0;\n",
        "\n",
        "        // Muestra el tiempo que tomó para procesar el tamaño de n actual\n",
        "        std::cout << \"n = \" << n << \", Time taken: \" << elapsed_time << \" seconds\" << std::endl;\n",
        "\n",
        "        // Si el tiempo transcurrido supera 1 segundo, detén el ciclo\n",
        "        if (elapsed_time >= 1.0) {\n",
        "            break;\n",
        "        }\n",
        "\n",
        "        // Duplicamos n para probar el siguiente tamaño\n",
        "        n *= 2;\n",
        "    }\n",
        "\n",
        "    // Muestra el valor máximo de n que se puede procesar en 1 segundo\n",
        "    std::cout << \"Maximum n that can be solved in 1 second: \" << n << std::endl;\n",
        "\n",
        "    return 0;\n",
        "}\n"
      ]
    },
    {
      "cell_type": "markdown",
      "metadata": {
        "id": "K08Eow0hPxcJ"
      },
      "source": [
        "Test with inputs 1 and 2\n",
        "\n",
        "\n"
      ]
    },
    {
      "cell_type": "code",
      "execution_count": 174,
      "metadata": {
        "id": "1_mUee2cPxcJ",
        "colab": {
          "base_uri": "https://localhost:8080/"
        },
        "outputId": "c056cd37-0c80-4b79-aa66-168dd7f58fde"
      },
      "outputs": [
        {
          "output_type": "stream",
          "name": "stdout",
          "text": [
            "n = 10, Time taken: 0 seconds\n",
            "n = 20, Time taken: 0 seconds\n",
            "n = 40, Time taken: 0 seconds\n",
            "n = 80, Time taken: 0 seconds\n",
            "n = 160, Time taken: 0 seconds\n",
            "n = 320, Time taken: 0 seconds\n",
            "n = 640, Time taken: 0 seconds\n",
            "n = 1280, Time taken: 0 seconds\n",
            "n = 2560, Time taken: 0 seconds\n",
            "n = 5120, Time taken: 0 seconds\n",
            "n = 10240, Time taken: 0.001 seconds\n",
            "n = 20480, Time taken: 0.002 seconds\n",
            "n = 40960, Time taken: 0.005 seconds\n",
            "n = 81920, Time taken: 0.01 seconds\n",
            "n = 163840, Time taken: 0.021 seconds\n",
            "n = 327680, Time taken: 0.044 seconds\n",
            "n = 655360, Time taken: 0.09 seconds\n",
            "Maximum n that can be solved in 1 second: 1310720\n",
            "\n",
            "real\t0m0.373s\n",
            "user\t0m0.349s\n",
            "sys\t0m0.022s\n",
            "n = 10, Time taken: 0 seconds\n",
            "n = 20, Time taken: 0 seconds\n",
            "n = 40, Time taken: 0 seconds\n",
            "n = 80, Time taken: 0 seconds\n",
            "n = 160, Time taken: 0 seconds\n",
            "n = 320, Time taken: 0 seconds\n",
            "n = 640, Time taken: 0 seconds\n",
            "n = 1280, Time taken: 0 seconds\n",
            "n = 2560, Time taken: 0 seconds\n",
            "n = 5120, Time taken: 0 seconds\n",
            "n = 10240, Time taken: 0.001 seconds\n",
            "n = 20480, Time taken: 0.002 seconds\n",
            "n = 40960, Time taken: 0.005 seconds\n",
            "n = 81920, Time taken: 0.01 seconds\n",
            "n = 163840, Time taken: 0.021 seconds\n",
            "n = 327680, Time taken: 0.043 seconds\n",
            "n = 655360, Time taken: 0.113 seconds\n",
            "Maximum n that can be solved in 1 second: 1310720\n",
            "\n",
            "real\t0m0.394s\n",
            "user\t0m0.372s\n",
            "sys\t0m0.019s\n"
          ]
        }
      ],
      "source": [
        "!g++ -o max_n_in_a_second_super_efficient max_n_in_a_second_super_efficient.cpp\n",
        "!time ./max_n_in_a_second_super_efficient < input1.txt\n",
        "!time ./max_n_in_a_second_super_efficient < input2.txt"
      ]
    },
    {
      "cell_type": "markdown",
      "metadata": {
        "id": "CE5DB3CmPxcJ"
      },
      "source": [
        "Test and time it with input 3"
      ]
    },
    {
      "cell_type": "code",
      "execution_count": 175,
      "metadata": {
        "id": "lyLhFOoePxcJ",
        "colab": {
          "base_uri": "https://localhost:8080/"
        },
        "outputId": "2af59c94-beed-4535-aa54-5651d0f2abda"
      },
      "outputs": [
        {
          "output_type": "stream",
          "name": "stdout",
          "text": [
            "n = 10, Time taken: 0 seconds\n",
            "n = 20, Time taken: 0 seconds\n",
            "n = 40, Time taken: 0 seconds\n",
            "n = 80, Time taken: 0 seconds\n",
            "n = 160, Time taken: 0 seconds\n",
            "n = 320, Time taken: 0 seconds\n",
            "n = 640, Time taken: 0 seconds\n",
            "n = 1280, Time taken: 0 seconds\n",
            "n = 2560, Time taken: 0 seconds\n",
            "n = 5120, Time taken: 0 seconds\n",
            "n = 10240, Time taken: 0.001 seconds\n",
            "n = 20480, Time taken: 0.002 seconds\n",
            "n = 40960, Time taken: 0.005 seconds\n",
            "n = 81920, Time taken: 0.01 seconds\n",
            "n = 163840, Time taken: 0.021 seconds\n",
            "n = 327680, Time taken: 0.043 seconds\n",
            "n = 655360, Time taken: 0.09 seconds\n",
            "Maximum n that can be solved in 1 second: 1310720\n",
            "\n",
            "real\t0m0.378s\n",
            "user\t0m0.351s\n",
            "sys\t0m0.024s\n"
          ]
        }
      ],
      "source": [
        "!time ./max_n_in_a_second_super_efficient < input3.txt"
      ]
    },
    {
      "cell_type": "markdown",
      "metadata": {
        "id": "HZEI236lPxcK"
      },
      "source": [
        "20 stress tests"
      ]
    },
    {
      "cell_type": "code",
      "execution_count": 176,
      "metadata": {
        "id": "_LoV-p4zPxcK",
        "colab": {
          "base_uri": "https://localhost:8080/"
        },
        "outputId": "0ffdbd57-7f19-42a7-aeec-c08a52412880"
      },
      "outputs": [
        {
          "output_type": "stream",
          "name": "stdout",
          "text": [
            "Overwriting run_all_test.sh\n"
          ]
        }
      ],
      "source": [
        "%%writefile run_all_test.sh\n",
        "#!/bin/bash\n",
        "g++ max_n_in_a_second_super_efficient.cpp -o max_n_in_a_second_super_efficient\n",
        "\n",
        "# Bucle para procesar los archivos desde input13.txt hasta input32.txt\n",
        "for i in {13..32}\n",
        "do\n",
        "    # Ejecutar el programa con el archivo de entrada correcto\n",
        "    ./max_n_in_a_second_super_efficient < input$i.txt > ctest$i.txt\n",
        "    echo \"Testing on input$i\"\n",
        "\n",
        "    # Medir el tiempo de ejecución\n",
        "    time ./max_n_in_a_second_super_efficient < input$i.txt\n",
        "\n",
        "    # Comparar la salida generada con la salida esperada\n",
        "    echo \"\"\n",
        "\n",
        "    # Verificar la diferencia entre el archivo de salida esperado y el generado\n",
        "    grep -xvFf output$i.txt ctest$i.txt\n",
        "done"
      ]
    },
    {
      "cell_type": "code",
      "source": [
        "!chmod u+x run_all_test.sh\n",
        "!./run_all_test.sh"
      ],
      "metadata": {
        "colab": {
          "base_uri": "https://localhost:8080/"
        },
        "id": "icOGLM_tl7jl",
        "outputId": "7e19ebc0-f32e-4433-ae1b-8905c5f480d1"
      },
      "execution_count": 177,
      "outputs": [
        {
          "output_type": "stream",
          "name": "stdout",
          "text": [
            "Testing on input13\n",
            "n = 10, Time taken: 0 seconds\n",
            "n = 20, Time taken: 0 seconds\n",
            "n = 40, Time taken: 0 seconds\n",
            "n = 80, Time taken: 0 seconds\n",
            "n = 160, Time taken: 0 seconds\n",
            "n = 320, Time taken: 0 seconds\n",
            "n = 640, Time taken: 0 seconds\n",
            "n = 1280, Time taken: 0 seconds\n",
            "n = 2560, Time taken: 0 seconds\n",
            "n = 5120, Time taken: 0 seconds\n",
            "n = 10240, Time taken: 0.001 seconds\n",
            "n = 20480, Time taken: 0.002 seconds\n",
            "n = 40960, Time taken: 0.005 seconds\n",
            "n = 81920, Time taken: 0.01 seconds\n",
            "n = 163840, Time taken: 0.021 seconds\n",
            "n = 327680, Time taken: 0.043 seconds\n",
            "n = 655360, Time taken: 0.087 seconds\n",
            "Maximum n that can be solved in 1 second: 1310720\n",
            "\n",
            "real\t0m0.371s\n",
            "user\t0m0.346s\n",
            "sys\t0m0.023s\n",
            "\n",
            "n = 10, Time taken: 0 seconds\n",
            "n = 20, Time taken: 0 seconds\n",
            "n = 40, Time taken: 0 seconds\n",
            "n = 80, Time taken: 0 seconds\n",
            "n = 160, Time taken: 0 seconds\n",
            "n = 320, Time taken: 0 seconds\n",
            "n = 640, Time taken: 0 seconds\n",
            "n = 1280, Time taken: 0 seconds\n",
            "n = 2560, Time taken: 0 seconds\n",
            "n = 5120, Time taken: 0 seconds\n",
            "n = 10240, Time taken: 0.002 seconds\n",
            "n = 20480, Time taken: 0.002 seconds\n",
            "n = 40960, Time taken: 0.005 seconds\n",
            "n = 81920, Time taken: 0.01 seconds\n",
            "n = 163840, Time taken: 0.022 seconds\n",
            "n = 327680, Time taken: 0.042 seconds\n",
            "n = 655360, Time taken: 0.085 seconds\n",
            "Maximum n that can be solved in 1 second: 1310720\n",
            "Testing on input14\n",
            "n = 10, Time taken: 0 seconds\n",
            "n = 20, Time taken: 0 seconds\n",
            "n = 40, Time taken: 0 seconds\n",
            "n = 80, Time taken: 0 seconds\n",
            "n = 160, Time taken: 0 seconds\n",
            "n = 320, Time taken: 0 seconds\n",
            "n = 640, Time taken: 0 seconds\n",
            "n = 1280, Time taken: 0 seconds\n",
            "n = 2560, Time taken: 0 seconds\n",
            "n = 5120, Time taken: 0 seconds\n",
            "n = 10240, Time taken: 0.001 seconds\n",
            "n = 20480, Time taken: 0.002 seconds\n",
            "n = 40960, Time taken: 0.005 seconds\n",
            "n = 81920, Time taken: 0.01 seconds\n",
            "n = 163840, Time taken: 0.027 seconds\n",
            "n = 327680, Time taken: 0.043 seconds\n",
            "n = 655360, Time taken: 0.089 seconds\n",
            "Maximum n that can be solved in 1 second: 1310720\n",
            "\n",
            "real\t0m0.371s\n",
            "user\t0m0.347s\n",
            "sys\t0m0.024s\n",
            "\n",
            "n = 10, Time taken: 0 seconds\n",
            "n = 20, Time taken: 0 seconds\n",
            "n = 40, Time taken: 0 seconds\n",
            "n = 80, Time taken: 0 seconds\n",
            "n = 160, Time taken: 0 seconds\n",
            "n = 320, Time taken: 0 seconds\n",
            "n = 640, Time taken: 0 seconds\n",
            "n = 1280, Time taken: 0 seconds\n",
            "n = 2560, Time taken: 0 seconds\n",
            "n = 5120, Time taken: 0 seconds\n",
            "n = 10240, Time taken: 0.001 seconds\n",
            "n = 20480, Time taken: 0.002 seconds\n",
            "n = 40960, Time taken: 0.006 seconds\n",
            "n = 81920, Time taken: 0.01 seconds\n",
            "n = 163840, Time taken: 0.021 seconds\n",
            "n = 327680, Time taken: 0.045 seconds\n",
            "n = 655360, Time taken: 0.086 seconds\n",
            "Maximum n that can be solved in 1 second: 1310720\n",
            "Testing on input15\n",
            "n = 10, Time taken: 0 seconds\n",
            "n = 20, Time taken: 0 seconds\n",
            "n = 40, Time taken: 0 seconds\n",
            "n = 80, Time taken: 0 seconds\n",
            "n = 160, Time taken: 0 seconds\n",
            "n = 320, Time taken: 0 seconds\n",
            "n = 640, Time taken: 0 seconds\n",
            "n = 1280, Time taken: 0 seconds\n",
            "n = 2560, Time taken: 0 seconds\n",
            "n = 5120, Time taken: 0 seconds\n",
            "n = 10240, Time taken: 0.001 seconds\n",
            "n = 20480, Time taken: 0.002 seconds\n",
            "n = 40960, Time taken: 0.005 seconds\n",
            "n = 81920, Time taken: 0.011 seconds\n",
            "n = 163840, Time taken: 0.022 seconds\n",
            "n = 327680, Time taken: 0.049 seconds\n",
            "n = 655360, Time taken: 0.086 seconds\n",
            "Maximum n that can be solved in 1 second: 1310720\n",
            "\n",
            "real\t0m0.385s\n",
            "user\t0m0.365s\n",
            "sys\t0m0.017s\n",
            "\n",
            "n = 10, Time taken: 0 seconds\n",
            "n = 20, Time taken: 0 seconds\n",
            "n = 40, Time taken: 0 seconds\n",
            "n = 80, Time taken: 0 seconds\n",
            "n = 160, Time taken: 0 seconds\n",
            "n = 320, Time taken: 0 seconds\n",
            "n = 640, Time taken: 0 seconds\n",
            "n = 1280, Time taken: 0 seconds\n",
            "n = 2560, Time taken: 0 seconds\n",
            "n = 5120, Time taken: 0 seconds\n",
            "n = 10240, Time taken: 0.001 seconds\n",
            "n = 20480, Time taken: 0.003 seconds\n",
            "n = 40960, Time taken: 0.005 seconds\n",
            "n = 81920, Time taken: 0.01 seconds\n",
            "n = 163840, Time taken: 0.022 seconds\n",
            "n = 327680, Time taken: 0.044 seconds\n",
            "n = 655360, Time taken: 0.087 seconds\n",
            "Maximum n that can be solved in 1 second: 1310720\n",
            "Testing on input16\n",
            "n = 10, Time taken: 0 seconds\n",
            "n = 20, Time taken: 0 seconds\n",
            "n = 40, Time taken: 0 seconds\n",
            "n = 80, Time taken: 0 seconds\n",
            "n = 160, Time taken: 0 seconds\n",
            "n = 320, Time taken: 0 seconds\n",
            "n = 640, Time taken: 0 seconds\n",
            "n = 1280, Time taken: 0 seconds\n",
            "n = 2560, Time taken: 0 seconds\n",
            "n = 5120, Time taken: 0 seconds\n",
            "n = 10240, Time taken: 0.001 seconds\n",
            "n = 20480, Time taken: 0.002 seconds\n",
            "n = 40960, Time taken: 0.006 seconds\n",
            "n = 81920, Time taken: 0.011 seconds\n",
            "n = 163840, Time taken: 0.024 seconds\n",
            "n = 327680, Time taken: 0.054 seconds\n",
            "n = 655360, Time taken: 0.086 seconds\n",
            "Maximum n that can be solved in 1 second: 1310720\n",
            "\n",
            "real\t0m0.393s\n",
            "user\t0m0.358s\n",
            "sys\t0m0.030s\n",
            "\n",
            "n = 10, Time taken: 0 seconds\n",
            "n = 20, Time taken: 0 seconds\n",
            "n = 40, Time taken: 0 seconds\n",
            "n = 80, Time taken: 0 seconds\n",
            "n = 160, Time taken: 0 seconds\n",
            "n = 320, Time taken: 0 seconds\n",
            "n = 640, Time taken: 0 seconds\n",
            "n = 1280, Time taken: 0 seconds\n",
            "n = 2560, Time taken: 0 seconds\n",
            "n = 5120, Time taken: 0 seconds\n",
            "n = 10240, Time taken: 0.001 seconds\n",
            "n = 20480, Time taken: 0.002 seconds\n",
            "n = 40960, Time taken: 0.005 seconds\n",
            "n = 81920, Time taken: 0.01 seconds\n",
            "n = 163840, Time taken: 0.021 seconds\n",
            "n = 327680, Time taken: 0.045 seconds\n",
            "n = 655360, Time taken: 0.097 seconds\n",
            "Maximum n that can be solved in 1 second: 1310720\n",
            "Testing on input17\n",
            "n = 10, Time taken: 0 seconds\n",
            "n = 20, Time taken: 0 seconds\n",
            "n = 40, Time taken: 0 seconds\n",
            "n = 80, Time taken: 0 seconds\n",
            "n = 160, Time taken: 0 seconds\n",
            "n = 320, Time taken: 0 seconds\n",
            "n = 640, Time taken: 0 seconds\n",
            "n = 1280, Time taken: 0 seconds\n",
            "n = 2560, Time taken: 0 seconds\n",
            "n = 5120, Time taken: 0 seconds\n",
            "n = 10240, Time taken: 0.001 seconds\n",
            "n = 20480, Time taken: 0.002 seconds\n",
            "n = 40960, Time taken: 0.006 seconds\n",
            "n = 81920, Time taken: 0.01 seconds\n",
            "n = 163840, Time taken: 0.021 seconds\n",
            "n = 327680, Time taken: 0.043 seconds\n",
            "n = 655360, Time taken: 0.092 seconds\n",
            "Maximum n that can be solved in 1 second: 1310720\n",
            "\n",
            "real\t0m0.372s\n",
            "user\t0m0.346s\n",
            "sys\t0m0.025s\n",
            "\n",
            "n = 10, Time taken: 0 seconds\n",
            "n = 20, Time taken: 0 seconds\n",
            "n = 40, Time taken: 0 seconds\n",
            "n = 80, Time taken: 0 seconds\n",
            "n = 160, Time taken: 0 seconds\n",
            "n = 320, Time taken: 0 seconds\n",
            "n = 640, Time taken: 0 seconds\n",
            "n = 1280, Time taken: 0 seconds\n",
            "n = 2560, Time taken: 0 seconds\n",
            "n = 5120, Time taken: 0.001 seconds\n",
            "n = 10240, Time taken: 0.002 seconds\n",
            "n = 20480, Time taken: 0.004 seconds\n",
            "n = 40960, Time taken: 0.005 seconds\n",
            "n = 81920, Time taken: 0.01 seconds\n",
            "n = 163840, Time taken: 0.023 seconds\n",
            "n = 327680, Time taken: 0.046 seconds\n",
            "n = 655360, Time taken: 0.085 seconds\n",
            "Maximum n that can be solved in 1 second: 1310720\n",
            "Testing on input18\n",
            "n = 10, Time taken: 0 seconds\n",
            "n = 20, Time taken: 0 seconds\n",
            "n = 40, Time taken: 0 seconds\n",
            "n = 80, Time taken: 0 seconds\n",
            "n = 160, Time taken: 0 seconds\n",
            "n = 320, Time taken: 0 seconds\n",
            "n = 640, Time taken: 0 seconds\n",
            "n = 1280, Time taken: 0 seconds\n",
            "n = 2560, Time taken: 0 seconds\n",
            "n = 5120, Time taken: 0 seconds\n",
            "n = 10240, Time taken: 0.001 seconds\n",
            "n = 20480, Time taken: 0.002 seconds\n",
            "n = 40960, Time taken: 0.005 seconds\n",
            "n = 81920, Time taken: 0.011 seconds\n",
            "n = 163840, Time taken: 0.022 seconds\n",
            "n = 327680, Time taken: 0.043 seconds\n",
            "n = 655360, Time taken: 0.085 seconds\n",
            "Maximum n that can be solved in 1 second: 1310720\n",
            "\n",
            "real\t0m0.372s\n",
            "user\t0m0.350s\n",
            "sys\t0m0.021s\n",
            "\n",
            "n = 10, Time taken: 0 seconds\n",
            "n = 20, Time taken: 0 seconds\n",
            "n = 40, Time taken: 0 seconds\n",
            "n = 80, Time taken: 0 seconds\n",
            "n = 160, Time taken: 0 seconds\n",
            "n = 320, Time taken: 0 seconds\n",
            "n = 640, Time taken: 0 seconds\n",
            "n = 1280, Time taken: 0 seconds\n",
            "n = 2560, Time taken: 0 seconds\n",
            "n = 5120, Time taken: 0 seconds\n",
            "n = 10240, Time taken: 0.001 seconds\n",
            "n = 20480, Time taken: 0.002 seconds\n",
            "n = 40960, Time taken: 0.005 seconds\n",
            "n = 81920, Time taken: 0.01 seconds\n",
            "n = 163840, Time taken: 0.021 seconds\n",
            "n = 327680, Time taken: 0.043 seconds\n",
            "n = 655360, Time taken: 0.086 seconds\n",
            "Maximum n that can be solved in 1 second: 1310720\n",
            "Testing on input19\n",
            "n = 10, Time taken: 0 seconds\n",
            "n = 20, Time taken: 0 seconds\n",
            "n = 40, Time taken: 0 seconds\n",
            "n = 80, Time taken: 0 seconds\n",
            "n = 160, Time taken: 0 seconds\n",
            "n = 320, Time taken: 0 seconds\n",
            "n = 640, Time taken: 0 seconds\n",
            "n = 1280, Time taken: 0 seconds\n",
            "n = 2560, Time taken: 0 seconds\n",
            "n = 5120, Time taken: 0 seconds\n",
            "n = 10240, Time taken: 0.001 seconds\n",
            "n = 20480, Time taken: 0.002 seconds\n",
            "n = 40960, Time taken: 0.005 seconds\n",
            "n = 81920, Time taken: 0.01 seconds\n",
            "n = 163840, Time taken: 0.021 seconds\n",
            "n = 327680, Time taken: 0.055 seconds\n",
            "n = 655360, Time taken: 0.084 seconds\n",
            "Maximum n that can be solved in 1 second: 1310720\n",
            "\n",
            "real\t0m0.380s\n",
            "user\t0m0.362s\n",
            "sys\t0m0.014s\n",
            "\n",
            "n = 10, Time taken: 0 seconds\n",
            "n = 20, Time taken: 0 seconds\n",
            "n = 40, Time taken: 0 seconds\n",
            "n = 80, Time taken: 0 seconds\n",
            "n = 160, Time taken: 0 seconds\n",
            "n = 320, Time taken: 0 seconds\n",
            "n = 640, Time taken: 0 seconds\n",
            "n = 1280, Time taken: 0 seconds\n",
            "n = 2560, Time taken: 0 seconds\n",
            "n = 5120, Time taken: 0 seconds\n",
            "n = 10240, Time taken: 0.001 seconds\n",
            "n = 20480, Time taken: 0.002 seconds\n",
            "n = 40960, Time taken: 0.005 seconds\n",
            "n = 81920, Time taken: 0.01 seconds\n",
            "n = 163840, Time taken: 0.023 seconds\n",
            "n = 327680, Time taken: 0.053 seconds\n",
            "n = 655360, Time taken: 0.084 seconds\n",
            "Maximum n that can be solved in 1 second: 1310720\n",
            "Testing on input20\n",
            "n = 10, Time taken: 0 seconds\n",
            "n = 20, Time taken: 0 seconds\n",
            "n = 40, Time taken: 0 seconds\n",
            "n = 80, Time taken: 0 seconds\n",
            "n = 160, Time taken: 0 seconds\n",
            "n = 320, Time taken: 0 seconds\n",
            "n = 640, Time taken: 0 seconds\n",
            "n = 1280, Time taken: 0 seconds\n",
            "n = 2560, Time taken: 0 seconds\n",
            "n = 5120, Time taken: 0 seconds\n",
            "n = 10240, Time taken: 0.001 seconds\n",
            "n = 20480, Time taken: 0.002 seconds\n",
            "n = 40960, Time taken: 0.005 seconds\n",
            "n = 81920, Time taken: 0.011 seconds\n",
            "n = 163840, Time taken: 0.024 seconds\n",
            "n = 327680, Time taken: 0.043 seconds\n",
            "n = 655360, Time taken: 0.086 seconds\n",
            "Maximum n that can be solved in 1 second: 1310720\n",
            "\n",
            "real\t0m0.370s\n",
            "user\t0m0.341s\n",
            "sys\t0m0.028s\n",
            "\n",
            "n = 10, Time taken: 0 seconds\n",
            "n = 20, Time taken: 0 seconds\n",
            "n = 40, Time taken: 0 seconds\n",
            "n = 80, Time taken: 0 seconds\n",
            "n = 160, Time taken: 0 seconds\n",
            "n = 320, Time taken: 0 seconds\n",
            "n = 640, Time taken: 0 seconds\n",
            "n = 1280, Time taken: 0 seconds\n",
            "n = 2560, Time taken: 0 seconds\n",
            "n = 5120, Time taken: 0 seconds\n",
            "n = 10240, Time taken: 0.001 seconds\n",
            "n = 20480, Time taken: 0.002 seconds\n",
            "n = 40960, Time taken: 0.006 seconds\n",
            "n = 81920, Time taken: 0.01 seconds\n",
            "n = 163840, Time taken: 0.022 seconds\n",
            "n = 327680, Time taken: 0.042 seconds\n",
            "n = 655360, Time taken: 0.085 seconds\n",
            "Maximum n that can be solved in 1 second: 1310720\n",
            "Testing on input21\n",
            "n = 10, Time taken: 0 seconds\n",
            "n = 20, Time taken: 0 seconds\n",
            "n = 40, Time taken: 0 seconds\n",
            "n = 80, Time taken: 0 seconds\n",
            "n = 160, Time taken: 0 seconds\n",
            "n = 320, Time taken: 0 seconds\n",
            "n = 640, Time taken: 0 seconds\n",
            "n = 1280, Time taken: 0 seconds\n",
            "n = 2560, Time taken: 0 seconds\n",
            "n = 5120, Time taken: 0 seconds\n",
            "n = 10240, Time taken: 0.001 seconds\n",
            "n = 20480, Time taken: 0.002 seconds\n",
            "n = 40960, Time taken: 0.005 seconds\n",
            "n = 81920, Time taken: 0.01 seconds\n",
            "n = 163840, Time taken: 0.022 seconds\n",
            "n = 327680, Time taken: 0.043 seconds\n",
            "n = 655360, Time taken: 0.091 seconds\n",
            "Maximum n that can be solved in 1 second: 1310720\n",
            "\n",
            "real\t0m0.368s\n",
            "user\t0m0.349s\n",
            "sys\t0m0.017s\n",
            "\n",
            "n = 10, Time taken: 0 seconds\n",
            "n = 20, Time taken: 0 seconds\n",
            "n = 40, Time taken: 0 seconds\n",
            "n = 80, Time taken: 0 seconds\n",
            "n = 160, Time taken: 0 seconds\n",
            "n = 320, Time taken: 0 seconds\n",
            "n = 640, Time taken: 0 seconds\n",
            "n = 1280, Time taken: 0 seconds\n",
            "n = 2560, Time taken: 0 seconds\n",
            "n = 5120, Time taken: 0 seconds\n",
            "n = 10240, Time taken: 0.001 seconds\n",
            "n = 20480, Time taken: 0.002 seconds\n",
            "n = 40960, Time taken: 0.005 seconds\n",
            "n = 81920, Time taken: 0.01 seconds\n",
            "n = 163840, Time taken: 0.036 seconds\n",
            "n = 327680, Time taken: 0.043 seconds\n",
            "n = 655360, Time taken: 0.087 seconds\n",
            "Maximum n that can be solved in 1 second: 1310720\n",
            "Testing on input22\n",
            "n = 10, Time taken: 0 seconds\n",
            "n = 20, Time taken: 0 seconds\n",
            "n = 40, Time taken: 0 seconds\n",
            "n = 80, Time taken: 0 seconds\n",
            "n = 160, Time taken: 0 seconds\n",
            "n = 320, Time taken: 0 seconds\n",
            "n = 640, Time taken: 0 seconds\n",
            "n = 1280, Time taken: 0 seconds\n",
            "n = 2560, Time taken: 0 seconds\n",
            "n = 5120, Time taken: 0 seconds\n",
            "n = 10240, Time taken: 0.001 seconds\n",
            "n = 20480, Time taken: 0.002 seconds\n",
            "n = 40960, Time taken: 0.006 seconds\n",
            "n = 81920, Time taken: 0.01 seconds\n",
            "n = 163840, Time taken: 0.021 seconds\n",
            "n = 327680, Time taken: 0.043 seconds\n",
            "n = 655360, Time taken: 0.086 seconds\n",
            "Maximum n that can be solved in 1 second: 1310720\n",
            "\n",
            "real\t0m0.368s\n",
            "user\t0m0.337s\n",
            "sys\t0m0.029s\n",
            "\n",
            "n = 10, Time taken: 0 seconds\n",
            "n = 20, Time taken: 0 seconds\n",
            "n = 40, Time taken: 0 seconds\n",
            "n = 80, Time taken: 0 seconds\n",
            "n = 160, Time taken: 0 seconds\n",
            "n = 320, Time taken: 0 seconds\n",
            "n = 640, Time taken: 0 seconds\n",
            "n = 1280, Time taken: 0 seconds\n",
            "n = 2560, Time taken: 0 seconds\n",
            "n = 5120, Time taken: 0.002 seconds\n",
            "n = 10240, Time taken: 0.001 seconds\n",
            "n = 20480, Time taken: 0.002 seconds\n",
            "n = 40960, Time taken: 0.005 seconds\n",
            "n = 81920, Time taken: 0.01 seconds\n",
            "n = 163840, Time taken: 0.021 seconds\n",
            "n = 327680, Time taken: 0.043 seconds\n",
            "n = 655360, Time taken: 0.096 seconds\n",
            "Maximum n that can be solved in 1 second: 1310720\n",
            "Testing on input23\n",
            "n = 10, Time taken: 0 seconds\n",
            "n = 20, Time taken: 0 seconds\n",
            "n = 40, Time taken: 0 seconds\n",
            "n = 80, Time taken: 0 seconds\n",
            "n = 160, Time taken: 0 seconds\n",
            "n = 320, Time taken: 0 seconds\n",
            "n = 640, Time taken: 0 seconds\n",
            "n = 1280, Time taken: 0 seconds\n",
            "n = 2560, Time taken: 0 seconds\n",
            "n = 5120, Time taken: 0.001 seconds\n",
            "n = 10240, Time taken: 0.001 seconds\n",
            "n = 20480, Time taken: 0.002 seconds\n",
            "n = 40960, Time taken: 0.005 seconds\n",
            "n = 81920, Time taken: 0.011 seconds\n",
            "n = 163840, Time taken: 0.024 seconds\n",
            "n = 327680, Time taken: 0.075 seconds\n",
            "n = 655360, Time taken: 0.145 seconds\n",
            "Maximum n that can be solved in 1 second: 1310720\n",
            "\n",
            "real\t0m0.670s\n",
            "user\t0m0.515s\n",
            "sys\t0m0.032s\n",
            "\n",
            "n = 10, Time taken: 0 seconds\n",
            "n = 20, Time taken: 0 seconds\n",
            "n = 40, Time taken: 0 seconds\n",
            "n = 80, Time taken: 0 seconds\n",
            "n = 160, Time taken: 0 seconds\n",
            "n = 320, Time taken: 0 seconds\n",
            "n = 640, Time taken: 0 seconds\n",
            "n = 1280, Time taken: 0 seconds\n",
            "n = 2560, Time taken: 0 seconds\n",
            "n = 5120, Time taken: 0 seconds\n",
            "n = 10240, Time taken: 0.001 seconds\n",
            "n = 20480, Time taken: 0.002 seconds\n",
            "n = 40960, Time taken: 0.005 seconds\n",
            "n = 81920, Time taken: 0.01 seconds\n",
            "n = 163840, Time taken: 0.022 seconds\n",
            "n = 327680, Time taken: 0.043 seconds\n",
            "n = 655360, Time taken: 0.095 seconds\n",
            "Maximum n that can be solved in 1 second: 1310720\n",
            "Testing on input24\n",
            "n = 10, Time taken: 0 seconds\n",
            "n = 20, Time taken: 0 seconds\n",
            "n = 40, Time taken: 0 seconds\n",
            "n = 80, Time taken: 0 seconds\n",
            "n = 160, Time taken: 0 seconds\n",
            "n = 320, Time taken: 0 seconds\n",
            "n = 640, Time taken: 0 seconds\n",
            "n = 1280, Time taken: 0 seconds\n",
            "n = 2560, Time taken: 0 seconds\n",
            "n = 5120, Time taken: 0.001 seconds\n",
            "n = 10240, Time taken: 0.002 seconds\n",
            "n = 20480, Time taken: 0.004 seconds\n",
            "n = 40960, Time taken: 0.007 seconds\n",
            "n = 81920, Time taken: 0.019 seconds\n",
            "n = 163840, Time taken: 0.039 seconds\n",
            "n = 327680, Time taken: 0.079 seconds\n",
            "n = 655360, Time taken: 0.156 seconds\n",
            "Maximum n that can be solved in 1 second: 1310720\n",
            "\n",
            "real\t0m0.664s\n",
            "user\t0m0.606s\n",
            "sys\t0m0.037s\n",
            "\n",
            "n = 10, Time taken: 0 seconds\n",
            "n = 20, Time taken: 0 seconds\n",
            "n = 40, Time taken: 0 seconds\n",
            "n = 80, Time taken: 0 seconds\n",
            "n = 160, Time taken: 0 seconds\n",
            "n = 320, Time taken: 0 seconds\n",
            "n = 640, Time taken: 0 seconds\n",
            "n = 1280, Time taken: 0 seconds\n",
            "n = 2560, Time taken: 0 seconds\n",
            "n = 5120, Time taken: 0.001 seconds\n",
            "n = 10240, Time taken: 0.002 seconds\n",
            "n = 20480, Time taken: 0.004 seconds\n",
            "n = 40960, Time taken: 0.007 seconds\n",
            "n = 81920, Time taken: 0.018 seconds\n",
            "n = 163840, Time taken: 0.04 seconds\n",
            "n = 327680, Time taken: 0.074 seconds\n",
            "n = 655360, Time taken: 0.155 seconds\n",
            "Maximum n that can be solved in 1 second: 1310720\n",
            "Testing on input25\n",
            "n = 10, Time taken: 0 seconds\n",
            "n = 20, Time taken: 0 seconds\n",
            "n = 40, Time taken: 0 seconds\n",
            "n = 80, Time taken: 0 seconds\n",
            "n = 160, Time taken: 0 seconds\n",
            "n = 320, Time taken: 0 seconds\n",
            "n = 640, Time taken: 0 seconds\n",
            "n = 1280, Time taken: 0 seconds\n",
            "n = 2560, Time taken: 0 seconds\n",
            "n = 5120, Time taken: 0.001 seconds\n",
            "n = 10240, Time taken: 0.002 seconds\n",
            "n = 20480, Time taken: 0.004 seconds\n",
            "n = 40960, Time taken: 0.01 seconds\n",
            "n = 81920, Time taken: 0.017 seconds\n",
            "n = 163840, Time taken: 0.042 seconds\n",
            "n = 327680, Time taken: 0.072 seconds\n",
            "n = 655360, Time taken: 0.148 seconds\n",
            "Maximum n that can be solved in 1 second: 1310720\n",
            "\n",
            "real\t0m0.672s\n",
            "user\t0m0.587s\n",
            "sys\t0m0.042s\n",
            "\n",
            "n = 10, Time taken: 0 seconds\n",
            "n = 20, Time taken: 0 seconds\n",
            "n = 40, Time taken: 0 seconds\n",
            "n = 80, Time taken: 0 seconds\n",
            "n = 160, Time taken: 0 seconds\n",
            "n = 320, Time taken: 0 seconds\n",
            "n = 640, Time taken: 0 seconds\n",
            "n = 1280, Time taken: 0 seconds\n",
            "n = 2560, Time taken: 0 seconds\n",
            "n = 5120, Time taken: 0.001 seconds\n",
            "n = 10240, Time taken: 0.002 seconds\n",
            "n = 20480, Time taken: 0.004 seconds\n",
            "n = 40960, Time taken: 0.009 seconds\n",
            "n = 81920, Time taken: 0.018 seconds\n",
            "n = 163840, Time taken: 0.037 seconds\n",
            "n = 327680, Time taken: 0.077 seconds\n",
            "n = 655360, Time taken: 0.144 seconds\n",
            "Maximum n that can be solved in 1 second: 1310720\n",
            "Testing on input26\n",
            "n = 10, Time taken: 0 seconds\n",
            "n = 20, Time taken: 0 seconds\n",
            "n = 40, Time taken: 0 seconds\n",
            "n = 80, Time taken: 0 seconds\n",
            "n = 160, Time taken: 0 seconds\n",
            "n = 320, Time taken: 0 seconds\n",
            "n = 640, Time taken: 0 seconds\n",
            "n = 1280, Time taken: 0 seconds\n",
            "n = 2560, Time taken: 0 seconds\n",
            "n = 5120, Time taken: 0 seconds\n",
            "n = 10240, Time taken: 0.001 seconds\n",
            "n = 20480, Time taken: 0.002 seconds\n",
            "n = 40960, Time taken: 0.006 seconds\n",
            "n = 81920, Time taken: 0.011 seconds\n",
            "n = 163840, Time taken: 0.021 seconds\n",
            "n = 327680, Time taken: 0.043 seconds\n",
            "n = 655360, Time taken: 0.092 seconds\n",
            "Maximum n that can be solved in 1 second: 1310720\n",
            "\n",
            "real\t0m0.382s\n",
            "user\t0m0.358s\n",
            "sys\t0m0.023s\n",
            "\n",
            "n = 10, Time taken: 0 seconds\n",
            "n = 20, Time taken: 0 seconds\n",
            "n = 40, Time taken: 0 seconds\n",
            "n = 80, Time taken: 0 seconds\n",
            "n = 160, Time taken: 0 seconds\n",
            "n = 320, Time taken: 0 seconds\n",
            "n = 640, Time taken: 0 seconds\n",
            "n = 1280, Time taken: 0 seconds\n",
            "n = 2560, Time taken: 0 seconds\n",
            "n = 5120, Time taken: 0.001 seconds\n",
            "n = 10240, Time taken: 0.002 seconds\n",
            "n = 20480, Time taken: 0.004 seconds\n",
            "n = 40960, Time taken: 0.009 seconds\n",
            "n = 81920, Time taken: 0.018 seconds\n",
            "n = 163840, Time taken: 0.021 seconds\n",
            "n = 327680, Time taken: 0.042 seconds\n",
            "n = 655360, Time taken: 0.087 seconds\n",
            "Maximum n that can be solved in 1 second: 1310720\n",
            "Testing on input27\n",
            "n = 10, Time taken: 0 seconds\n",
            "n = 20, Time taken: 0 seconds\n",
            "n = 40, Time taken: 0 seconds\n",
            "n = 80, Time taken: 0 seconds\n",
            "n = 160, Time taken: 0 seconds\n",
            "n = 320, Time taken: 0 seconds\n",
            "n = 640, Time taken: 0 seconds\n",
            "n = 1280, Time taken: 0 seconds\n",
            "n = 2560, Time taken: 0 seconds\n",
            "n = 5120, Time taken: 0 seconds\n",
            "n = 10240, Time taken: 0.001 seconds\n",
            "n = 20480, Time taken: 0.002 seconds\n",
            "n = 40960, Time taken: 0.005 seconds\n",
            "n = 81920, Time taken: 0.011 seconds\n",
            "n = 163840, Time taken: 0.022 seconds\n",
            "n = 327680, Time taken: 0.046 seconds\n",
            "n = 655360, Time taken: 0.096 seconds\n",
            "Maximum n that can be solved in 1 second: 1310720\n",
            "\n",
            "real\t0m0.378s\n",
            "user\t0m0.355s\n",
            "sys\t0m0.022s\n",
            "\n",
            "n = 10, Time taken: 0 seconds\n",
            "n = 20, Time taken: 0 seconds\n",
            "n = 40, Time taken: 0 seconds\n",
            "n = 80, Time taken: 0 seconds\n",
            "n = 160, Time taken: 0 seconds\n",
            "n = 320, Time taken: 0 seconds\n",
            "n = 640, Time taken: 0 seconds\n",
            "n = 1280, Time taken: 0 seconds\n",
            "n = 2560, Time taken: 0 seconds\n",
            "n = 5120, Time taken: 0 seconds\n",
            "n = 10240, Time taken: 0.001 seconds\n",
            "n = 20480, Time taken: 0.004 seconds\n",
            "n = 40960, Time taken: 0.005 seconds\n",
            "n = 81920, Time taken: 0.011 seconds\n",
            "n = 163840, Time taken: 0.022 seconds\n",
            "n = 327680, Time taken: 0.043 seconds\n",
            "n = 655360, Time taken: 0.1 seconds\n",
            "Maximum n that can be solved in 1 second: 1310720\n",
            "Testing on input28\n",
            "n = 10, Time taken: 0 seconds\n",
            "n = 20, Time taken: 0 seconds\n",
            "n = 40, Time taken: 0 seconds\n",
            "n = 80, Time taken: 0 seconds\n",
            "n = 160, Time taken: 0 seconds\n",
            "n = 320, Time taken: 0 seconds\n",
            "n = 640, Time taken: 0 seconds\n",
            "n = 1280, Time taken: 0 seconds\n",
            "n = 2560, Time taken: 0 seconds\n",
            "n = 5120, Time taken: 0 seconds\n",
            "n = 10240, Time taken: 0.001 seconds\n",
            "n = 20480, Time taken: 0.002 seconds\n",
            "n = 40960, Time taken: 0.005 seconds\n",
            "n = 81920, Time taken: 0.01 seconds\n",
            "n = 163840, Time taken: 0.021 seconds\n",
            "n = 327680, Time taken: 0.048 seconds\n",
            "n = 655360, Time taken: 0.088 seconds\n",
            "Maximum n that can be solved in 1 second: 1310720\n",
            "\n",
            "real\t0m0.392s\n",
            "user\t0m0.362s\n",
            "sys\t0m0.027s\n",
            "\n",
            "n = 10, Time taken: 0 seconds\n",
            "n = 20, Time taken: 0 seconds\n",
            "n = 40, Time taken: 0 seconds\n",
            "n = 80, Time taken: 0 seconds\n",
            "n = 160, Time taken: 0 seconds\n",
            "n = 320, Time taken: 0 seconds\n",
            "n = 640, Time taken: 0 seconds\n",
            "n = 1280, Time taken: 0 seconds\n",
            "n = 2560, Time taken: 0 seconds\n",
            "n = 5120, Time taken: 0 seconds\n",
            "n = 10240, Time taken: 0.001 seconds\n",
            "n = 20480, Time taken: 0.002 seconds\n",
            "n = 40960, Time taken: 0.005 seconds\n",
            "n = 81920, Time taken: 0.011 seconds\n",
            "n = 163840, Time taken: 0.022 seconds\n",
            "n = 327680, Time taken: 0.042 seconds\n",
            "n = 655360, Time taken: 0.085 seconds\n",
            "Maximum n that can be solved in 1 second: 1310720\n",
            "Testing on input29\n",
            "n = 10, Time taken: 0 seconds\n",
            "n = 20, Time taken: 0 seconds\n",
            "n = 40, Time taken: 0 seconds\n",
            "n = 80, Time taken: 0 seconds\n",
            "n = 160, Time taken: 0 seconds\n",
            "n = 320, Time taken: 0 seconds\n",
            "n = 640, Time taken: 0 seconds\n",
            "n = 1280, Time taken: 0 seconds\n",
            "n = 2560, Time taken: 0 seconds\n",
            "n = 5120, Time taken: 0 seconds\n",
            "n = 10240, Time taken: 0.001 seconds\n",
            "n = 20480, Time taken: 0.002 seconds\n",
            "n = 40960, Time taken: 0.005 seconds\n",
            "n = 81920, Time taken: 0.01 seconds\n",
            "n = 163840, Time taken: 0.022 seconds\n",
            "n = 327680, Time taken: 0.043 seconds\n",
            "n = 655360, Time taken: 0.089 seconds\n",
            "Maximum n that can be solved in 1 second: 1310720\n",
            "\n",
            "real\t0m0.369s\n",
            "user\t0m0.352s\n",
            "sys\t0m0.017s\n",
            "\n",
            "n = 10, Time taken: 0 seconds\n",
            "n = 20, Time taken: 0 seconds\n",
            "n = 40, Time taken: 0 seconds\n",
            "n = 80, Time taken: 0 seconds\n",
            "n = 160, Time taken: 0 seconds\n",
            "n = 320, Time taken: 0 seconds\n",
            "n = 640, Time taken: 0 seconds\n",
            "n = 1280, Time taken: 0 seconds\n",
            "n = 2560, Time taken: 0 seconds\n",
            "n = 5120, Time taken: 0 seconds\n",
            "n = 10240, Time taken: 0.001 seconds\n",
            "n = 20480, Time taken: 0.002 seconds\n",
            "n = 40960, Time taken: 0.005 seconds\n",
            "n = 81920, Time taken: 0.011 seconds\n",
            "n = 163840, Time taken: 0.021 seconds\n",
            "n = 327680, Time taken: 0.046 seconds\n",
            "n = 655360, Time taken: 0.087 seconds\n",
            "Maximum n that can be solved in 1 second: 1310720\n",
            "Testing on input30\n",
            "n = 10, Time taken: 0 seconds\n",
            "n = 20, Time taken: 0 seconds\n",
            "n = 40, Time taken: 0 seconds\n",
            "n = 80, Time taken: 0 seconds\n",
            "n = 160, Time taken: 0 seconds\n",
            "n = 320, Time taken: 0 seconds\n",
            "n = 640, Time taken: 0 seconds\n",
            "n = 1280, Time taken: 0 seconds\n",
            "n = 2560, Time taken: 0 seconds\n",
            "n = 5120, Time taken: 0 seconds\n",
            "n = 10240, Time taken: 0.001 seconds\n",
            "n = 20480, Time taken: 0.003 seconds\n",
            "n = 40960, Time taken: 0.007 seconds\n",
            "n = 81920, Time taken: 0.011 seconds\n",
            "n = 163840, Time taken: 0.022 seconds\n",
            "n = 327680, Time taken: 0.042 seconds\n",
            "n = 655360, Time taken: 0.088 seconds\n",
            "Maximum n that can be solved in 1 second: 1310720\n",
            "\n",
            "real\t0m0.375s\n",
            "user\t0m0.358s\n",
            "sys\t0m0.016s\n",
            "\n",
            "n = 10, Time taken: 0 seconds\n",
            "n = 20, Time taken: 0 seconds\n",
            "n = 40, Time taken: 0 seconds\n",
            "n = 80, Time taken: 0 seconds\n",
            "n = 160, Time taken: 0 seconds\n",
            "n = 320, Time taken: 0 seconds\n",
            "n = 640, Time taken: 0 seconds\n",
            "n = 1280, Time taken: 0 seconds\n",
            "n = 2560, Time taken: 0 seconds\n",
            "n = 5120, Time taken: 0 seconds\n",
            "n = 10240, Time taken: 0.001 seconds\n",
            "n = 20480, Time taken: 0.002 seconds\n",
            "n = 40960, Time taken: 0.005 seconds\n",
            "n = 81920, Time taken: 0.01 seconds\n",
            "n = 163840, Time taken: 0.025 seconds\n",
            "n = 327680, Time taken: 0.043 seconds\n",
            "n = 655360, Time taken: 0.087 seconds\n",
            "Maximum n that can be solved in 1 second: 1310720\n",
            "Testing on input31\n",
            "n = 10, Time taken: 0 seconds\n",
            "n = 20, Time taken: 0 seconds\n",
            "n = 40, Time taken: 0 seconds\n",
            "n = 80, Time taken: 0 seconds\n",
            "n = 160, Time taken: 0 seconds\n",
            "n = 320, Time taken: 0 seconds\n",
            "n = 640, Time taken: 0 seconds\n",
            "n = 1280, Time taken: 0 seconds\n",
            "n = 2560, Time taken: 0 seconds\n",
            "n = 5120, Time taken: 0.001 seconds\n",
            "n = 10240, Time taken: 0.002 seconds\n",
            "n = 20480, Time taken: 0.004 seconds\n",
            "n = 40960, Time taken: 0.005 seconds\n",
            "n = 81920, Time taken: 0.01 seconds\n",
            "n = 163840, Time taken: 0.022 seconds\n",
            "n = 327680, Time taken: 0.043 seconds\n",
            "n = 655360, Time taken: 0.087 seconds\n",
            "Maximum n that can be solved in 1 second: 1310720\n",
            "\n",
            "real\t0m0.382s\n",
            "user\t0m0.359s\n",
            "sys\t0m0.021s\n",
            "\n",
            "n = 10, Time taken: 0 seconds\n",
            "n = 20, Time taken: 0 seconds\n",
            "n = 40, Time taken: 0 seconds\n",
            "n = 80, Time taken: 0 seconds\n",
            "n = 160, Time taken: 0 seconds\n",
            "n = 320, Time taken: 0 seconds\n",
            "n = 640, Time taken: 0 seconds\n",
            "n = 1280, Time taken: 0 seconds\n",
            "n = 2560, Time taken: 0 seconds\n",
            "n = 5120, Time taken: 0 seconds\n",
            "n = 10240, Time taken: 0.001 seconds\n",
            "n = 20480, Time taken: 0.002 seconds\n",
            "n = 40960, Time taken: 0.005 seconds\n",
            "n = 81920, Time taken: 0.01 seconds\n",
            "n = 163840, Time taken: 0.021 seconds\n",
            "n = 327680, Time taken: 0.043 seconds\n",
            "n = 655360, Time taken: 0.089 seconds\n",
            "Maximum n that can be solved in 1 second: 1310720\n",
            "Testing on input32\n",
            "n = 10, Time taken: 0 seconds\n",
            "n = 20, Time taken: 0 seconds\n",
            "n = 40, Time taken: 0 seconds\n",
            "n = 80, Time taken: 0 seconds\n",
            "n = 160, Time taken: 0 seconds\n",
            "n = 320, Time taken: 0 seconds\n",
            "n = 640, Time taken: 0 seconds\n",
            "n = 1280, Time taken: 0 seconds\n",
            "n = 2560, Time taken: 0 seconds\n",
            "n = 5120, Time taken: 0 seconds\n",
            "n = 10240, Time taken: 0.001 seconds\n",
            "n = 20480, Time taken: 0.002 seconds\n",
            "n = 40960, Time taken: 0.005 seconds\n",
            "n = 81920, Time taken: 0.011 seconds\n",
            "n = 163840, Time taken: 0.021 seconds\n",
            "n = 327680, Time taken: 0.045 seconds\n",
            "n = 655360, Time taken: 0.087 seconds\n",
            "Maximum n that can be solved in 1 second: 1310720\n",
            "\n",
            "real\t0m0.388s\n",
            "user\t0m0.355s\n",
            "sys\t0m0.028s\n",
            "\n",
            "n = 10, Time taken: 0 seconds\n",
            "n = 20, Time taken: 0 seconds\n",
            "n = 40, Time taken: 0 seconds\n",
            "n = 80, Time taken: 0 seconds\n",
            "n = 160, Time taken: 0 seconds\n",
            "n = 320, Time taken: 0 seconds\n",
            "n = 640, Time taken: 0 seconds\n",
            "n = 1280, Time taken: 0 seconds\n",
            "n = 2560, Time taken: 0 seconds\n",
            "n = 5120, Time taken: 0 seconds\n",
            "n = 10240, Time taken: 0.001 seconds\n",
            "n = 20480, Time taken: 0.002 seconds\n",
            "n = 40960, Time taken: 0.005 seconds\n",
            "n = 81920, Time taken: 0.014 seconds\n",
            "n = 163840, Time taken: 0.027 seconds\n",
            "n = 327680, Time taken: 0.043 seconds\n",
            "n = 655360, Time taken: 0.089 seconds\n",
            "Maximum n that can be solved in 1 second: 1310720\n"
          ]
        }
      ]
    },
    {
      "cell_type": "markdown",
      "source": [
        "## Perform 100 randomized automated tests in C++ and Python with a porgram  compares the answers,for the same 100 random input instances, of the super efficient solution $(T(n) < 10 n = O(n))$ against the sorting solution  $(T(n)  = O(n \\lg{n}))$,  if the answers are not the same stops and displays \"Error\" listing  the input and the two answers; if the 100 tests are completed without stoping displays \"Pass\"."
      ],
      "metadata": {
        "id": "4hHRQMXzW6oR"
      }
    },
    {
      "cell_type": "code",
      "source": [
        "%%writefile super_efficient_vs_sorting.cpp\n",
        "#include <iostream>\n",
        "#include <vector>\n",
        "#include <random>\n",
        "#include <algorithm>\n",
        "\n",
        "// Función para generar un vector de entrada aleatorio\n",
        "std::vector<int> generate_random_input(int n, int min_value, int max_value) {\n",
        "    std::vector<int> input;\n",
        "    std::random_device rd;\n",
        "    std::mt19937 gen(rd());\n",
        "    std::uniform_int_distribution<int> dis(min_value, max_value);\n",
        "\n",
        "    for (int i = 0; i < n; ++i) {\n",
        "        input.push_back(dis(gen));\n",
        "    }\n",
        "\n",
        "    return input;\n",
        "}\n",
        "\n",
        "// Solución super eficiente\n",
        "long long super_efficient_max_pairwise_product(const std::vector<int>& numbers) {\n",
        "    long long largest = 0, second_largest = 0;\n",
        "\n",
        "    // Encuentra los dos números más grandes\n",
        "    for (int num : numbers) {\n",
        "        if (num > largest) {\n",
        "            second_largest = largest;\n",
        "            largest = num;\n",
        "        } else if (num > second_largest) {\n",
        "            second_largest = num;\n",
        "        }\n",
        "    }\n",
        "\n",
        "    return largest * second_largest;\n",
        "}\n",
        "\n",
        "// Solución basada en ordenamiento\n",
        "long long sort_max_pairwise_product(const std::vector<int>& numbers) {\n",
        "    std::vector<int> sorted_numbers = numbers;\n",
        "    std::sort(sorted_numbers.begin(), sorted_numbers.end());\n",
        "    int n = sorted_numbers.size();\n",
        "    return (long long)sorted_numbers[n - 1] * sorted_numbers[n - 2];\n",
        "}\n",
        "\n",
        "int main() {\n",
        "    const int num_tests = 100; // Número de pruebas\n",
        "    const int n = 10;          // Tamaño del vector de entrada\n",
        "    const int min_value = 1;   // Valor mínimo para los números aleatorios\n",
        "    const int max_value = 1000; // Valor máximo para los números aleatorios\n",
        "\n",
        "    bool error = false;\n",
        "\n",
        "    // Realizar las pruebas\n",
        "    for (int i = 0; i < num_tests; ++i) {\n",
        "        // Genera una entrada aleatoria\n",
        "        std::vector<int> input = generate_random_input(n, min_value, max_value);\n",
        "\n",
        "        // Calcula el resultado de ambas soluciones\n",
        "        long long super_efficient_result = super_efficient_max_pairwise_product(input);\n",
        "        long long sort_result = sort_max_pairwise_product(input);\n",
        "\n",
        "        // Compara los resultados\n",
        "        if (super_efficient_result != sort_result) {\n",
        "            std::cout << \"Error: Outputs mismatch for test \" << i + 1 << std::endl;\n",
        "            std::cout << \"Input: \";\n",
        "            for (int num : input) {\n",
        "                std::cout << num << \" \";\n",
        "            }\n",
        "            std::cout << std::endl;\n",
        "            std::cout << \"Super-efficient result: \" << super_efficient_result << std::endl;\n",
        "            std::cout << \"Sorting result: \" << sort_result << std::endl;\n",
        "            error = true;\n",
        "            break;\n",
        "        }\n",
        "    }\n",
        "\n",
        "    if (!error) {\n",
        "        std::cout << \"Pass: All tests passed successfully.\" << std::endl;\n",
        "    }\n",
        "\n",
        "    return 0;\n",
        "}\n"
      ],
      "metadata": {
        "colab": {
          "base_uri": "https://localhost:8080/"
        },
        "id": "vP9Z4YFvmiaF",
        "outputId": "c6bef6b0-54af-4731-d3aa-99f673ca3e82"
      },
      "execution_count": 178,
      "outputs": [
        {
          "output_type": "stream",
          "name": "stdout",
          "text": [
            "Writing super_efficient_vs_sorting.cpp\n"
          ]
        }
      ]
    },
    {
      "cell_type": "code",
      "source": [
        "#Create 100 random stress tests\n",
        "\n",
        "!g++ stress_test_generator.cpp -o stress_test_generator\n",
        "!./stress_test_generator\n",
        "\n",
        "#Start index: 101 for file100\n",
        "#numbers of tests: 100 (from 101 to 200)"
      ],
      "metadata": {
        "colab": {
          "base_uri": "https://localhost:8080/"
        },
        "id": "7iaS44Ldmw7w",
        "outputId": "7e56e151-e2df-4ca6-a85a-3db2dbdb5b09"
      },
      "execution_count": 179,
      "outputs": [
        {
          "output_type": "stream",
          "name": "stdout",
          "text": [
            "Ingrese el índice inicial para los archivos de entrada: 101\n",
            "Ingrese la cantidad de pruebas de estrés a crear: 100\n"
          ]
        }
      ]
    },
    {
      "cell_type": "code",
      "source": [
        "%%writefile run_all_test.sh\n",
        "#!/bin/bash\n",
        "g++ super_efficient_vs_sorting.cpp -o super_efficient_vs_sorting\n",
        "\n",
        "# Bucle para procesar los archivos desde input13.txt hasta input32.txt\n",
        "for i in {101..200}\n",
        "do\n",
        "    # Ejecutar el programa con el archivo de entrada correcto\n",
        "    ./super_efficient_vs_sorting < input$i.txt > ctest$i.txt\n",
        "    echo \"Testing on input$i\"\n",
        "\n",
        "    # Medir el tiempo de ejecución\n",
        "    time ./super_efficient_vs_sorting < input$i.txt\n",
        "\n",
        "    # Comparar la salida generada con la salida esperada\n",
        "    echo \"\"\n",
        "\n",
        "    # Verificar la diferencia entre el archivo de salida esperado y el generado\n",
        "    grep -xvFf output$i.txt ctest$i.txt\n",
        "done"
      ],
      "metadata": {
        "colab": {
          "base_uri": "https://localhost:8080/"
        },
        "id": "ZFd8UgNzmw0b",
        "outputId": "7aade8e5-22a8-477b-f7c9-98e0cc94ad0d"
      },
      "execution_count": 180,
      "outputs": [
        {
          "output_type": "stream",
          "name": "stdout",
          "text": [
            "Overwriting run_all_test.sh\n"
          ]
        }
      ]
    },
    {
      "cell_type": "code",
      "source": [
        "!chmod u+x run_all_test.sh\n",
        "!./run_all_test.sh"
      ],
      "metadata": {
        "colab": {
          "base_uri": "https://localhost:8080/"
        },
        "id": "m_qIf6A2nNpc",
        "outputId": "8ff3aa97-c862-4eeb-e0d0-8362c6c799b8"
      },
      "execution_count": 181,
      "outputs": [
        {
          "output_type": "stream",
          "name": "stdout",
          "text": [
            "Testing on input101\n",
            "Pass: All tests passed successfully.\n",
            "\n",
            "real\t0m0.006s\n",
            "user\t0m0.005s\n",
            "sys\t0m0.001s\n",
            "\n",
            "Pass: All tests passed successfully.\n",
            "Testing on input102\n",
            "Pass: All tests passed successfully.\n",
            "\n",
            "real\t0m0.006s\n",
            "user\t0m0.005s\n",
            "sys\t0m0.001s\n",
            "\n",
            "Pass: All tests passed successfully.\n",
            "Testing on input103\n",
            "Pass: All tests passed successfully.\n",
            "\n",
            "real\t0m0.006s\n",
            "user\t0m0.005s\n",
            "sys\t0m0.001s\n",
            "\n",
            "Pass: All tests passed successfully.\n",
            "Testing on input104\n",
            "Pass: All tests passed successfully.\n",
            "\n",
            "real\t0m0.007s\n",
            "user\t0m0.004s\n",
            "sys\t0m0.002s\n",
            "\n",
            "Pass: All tests passed successfully.\n",
            "Testing on input105\n",
            "Pass: All tests passed successfully.\n",
            "\n",
            "real\t0m0.006s\n",
            "user\t0m0.004s\n",
            "sys\t0m0.002s\n",
            "\n",
            "Pass: All tests passed successfully.\n",
            "Testing on input106\n",
            "Pass: All tests passed successfully.\n",
            "\n",
            "real\t0m0.009s\n",
            "user\t0m0.006s\n",
            "sys\t0m0.000s\n",
            "\n",
            "Pass: All tests passed successfully.\n",
            "Testing on input107\n",
            "Pass: All tests passed successfully.\n",
            "\n",
            "real\t0m0.008s\n",
            "user\t0m0.005s\n",
            "sys\t0m0.001s\n",
            "\n",
            "Pass: All tests passed successfully.\n",
            "Testing on input108\n",
            "Pass: All tests passed successfully.\n",
            "\n",
            "real\t0m0.009s\n",
            "user\t0m0.004s\n",
            "sys\t0m0.002s\n",
            "\n",
            "Pass: All tests passed successfully.\n",
            "Testing on input109\n",
            "Pass: All tests passed successfully.\n",
            "\n",
            "real\t0m0.008s\n",
            "user\t0m0.004s\n",
            "sys\t0m0.002s\n",
            "\n",
            "Pass: All tests passed successfully.\n",
            "Testing on input110\n",
            "Pass: All tests passed successfully.\n",
            "\n",
            "real\t0m0.007s\n",
            "user\t0m0.005s\n",
            "sys\t0m0.001s\n",
            "\n",
            "Pass: All tests passed successfully.\n",
            "Testing on input111\n",
            "Pass: All tests passed successfully.\n",
            "\n",
            "real\t0m0.005s\n",
            "user\t0m0.004s\n",
            "sys\t0m0.001s\n",
            "\n",
            "Pass: All tests passed successfully.\n",
            "Testing on input112\n",
            "Pass: All tests passed successfully.\n",
            "\n",
            "real\t0m0.006s\n",
            "user\t0m0.004s\n",
            "sys\t0m0.002s\n",
            "\n",
            "Pass: All tests passed successfully.\n",
            "Testing on input113\n",
            "Pass: All tests passed successfully.\n",
            "\n",
            "real\t0m0.006s\n",
            "user\t0m0.003s\n",
            "sys\t0m0.003s\n",
            "\n",
            "Pass: All tests passed successfully.\n",
            "Testing on input114\n",
            "Pass: All tests passed successfully.\n",
            "\n",
            "real\t0m0.006s\n",
            "user\t0m0.006s\n",
            "sys\t0m0.000s\n",
            "\n",
            "Pass: All tests passed successfully.\n",
            "Testing on input115\n",
            "Pass: All tests passed successfully.\n",
            "\n",
            "real\t0m0.008s\n",
            "user\t0m0.004s\n",
            "sys\t0m0.002s\n",
            "\n",
            "Pass: All tests passed successfully.\n",
            "Testing on input116\n",
            "Pass: All tests passed successfully.\n",
            "\n",
            "real\t0m0.007s\n",
            "user\t0m0.005s\n",
            "sys\t0m0.001s\n",
            "\n",
            "Pass: All tests passed successfully.\n",
            "Testing on input117\n",
            "Pass: All tests passed successfully.\n",
            "\n",
            "real\t0m0.008s\n",
            "user\t0m0.005s\n",
            "sys\t0m0.001s\n",
            "\n",
            "Pass: All tests passed successfully.\n",
            "Testing on input118\n",
            "Pass: All tests passed successfully.\n",
            "\n",
            "real\t0m0.006s\n",
            "user\t0m0.005s\n",
            "sys\t0m0.001s\n",
            "\n",
            "Pass: All tests passed successfully.\n",
            "Testing on input119\n",
            "Pass: All tests passed successfully.\n",
            "\n",
            "real\t0m0.007s\n",
            "user\t0m0.005s\n",
            "sys\t0m0.001s\n",
            "\n",
            "Pass: All tests passed successfully.\n",
            "Testing on input120\n",
            "Pass: All tests passed successfully.\n",
            "\n",
            "real\t0m0.006s\n",
            "user\t0m0.005s\n",
            "sys\t0m0.001s\n",
            "\n",
            "Pass: All tests passed successfully.\n",
            "Testing on input121\n",
            "Pass: All tests passed successfully.\n",
            "\n",
            "real\t0m0.005s\n",
            "user\t0m0.004s\n",
            "sys\t0m0.001s\n",
            "\n",
            "Pass: All tests passed successfully.\n",
            "Testing on input122\n",
            "Pass: All tests passed successfully.\n",
            "\n",
            "real\t0m0.006s\n",
            "user\t0m0.004s\n",
            "sys\t0m0.002s\n",
            "\n",
            "Pass: All tests passed successfully.\n",
            "Testing on input123\n",
            "Pass: All tests passed successfully.\n",
            "\n",
            "real\t0m0.006s\n",
            "user\t0m0.004s\n",
            "sys\t0m0.001s\n",
            "\n",
            "Pass: All tests passed successfully.\n",
            "Testing on input124\n",
            "Pass: All tests passed successfully.\n",
            "\n",
            "real\t0m0.006s\n",
            "user\t0m0.004s\n",
            "sys\t0m0.002s\n",
            "\n",
            "Pass: All tests passed successfully.\n",
            "Testing on input125\n",
            "Pass: All tests passed successfully.\n",
            "\n",
            "real\t0m0.006s\n",
            "user\t0m0.003s\n",
            "sys\t0m0.003s\n",
            "\n",
            "Pass: All tests passed successfully.\n",
            "Testing on input126\n",
            "Pass: All tests passed successfully.\n",
            "\n",
            "real\t0m0.006s\n",
            "user\t0m0.004s\n",
            "sys\t0m0.002s\n",
            "\n",
            "Pass: All tests passed successfully.\n",
            "Testing on input127\n",
            "Pass: All tests passed successfully.\n",
            "\n",
            "real\t0m0.006s\n",
            "user\t0m0.004s\n",
            "sys\t0m0.002s\n",
            "\n",
            "Pass: All tests passed successfully.\n",
            "Testing on input128\n",
            "Pass: All tests passed successfully.\n",
            "\n",
            "real\t0m0.006s\n",
            "user\t0m0.006s\n",
            "sys\t0m0.000s\n",
            "\n",
            "Pass: All tests passed successfully.\n",
            "Testing on input129\n",
            "Pass: All tests passed successfully.\n",
            "\n",
            "real\t0m0.006s\n",
            "user\t0m0.005s\n",
            "sys\t0m0.001s\n",
            "\n",
            "Pass: All tests passed successfully.\n",
            "Testing on input130\n",
            "Pass: All tests passed successfully.\n",
            "\n",
            "real\t0m0.007s\n",
            "user\t0m0.004s\n",
            "sys\t0m0.002s\n",
            "\n",
            "Pass: All tests passed successfully.\n",
            "Testing on input131\n",
            "Pass: All tests passed successfully.\n",
            "\n",
            "real\t0m0.006s\n",
            "user\t0m0.005s\n",
            "sys\t0m0.001s\n",
            "\n",
            "Pass: All tests passed successfully.\n",
            "Testing on input132\n",
            "Pass: All tests passed successfully.\n",
            "\n",
            "real\t0m0.006s\n",
            "user\t0m0.005s\n",
            "sys\t0m0.001s\n",
            "\n",
            "Pass: All tests passed successfully.\n",
            "Testing on input133\n",
            "Pass: All tests passed successfully.\n",
            "\n",
            "real\t0m0.006s\n",
            "user\t0m0.004s\n",
            "sys\t0m0.002s\n",
            "\n",
            "Pass: All tests passed successfully.\n",
            "Testing on input134\n",
            "Pass: All tests passed successfully.\n",
            "\n",
            "real\t0m0.006s\n",
            "user\t0m0.004s\n",
            "sys\t0m0.002s\n",
            "\n",
            "Pass: All tests passed successfully.\n",
            "Testing on input135\n",
            "Pass: All tests passed successfully.\n",
            "\n",
            "real\t0m0.006s\n",
            "user\t0m0.004s\n",
            "sys\t0m0.002s\n",
            "\n",
            "Pass: All tests passed successfully.\n",
            "Testing on input136\n",
            "Pass: All tests passed successfully.\n",
            "\n",
            "real\t0m0.006s\n",
            "user\t0m0.006s\n",
            "sys\t0m0.000s\n",
            "\n",
            "Pass: All tests passed successfully.\n",
            "Testing on input137\n",
            "Pass: All tests passed successfully.\n",
            "\n",
            "real\t0m0.006s\n",
            "user\t0m0.003s\n",
            "sys\t0m0.003s\n",
            "\n",
            "Pass: All tests passed successfully.\n",
            "Testing on input138\n",
            "Pass: All tests passed successfully.\n",
            "\n",
            "real\t0m0.006s\n",
            "user\t0m0.005s\n",
            "sys\t0m0.001s\n",
            "\n",
            "Pass: All tests passed successfully.\n",
            "Testing on input139\n",
            "Pass: All tests passed successfully.\n",
            "\n",
            "real\t0m0.006s\n",
            "user\t0m0.003s\n",
            "sys\t0m0.003s\n",
            "\n",
            "Pass: All tests passed successfully.\n",
            "Testing on input140\n",
            "Pass: All tests passed successfully.\n",
            "\n",
            "real\t0m0.006s\n",
            "user\t0m0.003s\n",
            "sys\t0m0.003s\n",
            "\n",
            "Pass: All tests passed successfully.\n",
            "Testing on input141\n",
            "Pass: All tests passed successfully.\n",
            "\n",
            "real\t0m0.006s\n",
            "user\t0m0.005s\n",
            "sys\t0m0.001s\n",
            "\n",
            "Pass: All tests passed successfully.\n",
            "Testing on input142\n",
            "Pass: All tests passed successfully.\n",
            "\n",
            "real\t0m0.006s\n",
            "user\t0m0.004s\n",
            "sys\t0m0.002s\n",
            "\n",
            "Pass: All tests passed successfully.\n",
            "Testing on input143\n",
            "Pass: All tests passed successfully.\n",
            "\n",
            "real\t0m0.006s\n",
            "user\t0m0.004s\n",
            "sys\t0m0.002s\n",
            "\n",
            "Pass: All tests passed successfully.\n",
            "Testing on input144\n",
            "Pass: All tests passed successfully.\n",
            "\n",
            "real\t0m0.006s\n",
            "user\t0m0.003s\n",
            "sys\t0m0.003s\n",
            "\n",
            "Pass: All tests passed successfully.\n",
            "Testing on input145\n",
            "Pass: All tests passed successfully.\n",
            "\n",
            "real\t0m0.006s\n",
            "user\t0m0.005s\n",
            "sys\t0m0.001s\n",
            "\n",
            "Pass: All tests passed successfully.\n",
            "Testing on input146\n",
            "Pass: All tests passed successfully.\n",
            "\n",
            "real\t0m0.006s\n",
            "user\t0m0.003s\n",
            "sys\t0m0.003s\n",
            "\n",
            "Pass: All tests passed successfully.\n",
            "Testing on input147\n",
            "Pass: All tests passed successfully.\n",
            "\n",
            "real\t0m0.006s\n",
            "user\t0m0.004s\n",
            "sys\t0m0.001s\n",
            "\n",
            "Pass: All tests passed successfully.\n",
            "Testing on input148\n",
            "Pass: All tests passed successfully.\n",
            "\n",
            "real\t0m0.006s\n",
            "user\t0m0.005s\n",
            "sys\t0m0.001s\n",
            "\n",
            "Pass: All tests passed successfully.\n",
            "Testing on input149\n",
            "Pass: All tests passed successfully.\n",
            "\n",
            "real\t0m0.006s\n",
            "user\t0m0.004s\n",
            "sys\t0m0.002s\n",
            "\n",
            "Pass: All tests passed successfully.\n",
            "Testing on input150\n",
            "Pass: All tests passed successfully.\n",
            "\n",
            "real\t0m0.009s\n",
            "user\t0m0.006s\n",
            "sys\t0m0.000s\n",
            "\n",
            "Pass: All tests passed successfully.\n",
            "Testing on input151\n",
            "Pass: All tests passed successfully.\n",
            "\n",
            "real\t0m0.007s\n",
            "user\t0m0.003s\n",
            "sys\t0m0.003s\n",
            "\n",
            "Pass: All tests passed successfully.\n",
            "Testing on input152\n",
            "Pass: All tests passed successfully.\n",
            "\n",
            "real\t0m0.006s\n",
            "user\t0m0.004s\n",
            "sys\t0m0.002s\n",
            "\n",
            "Pass: All tests passed successfully.\n",
            "Testing on input153\n",
            "Pass: All tests passed successfully.\n",
            "\n",
            "real\t0m0.006s\n",
            "user\t0m0.005s\n",
            "sys\t0m0.001s\n",
            "\n",
            "Pass: All tests passed successfully.\n",
            "Testing on input154\n",
            "Pass: All tests passed successfully.\n",
            "\n",
            "real\t0m0.006s\n",
            "user\t0m0.004s\n",
            "sys\t0m0.002s\n",
            "\n",
            "Pass: All tests passed successfully.\n",
            "Testing on input155\n",
            "Pass: All tests passed successfully.\n",
            "\n",
            "real\t0m0.006s\n",
            "user\t0m0.004s\n",
            "sys\t0m0.002s\n",
            "\n",
            "Pass: All tests passed successfully.\n",
            "Testing on input156\n",
            "Pass: All tests passed successfully.\n",
            "\n",
            "real\t0m0.007s\n",
            "user\t0m0.005s\n",
            "sys\t0m0.002s\n",
            "\n",
            "Pass: All tests passed successfully.\n",
            "Testing on input157\n",
            "Pass: All tests passed successfully.\n",
            "\n",
            "real\t0m0.008s\n",
            "user\t0m0.005s\n",
            "sys\t0m0.001s\n",
            "\n",
            "Pass: All tests passed successfully.\n",
            "Testing on input158\n",
            "Pass: All tests passed successfully.\n",
            "\n",
            "real\t0m0.007s\n",
            "user\t0m0.005s\n",
            "sys\t0m0.001s\n",
            "\n",
            "Pass: All tests passed successfully.\n",
            "Testing on input159\n",
            "Pass: All tests passed successfully.\n",
            "\n",
            "real\t0m0.006s\n",
            "user\t0m0.005s\n",
            "sys\t0m0.001s\n",
            "\n",
            "Pass: All tests passed successfully.\n",
            "Testing on input160\n",
            "Pass: All tests passed successfully.\n",
            "\n",
            "real\t0m0.007s\n",
            "user\t0m0.004s\n",
            "sys\t0m0.003s\n",
            "\n",
            "Pass: All tests passed successfully.\n",
            "Testing on input161\n",
            "Pass: All tests passed successfully.\n",
            "\n",
            "real\t0m0.006s\n",
            "user\t0m0.004s\n",
            "sys\t0m0.002s\n",
            "\n",
            "Pass: All tests passed successfully.\n",
            "Testing on input162\n",
            "Pass: All tests passed successfully.\n",
            "\n",
            "real\t0m0.007s\n",
            "user\t0m0.005s\n",
            "sys\t0m0.001s\n",
            "\n",
            "Pass: All tests passed successfully.\n",
            "Testing on input163\n",
            "Pass: All tests passed successfully.\n",
            "\n",
            "real\t0m0.009s\n",
            "user\t0m0.004s\n",
            "sys\t0m0.003s\n",
            "\n",
            "Pass: All tests passed successfully.\n",
            "Testing on input164\n",
            "Pass: All tests passed successfully.\n",
            "\n",
            "real\t0m0.006s\n",
            "user\t0m0.005s\n",
            "sys\t0m0.001s\n",
            "\n",
            "Pass: All tests passed successfully.\n",
            "Testing on input165\n",
            "Pass: All tests passed successfully.\n",
            "\n",
            "real\t0m0.007s\n",
            "user\t0m0.004s\n",
            "sys\t0m0.002s\n",
            "\n",
            "Pass: All tests passed successfully.\n",
            "Testing on input166\n",
            "Pass: All tests passed successfully.\n",
            "\n",
            "real\t0m0.006s\n",
            "user\t0m0.003s\n",
            "sys\t0m0.003s\n",
            "\n",
            "Pass: All tests passed successfully.\n",
            "Testing on input167\n",
            "Pass: All tests passed successfully.\n",
            "\n",
            "real\t0m0.007s\n",
            "user\t0m0.004s\n",
            "sys\t0m0.003s\n",
            "\n",
            "Pass: All tests passed successfully.\n",
            "Testing on input168\n",
            "Pass: All tests passed successfully.\n",
            "\n",
            "real\t0m0.006s\n",
            "user\t0m0.004s\n",
            "sys\t0m0.002s\n",
            "\n",
            "Pass: All tests passed successfully.\n",
            "Testing on input169\n",
            "Pass: All tests passed successfully.\n",
            "\n",
            "real\t0m0.007s\n",
            "user\t0m0.004s\n",
            "sys\t0m0.002s\n",
            "\n",
            "Pass: All tests passed successfully.\n",
            "Testing on input170\n",
            "Pass: All tests passed successfully.\n",
            "\n",
            "real\t0m0.006s\n",
            "user\t0m0.005s\n",
            "sys\t0m0.001s\n",
            "\n",
            "Pass: All tests passed successfully.\n",
            "Testing on input171\n",
            "Pass: All tests passed successfully.\n",
            "\n",
            "real\t0m0.007s\n",
            "user\t0m0.005s\n",
            "sys\t0m0.001s\n",
            "\n",
            "Pass: All tests passed successfully.\n",
            "Testing on input172\n",
            "Pass: All tests passed successfully.\n",
            "\n",
            "real\t0m0.006s\n",
            "user\t0m0.004s\n",
            "sys\t0m0.002s\n",
            "\n",
            "Pass: All tests passed successfully.\n",
            "Testing on input173\n",
            "Pass: All tests passed successfully.\n",
            "\n",
            "real\t0m0.008s\n",
            "user\t0m0.005s\n",
            "sys\t0m0.001s\n",
            "\n",
            "Pass: All tests passed successfully.\n",
            "Testing on input174\n",
            "Pass: All tests passed successfully.\n",
            "\n",
            "real\t0m0.007s\n",
            "user\t0m0.005s\n",
            "sys\t0m0.001s\n",
            "\n",
            "Pass: All tests passed successfully.\n",
            "Testing on input175\n",
            "Pass: All tests passed successfully.\n",
            "\n",
            "real\t0m0.008s\n",
            "user\t0m0.005s\n",
            "sys\t0m0.001s\n",
            "\n",
            "Pass: All tests passed successfully.\n",
            "Testing on input176\n",
            "Pass: All tests passed successfully.\n",
            "\n",
            "real\t0m0.007s\n",
            "user\t0m0.006s\n",
            "sys\t0m0.000s\n",
            "\n",
            "Pass: All tests passed successfully.\n",
            "Testing on input177\n",
            "Pass: All tests passed successfully.\n",
            "\n",
            "real\t0m0.006s\n",
            "user\t0m0.005s\n",
            "sys\t0m0.001s\n",
            "\n",
            "Pass: All tests passed successfully.\n",
            "Testing on input178\n",
            "Pass: All tests passed successfully.\n",
            "\n",
            "real\t0m0.006s\n",
            "user\t0m0.004s\n",
            "sys\t0m0.002s\n",
            "\n",
            "Pass: All tests passed successfully.\n",
            "Testing on input179\n",
            "Pass: All tests passed successfully.\n",
            "\n",
            "real\t0m0.006s\n",
            "user\t0m0.003s\n",
            "sys\t0m0.003s\n",
            "\n",
            "Pass: All tests passed successfully.\n",
            "Testing on input180\n",
            "Pass: All tests passed successfully.\n",
            "\n",
            "real\t0m0.006s\n",
            "user\t0m0.005s\n",
            "sys\t0m0.001s\n",
            "\n",
            "Pass: All tests passed successfully.\n",
            "Testing on input181\n",
            "Pass: All tests passed successfully.\n",
            "\n",
            "real\t0m0.006s\n",
            "user\t0m0.004s\n",
            "sys\t0m0.002s\n",
            "\n",
            "Pass: All tests passed successfully.\n",
            "Testing on input182\n",
            "Pass: All tests passed successfully.\n",
            "\n",
            "real\t0m0.005s\n",
            "user\t0m0.003s\n",
            "sys\t0m0.001s\n",
            "\n",
            "Pass: All tests passed successfully.\n",
            "Testing on input183\n",
            "Pass: All tests passed successfully.\n",
            "\n",
            "real\t0m0.005s\n",
            "user\t0m0.004s\n",
            "sys\t0m0.000s\n",
            "\n",
            "Pass: All tests passed successfully.\n",
            "Testing on input184\n",
            "Pass: All tests passed successfully.\n",
            "\n",
            "real\t0m0.004s\n",
            "user\t0m0.003s\n",
            "sys\t0m0.001s\n",
            "\n",
            "Pass: All tests passed successfully.\n",
            "Testing on input185\n",
            "Pass: All tests passed successfully.\n",
            "\n",
            "real\t0m0.005s\n",
            "user\t0m0.004s\n",
            "sys\t0m0.001s\n",
            "\n",
            "Pass: All tests passed successfully.\n",
            "Testing on input186\n",
            "Pass: All tests passed successfully.\n",
            "\n",
            "real\t0m0.005s\n",
            "user\t0m0.004s\n",
            "sys\t0m0.000s\n",
            "\n",
            "Pass: All tests passed successfully.\n",
            "Testing on input187\n",
            "Pass: All tests passed successfully.\n",
            "\n",
            "real\t0m0.004s\n",
            "user\t0m0.003s\n",
            "sys\t0m0.001s\n",
            "\n",
            "Pass: All tests passed successfully.\n",
            "Testing on input188\n",
            "Pass: All tests passed successfully.\n",
            "\n",
            "real\t0m0.005s\n",
            "user\t0m0.004s\n",
            "sys\t0m0.000s\n",
            "\n",
            "Pass: All tests passed successfully.\n",
            "Testing on input189\n",
            "Pass: All tests passed successfully.\n",
            "\n",
            "real\t0m0.005s\n",
            "user\t0m0.003s\n",
            "sys\t0m0.002s\n",
            "\n",
            "Pass: All tests passed successfully.\n",
            "Testing on input190\n",
            "Pass: All tests passed successfully.\n",
            "\n",
            "real\t0m0.005s\n",
            "user\t0m0.003s\n",
            "sys\t0m0.001s\n",
            "\n",
            "Pass: All tests passed successfully.\n",
            "Testing on input191\n",
            "Pass: All tests passed successfully.\n",
            "\n",
            "real\t0m0.005s\n",
            "user\t0m0.003s\n",
            "sys\t0m0.001s\n",
            "\n",
            "Pass: All tests passed successfully.\n",
            "Testing on input192\n",
            "Pass: All tests passed successfully.\n",
            "\n",
            "real\t0m0.005s\n",
            "user\t0m0.004s\n",
            "sys\t0m0.001s\n",
            "\n",
            "Pass: All tests passed successfully.\n",
            "Testing on input193\n",
            "Pass: All tests passed successfully.\n",
            "\n",
            "real\t0m0.005s\n",
            "user\t0m0.005s\n",
            "sys\t0m0.000s\n",
            "\n",
            "Pass: All tests passed successfully.\n",
            "Testing on input194\n",
            "Pass: All tests passed successfully.\n",
            "\n",
            "real\t0m0.005s\n",
            "user\t0m0.005s\n",
            "sys\t0m0.000s\n",
            "\n",
            "Pass: All tests passed successfully.\n",
            "Testing on input195\n",
            "Pass: All tests passed successfully.\n",
            "\n",
            "real\t0m0.006s\n",
            "user\t0m0.005s\n",
            "sys\t0m0.001s\n",
            "\n",
            "Pass: All tests passed successfully.\n",
            "Testing on input196\n",
            "Pass: All tests passed successfully.\n",
            "\n",
            "real\t0m0.005s\n",
            "user\t0m0.004s\n",
            "sys\t0m0.001s\n",
            "\n",
            "Pass: All tests passed successfully.\n",
            "Testing on input197\n",
            "Pass: All tests passed successfully.\n",
            "\n",
            "real\t0m0.005s\n",
            "user\t0m0.005s\n",
            "sys\t0m0.000s\n",
            "\n",
            "Pass: All tests passed successfully.\n",
            "Testing on input198\n",
            "Pass: All tests passed successfully.\n",
            "\n",
            "real\t0m0.005s\n",
            "user\t0m0.004s\n",
            "sys\t0m0.000s\n",
            "\n",
            "Pass: All tests passed successfully.\n",
            "Testing on input199\n",
            "Pass: All tests passed successfully.\n",
            "\n",
            "real\t0m0.005s\n",
            "user\t0m0.003s\n",
            "sys\t0m0.002s\n",
            "\n",
            "Pass: All tests passed successfully.\n",
            "Testing on input200\n",
            "Pass: All tests passed successfully.\n",
            "\n",
            "real\t0m0.005s\n",
            "user\t0m0.004s\n",
            "sys\t0m0.001s\n",
            "\n",
            "Pass: All tests passed successfully.\n"
          ]
        }
      ]
    }
  ],
  "metadata": {
    "colab": {
      "provenance": []
    },
    "kernelspec": {
      "display_name": "Python 3",
      "name": "python3"
    },
    "language_info": {
      "name": "python"
    }
  },
  "nbformat": 4,
  "nbformat_minor": 0
}